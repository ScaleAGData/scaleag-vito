{
 "cells": [
  {
   "cell_type": "markdown",
   "metadata": {},
   "source": [
    "# Few-Shot Learning with Presto"
   ]
  },
  {
   "cell_type": "markdown",
   "metadata": {},
   "source": [
    "### Demo Overview \n",
    "\n",
    "The purpose of the Demo is to: \n",
    "\n",
    "- show-case how to effectively train models on limited amount of annotated data\n",
    "- show how multi-sensor and multi-temporal information can be integrated by mean of DL models\n",
    "- highlight the impact on the performance when using classical ML or Fine-Tuned DL models alone or in combination\n",
    "\n",
    "To this end, we will:\n",
    "\n",
    "1) give a short introduction on Foundation Models and Presto\n",
    "2) provide the definition of Few-Shot learning\n",
    "3) apply Presto to perfrom Few-Shot learning on a regression and a classification task\n"
   ]
  },
  {
   "cell_type": "markdown",
   "metadata": {},
   "source": [
    "### 1) Foundation Models\n",
    "\n",
    "A Foundation Model is a model trained on large and diverse unlabeled datasets to learn general patterns and features of the data. Thanks to its strong generalization capabilities, such a model can be adapted for a wide range of applications that use similar types of input data.\n",
    "\n",
    "**Presto** (**P**retrained **Re**mote **S**ensing **T**ransf**o**rmer) is a foundation model trained on a large, unlabeled dataset of Sentinel-2, Sentinel-1, Meteorological and Topography pixel-timeseries data. It is able to capture long-range relationships across time and sensor dimensions, improving the signal-to-noise ratio and providing a concise, informative representation of the inputs. \n",
    "In this project, We made use of the Presto version developed in collaboration with [WorldCereal](https://github.com/WorldCereal/presto-worldcereal/)\n",
    "\n",
    "Originally trained on monthly composites, Presto has been refined to be able to ingest dekadal data and to be fine-tuned for regression and classification tasks.\n",
    "\n",
    "### 2) Few-Shot Learning\n",
    "\n",
    "Few-shot learning aims to develop models that can learn from a small number of labeled instances while enhancing generalization and performance on new, unseen examples.\n",
    "\n",
    "Given a dataset with only a few annotated examples, we can fine-tune a pretrained foundation model to either directly handle the downstream task or generate compressed representations of the inputs, which can then be used to train a machine learning model for the downstream task.\n",
    "The figure below provides an overview of the latter scenario\n",
    "\n",
    "<div style=\"text-align: center;\">\n",
    "    <img src=\"../images/ScaleAG_pipeline_overview_presto_ml.jpg\" alt=\"Overview of a Foundation Model used to produce embeddings which can be fed as training examples to downstream models for different tasks and applications.\" width=\"700\" />\n",
    "    <p><em>Overview of a Foundation Model used to produce embeddings which can be fed as training examples to downstream models for different tasks and applications.</em></p>\n",
    "</div>\n",
    "\n",
    "### 3) Implementing Few-Shot learning with Presto"
   ]
  },
  {
   "cell_type": "code",
   "execution_count": 1,
   "metadata": {},
   "outputs": [
    {
     "name": "stdout",
     "output_type": "stream",
     "text": [
      "The autoreload extension is already loaded. To reload it, use:\n",
      "  %reload_ext autoreload\n"
     ]
    }
   ],
   "source": [
    "%load_ext autoreload\n",
    "%autoreload 2\n",
    "import catboost as cb\n",
    "from catboost import Pool\n",
    "import os\n",
    "from loguru import logger\n",
    "import geopandas as gpd\n",
    "import pandas as pd\n",
    "from pathlib import Path\n",
    "from torch.utils.data import DataLoader\n",
    "from scaleagdata_vito.presto.datasets import ScaleAGDataset\n",
    "from scaleagdata_vito.presto.presto_utils import (\n",
    "    load_pretrained_model_from_url, \n",
    "    evaluate,\n",
    "    evaluate_catboost,\n",
    "    train_catboost_on_encodings,\n",
    ")\n",
    "from scaleagdata_vito.openeo.preprocessing import (\n",
    "    run_openeo_extraction_job, \n",
    "    merge_datacubes\n",
    ")\n",
    "from scaleagdata_vito.demo.utils import (\n",
    "    prepare_data_for_cb,\n",
    "    prepare_cropland_data_for_presto,\n",
    "    compare_performance_regression,\n",
    "    compare_performance_classification,\n",
    ")\n",
    "from openeo_gfmap import (\n",
    "    Backend,\n",
    "    BackendContext,\n",
    "    TemporalContext,\n",
    "    FetchType,\n",
    ")\n",
    "from openeo_gfmap.backend import cdse_connection\n",
    "from openeo_gfmap.manager.job_splitters import split_job_hex\n"
   ]
  },
  {
   "cell_type": "markdown",
   "metadata": {},
   "source": [
    "#### Fetch data from OpenEO\n",
    "\n",
    "To set up the job, we adapt the job parameters to our needs. the compositing strategy is decadal by default\n",
    "\n",
    "```python\n",
    "job_params = dict(\n",
    "    connection=cdse_connection(),\n",
    "    backend_context=BackendContext(Backend.CDSE),\n",
    "    temporal_extent=TemporalContext(\n",
    "        start_date=\"yyyy-mm-dd\", \n",
    "        end_date=\"yyyy-mm-dd\",\n",
    "    ),\n",
    "    fetch_type=FetchType.POINT,\n",
    "    disable_meteo=False,\n",
    "    out_format=\"NetCDF\", \n",
    "    title=\"...\", # name of the job. can be monitored in the OpenEO Editor (https://editor.openeo.org/)\n",
    "    split_dataset=False, # set to True for big and sparse datasets\n",
    "    output_path=\"...\" # where to save the extraction result. path to the parent folder when split_dataset=True \n",
    ")\n",
    "```"
   ]
  },
  {
   "cell_type": "code",
   "execution_count": 30,
   "metadata": {},
   "outputs": [
    {
     "name": "stdout",
     "output_type": "stream",
     "text": [
      "Authenticated using refresh token.\n"
     ]
    }
   ],
   "source": [
    "# load dataframe with labels and polygons we want to extract openeo data for\n",
    "gdf = (\n",
    "    gpd.read_file(\n",
    "        \"/projects/TAP/HEScaleAgData/timeseries_modelling/datasets/\" \\\n",
    "        \"apr2024_AVR_subfields/data/AVR_fields_10000_100000_subfields_yield_bel_nl_roads_removed.geojson\"\n",
    "    ).drop(columns=[\"date\"])\n",
    ")\n",
    "\n",
    "# setup OpenEO job parameters\n",
    "job_params = dict(\n",
    "    connection=cdse_connection(),\n",
    "    backend_context=BackendContext(Backend.CDSE),\n",
    "    temporal_extent=TemporalContext(\n",
    "        start_date=\"2022-01-01\",\n",
    "        end_date=\"2022-12-31\",\n",
    "    ),\n",
    "    fetch_type=FetchType.POINT,\n",
    "    disable_meteo=False,\n",
    "    out_format=\"NetCDF\",\n",
    "    title=\"ScaleAGData_demo\",\n",
    "    split_dataset=False,\n",
    "    output_path=\"/home/vito/millig/gio/data/scaleag_demo/test1\"\n",
    ")\n",
    "\n",
    "output_path = Path(job_params[\"output_path\"])\n",
    "if not os.path.exists(job_params[\"output_path\"]):\n",
    "    output_path.mkdir(parents=True, exist_ok=True)"
   ]
  },
  {
   "cell_type": "code",
   "execution_count": null,
   "metadata": {},
   "outputs": [],
   "source": [
    "if job_params[\"split_dataset\"]:\n",
    "    datasets = split_job_hex(gdf)\n",
    "    for i, sub_gdf in enumerate(datasets):\n",
    "        logger.info(f\"Extracting OpenEO data for subset {i}\")\n",
    "        output_path_frame = output_path / f\"cube_{i}\"\n",
    "        output_path_frame.mkdir(parents=True, exist_ok=True)\n",
    "        run_openeo_extraction_job(sub_gdf, str(output_path_frame), job_params)\n",
    "    subset_files = list(output_path.glob(\"*/*.nc\"))\n",
    "    dataset = subset_files[0]\n",
    "    for d in subset_files[1:]:\n",
    "        dataset = merge_datacubes(dataset, d)\n",
    "    dataset.to_netcdf(output_path / \"demo_dataset_yield.nc\")\n",
    "else:\n",
    "    logger.info(f\"Extracting OpenEO data for dataset\")\n",
    "    run_openeo_extraction_job(gdf, str(output_path), job_params)"
   ]
  },
  {
   "cell_type": "markdown",
   "metadata": {},
   "source": [
    "#### Regression task: yield estimation \n",
    "\n",
    "Potato yield estimation. The data cover fields in Belgium and The Netherlands during the growing season. \n",
    "In order to test the generalization capabilities of the different models and combinations, we limit data correlation by using data from Belgium as training set and those from The Netherlands as validation set."
   ]
  },
  {
   "cell_type": "code",
   "execution_count": 2,
   "metadata": {},
   "outputs": [
    {
     "name": "stdout",
     "output_type": "stream",
     "text": [
      "Number of Training samples: 6229\n",
      "Number of Validation samples: 4186\n"
     ]
    }
   ],
   "source": [
    "# load preprocessed datasets\n",
    "train_df = pd.read_parquet(\n",
    "    \"/home/vito/millig/projects/TAP/HEScaleAgData/data/AVR_subfields/\"\n",
    "    \"train_avr_subfields_10d_BE_4-10_filtered.parquet\"\n",
    "    # \"train_avr_subfields_10d_BE_NL_4-10_filtered.parquet\"\n",
    ")\n",
    "val_df = pd.read_parquet(\n",
    "    \"/home/vito/millig/projects/TAP/HEScaleAgData/data/AVR_subfields/\"\n",
    "    \"val_avr_subfields_10d_NL_4-10_filtered.parquet\"\n",
    "    # \"val_avr_subfields_10d_BE_NL_4-10_filtered.parquet\"\n",
    ")\n",
    "print(f\"Number of Training samples: {len(train_df)}\")\n",
    "print(f\"Number of Validation samples: {len(val_df)}\")"
   ]
  },
  {
   "cell_type": "code",
   "execution_count": 3,
   "metadata": {},
   "outputs": [],
   "source": [
    "dl_train = DataLoader(\n",
    "    ScaleAGDataset(\n",
    "        train_df,         \n",
    "        target_name=\"median_yield\", \n",
    "        task=\"regression\",\n",
    "        num_timesteps=36,\n",
    "        upper_bound=120000,\n",
    "        lower_bound=10000,\n",
    "    ),\n",
    "    batch_size=256,\n",
    "    shuffle=True,\n",
    "    num_workers=2,\n",
    ")\n",
    "\n",
    "dl_val = DataLoader(\n",
    "    ScaleAGDataset(\n",
    "        val_df, \n",
    "        target_name=\"median_yield\", \n",
    "        task=\"regression\",\n",
    "        num_timesteps=36,\n",
    "        upper_bound=120000,\n",
    "        lower_bound=10000,\n",
    "    ),\n",
    "    batch_size=256,\n",
    "    shuffle=False,\n",
    "    num_workers=2,\n",
    ")"
   ]
  },
  {
   "cell_type": "markdown",
   "metadata": {},
   "source": [
    "##### Train Catboost on Presto Encodings"
   ]
  },
  {
   "cell_type": "code",
   "execution_count": 4,
   "metadata": {},
   "outputs": [
    {
     "name": "stderr",
     "output_type": "stream",
     "text": [
      "\u001b[32m2024-12-19 17:40:59.092\u001b[0m | \u001b[1mINFO    \u001b[0m | \u001b[36mscaleagdata_vito.presto.presto_utils\u001b[0m:\u001b[36mload_pretrained_model_from_url\u001b[0m:\u001b[36m112\u001b[0m - \u001b[1mInitialize Presto dekadal architecture with dekadal PrestoFT...\u001b[0m\n",
      "\u001b[32m2024-12-19 17:40:59.195\u001b[0m | \u001b[1mINFO    \u001b[0m | \u001b[36mscaleagdata_vito.presto.presto_utils\u001b[0m:\u001b[36mtrain_catboost_on_encodings\u001b[0m:\u001b[36m378\u001b[0m - \u001b[1mComputing Presto encodings\u001b[0m\n",
      "\u001b[32m2024-12-19 17:42:02.257\u001b[0m | \u001b[1mINFO    \u001b[0m | \u001b[36mscaleagdata_vito.presto.presto_utils\u001b[0m:\u001b[36mtrain_catboost_on_encodings\u001b[0m:\u001b[36m380\u001b[0m - \u001b[1mFitting Catboost model on Presto encodings\u001b[0m\n",
      "TBB Warning: The number of workers is currently limited to 1. The request for 95 workers is ignored. Further requests for more workers will be silently ignored until the limit changes.\n",
      "\n"
     ]
    }
   ],
   "source": [
    "presto_ss_10d_wc_ft_yield = \"https://artifactory.vgt.vito.be/artifactory/auxdata-public/scaleagdata/models/presto-ss-wc_10D_NL-BE_4-10_ft.pt\"\n",
    "model_ft_10d_yield = load_pretrained_model_from_url(\n",
    "    presto_ss_10d_wc_ft_yield, finetuned=True, ss_dekadal=True, strict=False, device=\"cpu\"\n",
    ")\n",
    "presto_cbm = train_catboost_on_encodings(\n",
    "    dl_train, \n",
    "    presto_model=model_ft_10d_yield, \n",
    "    task=\"regression\", \n",
    "    # cb_device=\"GPU\"\n",
    "    )"
   ]
  },
  {
   "cell_type": "markdown",
   "metadata": {},
   "source": [
    "##### Train Catboost on raw data"
   ]
  },
  {
   "cell_type": "code",
   "execution_count": 5,
   "metadata": {},
   "outputs": [],
   "source": [
    "train_cx, train_cy = prepare_data_for_cb(\n",
    "    train_df, \n",
    "    target_name=\"median_yield\",     \n",
    "    lower_bound=dl_train.dataset.lower_bound, \n",
    "    upper_bound=dl_train.dataset.upper_bound, \n",
    "    )\n",
    "\n",
    "val_cx, val_cy = prepare_data_for_cb(\n",
    "    val_df, \n",
    "    target_name=\"median_yield\",     \n",
    "    lower_bound=dl_val.dataset.lower_bound, \n",
    "    upper_bound=dl_val.dataset.upper_bound, \n",
    "    )"
   ]
  },
  {
   "cell_type": "code",
   "execution_count": 6,
   "metadata": {},
   "outputs": [],
   "source": [
    "raw_cbm = cb.CatBoostRegressor(\n",
    "    random_state=3, \n",
    "    logging_level=\"Silent\",\n",
    "    # task_type=\"GPU\",\n",
    "    loss_function=\"RMSE\",\n",
    "    )\n",
    "train_pool = Pool(train_cx, train_cy)\n",
    "raw_cbm.fit(train_pool);"
   ]
  },
  {
   "cell_type": "markdown",
   "metadata": {},
   "source": [
    "##### Evaluate and Compare Performance\n",
    "\n",
    "- **R² Score**: Measures how well the regression model predictions match the actual data\n",
    "\n",
    "- **Mean Absolute Percentage Error (MAPE)**: Measures the average percentage difference between predicted and actual values, providing an idea of the model prediction accuracy\n",
    "\n",
    "- **Explained Variance Score**: Measure of how well the model explains the variability in the data\n"
   ]
  },
  {
   "cell_type": "code",
   "execution_count": 7,
   "metadata": {},
   "outputs": [
    {
     "data": {
      "image/png": "[encoded data removed]",
      "text/plain": [
       "<Figure size 640x480 with 1 Axes>"
      ]
     },
     "metadata": {},
     "output_type": "display_data"
    }
   ],
   "source": [
    "metrics_presto, _, _ = evaluate(\n",
    "    pretrained_model=model_ft_10d_yield,\n",
    "    dl_val=dl_val,\n",
    "    task=\"regression\",\n",
    "    up_val=dl_val.dataset.upper_bound,\n",
    "    low_val=dl_val.dataset.lower_bound,\n",
    ")\n",
    "metrics_presto_cb, _, _ = evaluate(\n",
    "    pretrained_model=model_ft_10d_yield,\n",
    "    ds_model=presto_cbm,\n",
    "    dl_val=dl_val,\n",
    "    task=\"regression\",\n",
    "    up_val=dl_val.dataset.upper_bound,\n",
    "    low_val=dl_val.dataset.lower_bound,\n",
    ")\n",
    "metrics_raw_cb, _, _ = evaluate_catboost(\n",
    "    raw_cbm,\n",
    "    val_cx,\n",
    "    val_cy,\n",
    "    task=\"regression\",\n",
    "    up_val=dl_val.dataset.upper_bound,\n",
    "    low_val=dl_val.dataset.lower_bound,\n",
    ")\n",
    "compare_performance_regression(metrics_raw_cb, metrics_presto_cb, metrics_presto)"
   ]
  },
  {
   "cell_type": "markdown",
   "metadata": {},
   "source": [
    "#### Classification task: Crop/No-Crop\n",
    "\n",
    "Monthly composite data sampled globally and randomly split in training and validation"
   ]
  },
  {
   "cell_type": "code",
   "execution_count": 8,
   "metadata": {},
   "outputs": [
    {
     "name": "stdout",
     "output_type": "stream",
     "text": [
      "Number of Training samples: 6640\n",
      "Number of Validation samples: 5073\n"
     ]
    }
   ],
   "source": [
    "wc_dataset = pd.read_parquet(\n",
    "    \"/home/vito/millig/gio/data/presto_ft/rawts-monthly_calval.parquet\"\n",
    ")\n",
    "\n",
    "val_df = pd.read_csv(\"/home/vito/millig/gio/data/presto_ft/VAL_samples.csv\")\n",
    "\n",
    "wc_train_dataset = wc_dataset[~wc_dataset[\"sample_id\"].isin(val_df[\"sample_id\"])]\n",
    "wc_val_dataset = wc_dataset[wc_dataset[\"sample_id\"].isin(val_df[\"sample_id\"])]\n",
    "\n",
    "wc_train_dataset = prepare_cropland_data_for_presto(wc_train_dataset, sample_frac=0.015)\n",
    "wc_val_dataset = prepare_cropland_data_for_presto(wc_val_dataset, sample_frac=0.04)\n",
    "\n",
    "print(f\"Number of Training samples: {len(wc_train_dataset)}\")\n",
    "print(f\"Number of Validation samples: {len(wc_val_dataset)}\")"
   ]
  },
  {
   "cell_type": "code",
   "execution_count": 9,
   "metadata": {},
   "outputs": [],
   "source": [
    "wc_dl_train = DataLoader(\n",
    "    ScaleAGDataset(\n",
    "        wc_train_dataset, \n",
    "        target_name=\"LANDCOVER_LABEL\",\n",
    "        task=\"binary\",\n",
    "    ),\n",
    "    batch_size=256,\n",
    "    shuffle=True,\n",
    "    num_workers=2,\n",
    ")\n",
    "wc_dl_val = DataLoader(\n",
    "    ScaleAGDataset(\n",
    "        wc_val_dataset,\n",
    "        target_name=\"LANDCOVER_LABEL\",\n",
    "        task=\"binary\",\n",
    "    ),\n",
    "    batch_size=256,\n",
    "    shuffle=False,\n",
    "    num_workers=2,\n",
    ")"
   ]
  },
  {
   "cell_type": "markdown",
   "metadata": {},
   "source": [
    "##### Train Catboost on Presto Encodings"
   ]
  },
  {
   "cell_type": "code",
   "execution_count": 10,
   "metadata": {},
   "outputs": [
    {
     "name": "stderr",
     "output_type": "stream",
     "text": [
      "\u001b[32m2024-12-19 17:44:56.906\u001b[0m | \u001b[1mINFO    \u001b[0m | \u001b[36mscaleagdata_vito.presto.presto_utils\u001b[0m:\u001b[36mload_pretrained_model_from_url\u001b[0m:\u001b[36m112\u001b[0m - \u001b[1mInitialize Presto monthly architecture with dekadal PrestoFT...\u001b[0m\n"
     ]
    },
    {
     "ename": "UnpicklingError",
     "evalue": "invalid load key, '{'.",
     "output_type": "error",
     "traceback": [
      "\u001b[0;31m---------------------------------------------------------------------------\u001b[0m",
      "\u001b[0;31mUnpicklingError\u001b[0m                           Traceback (most recent call last)",
      "Cell \u001b[0;32mIn[10], line 2\u001b[0m\n\u001b[1;32m      1\u001b[0m presto_30d_ft_cropland \u001b[38;5;241m=\u001b[39m \u001b[38;5;124m\"\u001b[39m\u001b[38;5;124mhttps://artifactory.vgt.vito.be/artifactory/auxdata-public/worldcereal/models/PhaseII/presto-ft-cl_30D_cropland_random.pt\u001b[39m\u001b[38;5;124m\"\u001b[39m\n\u001b[0;32m----> 2\u001b[0m model_ft_30d_cropland \u001b[38;5;241m=\u001b[39m \u001b[43mload_pretrained_model_from_url\u001b[49m\u001b[43m(\u001b[49m\n\u001b[1;32m      3\u001b[0m \u001b[43m    \u001b[49m\u001b[43mpresto_30d_ft_cropland\u001b[49m\u001b[43m,\u001b[49m\u001b[43m \u001b[49m\u001b[43mdekadal\u001b[49m\u001b[38;5;241;43m=\u001b[39;49m\u001b[38;5;28;43;01mFalse\u001b[39;49;00m\u001b[43m,\u001b[49m\u001b[43m \u001b[49m\u001b[43mfinetuned\u001b[49m\u001b[38;5;241;43m=\u001b[39;49m\u001b[38;5;28;43;01mTrue\u001b[39;49;00m\u001b[43m,\u001b[49m\u001b[43m \u001b[49m\u001b[43mstrict\u001b[49m\u001b[38;5;241;43m=\u001b[39;49m\u001b[38;5;28;43;01mFalse\u001b[39;49;00m\u001b[43m,\u001b[49m\u001b[43m \u001b[49m\u001b[43mdevice\u001b[49m\u001b[38;5;241;43m=\u001b[39;49m\u001b[38;5;124;43m\"\u001b[39;49m\u001b[38;5;124;43mcpu\u001b[39;49m\u001b[38;5;124;43m\"\u001b[39;49m\n\u001b[1;32m      4\u001b[0m \u001b[43m    \u001b[49m\u001b[43m)\u001b[49m\n\u001b[1;32m      6\u001b[0m wc_presto_cbm \u001b[38;5;241m=\u001b[39m train_catboost_on_encodings(\n\u001b[1;32m      7\u001b[0m     wc_dl_train,\n\u001b[1;32m      8\u001b[0m     presto_model\u001b[38;5;241m=\u001b[39mmodel_ft_30d_cropland,\n\u001b[1;32m      9\u001b[0m     task\u001b[38;5;241m=\u001b[39m\u001b[38;5;124m\"\u001b[39m\u001b[38;5;124mbinary\u001b[39m\u001b[38;5;124m\"\u001b[39m,\n\u001b[1;32m     10\u001b[0m     \u001b[38;5;66;03m# cb_device=\"GPU\",\u001b[39;00m\n\u001b[1;32m     11\u001b[0m )\n",
      "File \u001b[0;32m~/gio/scaleag-vito/src/scaleagdata_vito/presto/presto_utils.py:116\u001b[0m, in \u001b[0;36mload_pretrained_model_from_url\u001b[0;34m(model_url, dekadal, finetuned, ss_dekadal, strict, device, num_outputs)\u001b[0m\n\u001b[1;32m    112\u001b[0m     logger\u001b[38;5;241m.\u001b[39minfo(\n\u001b[1;32m    113\u001b[0m         \u001b[38;5;124mf\u001b[39m\u001b[38;5;124m\"\u001b[39m\u001b[38;5;124mInitialize Presto \u001b[39m\u001b[38;5;132;01m{\u001b[39;00marchitecture\u001b[38;5;132;01m}\u001b[39;00m\u001b[38;5;124m architecture with dekadal PrestoFT...\u001b[39m\u001b[38;5;124m\"\u001b[39m\n\u001b[1;32m    114\u001b[0m     )\n\u001b[1;32m    115\u001b[0m     response \u001b[38;5;241m=\u001b[39m requests\u001b[38;5;241m.\u001b[39mget(model_url)\n\u001b[0;32m--> 116\u001b[0m     best_model \u001b[38;5;241m=\u001b[39m \u001b[43mtorch\u001b[49m\u001b[38;5;241;43m.\u001b[39;49m\u001b[43mload\u001b[49m\u001b[43m(\u001b[49m\u001b[43mio\u001b[49m\u001b[38;5;241;43m.\u001b[39;49m\u001b[43mBytesIO\u001b[49m\u001b[43m(\u001b[49m\u001b[43mresponse\u001b[49m\u001b[38;5;241;43m.\u001b[39;49m\u001b[43mcontent\u001b[49m\u001b[43m)\u001b[49m\u001b[43m,\u001b[49m\u001b[43m \u001b[49m\u001b[43mmap_location\u001b[49m\u001b[38;5;241;43m=\u001b[39;49m\u001b[43mdevice\u001b[49m\u001b[43m)\u001b[49m\n\u001b[1;32m    117\u001b[0m     model\u001b[38;5;241m.\u001b[39mload_state_dict(best_model, strict\u001b[38;5;241m=\u001b[39mstrict)\n\u001b[1;32m    118\u001b[0m \u001b[38;5;28;01melse\u001b[39;00m:\n",
      "File \u001b[0;32m~/miniconda3/envs/sadenv/lib/python3.10/site-packages/torch/serialization.py:1040\u001b[0m, in \u001b[0;36mload\u001b[0;34m(f, map_location, pickle_module, weights_only, mmap, **pickle_load_args)\u001b[0m\n\u001b[1;32m   1038\u001b[0m     \u001b[38;5;28;01mexcept\u001b[39;00m \u001b[38;5;167;01mRuntimeError\u001b[39;00m \u001b[38;5;28;01mas\u001b[39;00m e:\n\u001b[1;32m   1039\u001b[0m         \u001b[38;5;28;01mraise\u001b[39;00m pickle\u001b[38;5;241m.\u001b[39mUnpicklingError(UNSAFE_MESSAGE \u001b[38;5;241m+\u001b[39m \u001b[38;5;28mstr\u001b[39m(e)) \u001b[38;5;28;01mfrom\u001b[39;00m \u001b[38;5;28;01mNone\u001b[39;00m\n\u001b[0;32m-> 1040\u001b[0m \u001b[38;5;28;01mreturn\u001b[39;00m \u001b[43m_legacy_load\u001b[49m\u001b[43m(\u001b[49m\u001b[43mopened_file\u001b[49m\u001b[43m,\u001b[49m\u001b[43m \u001b[49m\u001b[43mmap_location\u001b[49m\u001b[43m,\u001b[49m\u001b[43m \u001b[49m\u001b[43mpickle_module\u001b[49m\u001b[43m,\u001b[49m\u001b[43m \u001b[49m\u001b[38;5;241;43m*\u001b[39;49m\u001b[38;5;241;43m*\u001b[39;49m\u001b[43mpickle_load_args\u001b[49m\u001b[43m)\u001b[49m\n",
      "File \u001b[0;32m~/miniconda3/envs/sadenv/lib/python3.10/site-packages/torch/serialization.py:1262\u001b[0m, in \u001b[0;36m_legacy_load\u001b[0;34m(f, map_location, pickle_module, **pickle_load_args)\u001b[0m\n\u001b[1;32m   1256\u001b[0m \u001b[38;5;28;01mif\u001b[39;00m \u001b[38;5;129;01mnot\u001b[39;00m \u001b[38;5;28mhasattr\u001b[39m(f, \u001b[38;5;124m'\u001b[39m\u001b[38;5;124mreadinto\u001b[39m\u001b[38;5;124m'\u001b[39m) \u001b[38;5;129;01mand\u001b[39;00m (\u001b[38;5;241m3\u001b[39m, \u001b[38;5;241m8\u001b[39m, \u001b[38;5;241m0\u001b[39m) \u001b[38;5;241m<\u001b[39m\u001b[38;5;241m=\u001b[39m sys\u001b[38;5;241m.\u001b[39mversion_info \u001b[38;5;241m<\u001b[39m (\u001b[38;5;241m3\u001b[39m, \u001b[38;5;241m8\u001b[39m, \u001b[38;5;241m2\u001b[39m):\n\u001b[1;32m   1257\u001b[0m     \u001b[38;5;28;01mraise\u001b[39;00m \u001b[38;5;167;01mRuntimeError\u001b[39;00m(\n\u001b[1;32m   1258\u001b[0m         \u001b[38;5;124m\"\u001b[39m\u001b[38;5;124mtorch.load does not work with file-like objects that do not implement readinto on Python 3.8.0 and 3.8.1. \u001b[39m\u001b[38;5;124m\"\u001b[39m\n\u001b[1;32m   1259\u001b[0m         \u001b[38;5;124mf\u001b[39m\u001b[38;5;124m\"\u001b[39m\u001b[38;5;124mReceived object of type \u001b[39m\u001b[38;5;130;01m\\\"\u001b[39;00m\u001b[38;5;132;01m{\u001b[39;00m\u001b[38;5;28mtype\u001b[39m(f)\u001b[38;5;132;01m}\u001b[39;00m\u001b[38;5;130;01m\\\"\u001b[39;00m\u001b[38;5;124m. Please update to Python 3.8.2 or newer to restore this \u001b[39m\u001b[38;5;124m\"\u001b[39m\n\u001b[1;32m   1260\u001b[0m         \u001b[38;5;124m\"\u001b[39m\u001b[38;5;124mfunctionality.\u001b[39m\u001b[38;5;124m\"\u001b[39m)\n\u001b[0;32m-> 1262\u001b[0m magic_number \u001b[38;5;241m=\u001b[39m \u001b[43mpickle_module\u001b[49m\u001b[38;5;241;43m.\u001b[39;49m\u001b[43mload\u001b[49m\u001b[43m(\u001b[49m\u001b[43mf\u001b[49m\u001b[43m,\u001b[49m\u001b[43m \u001b[49m\u001b[38;5;241;43m*\u001b[39;49m\u001b[38;5;241;43m*\u001b[39;49m\u001b[43mpickle_load_args\u001b[49m\u001b[43m)\u001b[49m\n\u001b[1;32m   1263\u001b[0m \u001b[38;5;28;01mif\u001b[39;00m magic_number \u001b[38;5;241m!=\u001b[39m MAGIC_NUMBER:\n\u001b[1;32m   1264\u001b[0m     \u001b[38;5;28;01mraise\u001b[39;00m \u001b[38;5;167;01mRuntimeError\u001b[39;00m(\u001b[38;5;124m\"\u001b[39m\u001b[38;5;124mInvalid magic number; corrupt file?\u001b[39m\u001b[38;5;124m\"\u001b[39m)\n",
      "\u001b[0;31mUnpicklingError\u001b[0m: invalid load key, '{'."
     ]
    }
   ],
   "source": [
    "presto_30d_ft_cropland = \"https://artifactory.vgt.vito.be/artifactory/auxdata-public/worldcereal/models/PhaseII/presto-ft-cl_30D_cropland_random.pt\"\n",
    "model_ft_30d_cropland = load_pretrained_model_from_url(\n",
    "    presto_30d_ft_cropland, dekadal=False, finetuned=True, strict=False, device=\"cpu\"\n",
    "    )\n",
    "\n",
    "wc_presto_cbm = train_catboost_on_encodings(\n",
    "    wc_dl_train,\n",
    "    presto_model=model_ft_30d_cropland,\n",
    "    task=\"binary\",\n",
    "    # cb_device=\"GPU\",\n",
    ")"
   ]
  },
  {
   "cell_type": "markdown",
   "metadata": {},
   "source": [
    "##### Train Catboost on raw data"
   ]
  },
  {
   "cell_type": "code",
   "execution_count": 15,
   "metadata": {},
   "outputs": [],
   "source": [
    "wc_train_cx, wc_train_cy = prepare_data_for_cb(\n",
    "    wc_train_dataset, \n",
    "    target_name=\"LANDCOVER_LABEL\",     \n",
    "    )\n",
    "\n",
    "wc_val_cx, wc_val_cy = prepare_data_for_cb(\n",
    "    wc_val_dataset, \n",
    "    target_name=\"LANDCOVER_LABEL\",     \n",
    "    )"
   ]
  },
  {
   "cell_type": "code",
   "execution_count": 16,
   "metadata": {},
   "outputs": [],
   "source": [
    "wc_raw_cbm = cb.CatBoostClassifier(\n",
    "    random_state=3,\n",
    "    task_type=\"GPU\",\n",
    "    logging_level=\"Silent\",\n",
    ")\n",
    "wc_train_dataset = cb.Pool(wc_train_cx, wc_train_cy)\n",
    "wc_raw_cbm.fit(wc_train_dataset);"
   ]
  },
  {
   "cell_type": "markdown",
   "metadata": {},
   "source": [
    "##### Evaluate and Compare Performance\n",
    "- **Recall**: Measures the proportion of true positives successfully identified by the model\n",
    "\n",
    "- **Precision**: Measures the proportion of predicted positive cases being actually positive\n",
    "\n",
    "- **F1-Score**: Combines precision and recall into a single metric by calculating their harmonic mean. It balances the trade-off between precision and recall, especially useful when you need a single measure of performance."
   ]
  },
  {
   "cell_type": "code",
   "execution_count": 17,
   "metadata": {},
   "outputs": [
    {
     "data": {
      "image/png": "[encoded data removed]",
      "text/plain": [
       "<Figure size 640x480 with 1 Axes>"
      ]
     },
     "metadata": {},
     "output_type": "display_data"
    }
   ],
   "source": [
    "wc_metrics_presto, _, _ = evaluate(\n",
    "    pretrained_model=model_ft_10d_cropland,\n",
    "    dl_val=wc_dl_val,\n",
    "    task=\"binary\",\n",
    ")\n",
    "wc_metrics_presto_cb, _, _ = evaluate(\n",
    "    pretrained_model=model_ft_10d_cropland,\n",
    "    ds_model=wc_presto_cbm,\n",
    "    dl_val=wc_dl_val,\n",
    "    task=\"binary\",\n",
    ")\n",
    "wc_metrics_raw_cb, _, _= evaluate_catboost(\n",
    "    wc_raw_cbm, \n",
    "    wc_val_cx,\n",
    "    wc_val_cy,\n",
    "    task=\"binary\"\n",
    ")\n",
    "compare_performance_classification(wc_metrics_raw_cb, wc_metrics_presto_cb, wc_metrics_presto)"
   ]
  },
  {
   "cell_type": "markdown",
   "metadata": {},
   "source": [
    "### Conclusions\n",
    "\n",
    "- Fine-tuning a foundation model on a target dataset for a specific task can match or exceed the performance of a traditional ML model trained in a supervised manner on raw data.\n",
    "- Foundation Models can be used to integrate multi-sensor and multi-temporal data and create compressed versions of inputs while retaining the important information or to perform the target task directly. The latter solution usually grants better generalization capabilities\n",
    "- classical ML models are more sensitive to overfitting and have limited generalization capabilities on unseen data\n",
    "\n",
    "#### Next steps\n",
    "- Test in the R&I environment \n",
    "- Implement Presto Fine-Tuning in notebook to allow for customizable training \n",
    "- Improve Few-Shot learning: good overall performance at reduced dataset size \n",
    "- Test Presto on different downstream tasks and applications"
   ]
  },
  {
   "cell_type": "code",
   "execution_count": null,
   "metadata": {},
   "outputs": [],
   "source": []
  }
 ],
 "metadata": {
  "kernelspec": {
   "display_name": "sadenv",
   "language": "python",
   "name": "python3"
  },
  "language_info": {
   "codemirror_mode": {
    "name": "ipython",
    "version": 3
   },
   "file_extension": ".py",
   "mimetype": "text/x-python",
   "name": "python",
   "nbconvert_exporter": "python",
   "pygments_lexer": "ipython3",
   "version": "3.10.12"
  }
 },
 "nbformat": 4,
 "nbformat_minor": 4
}
