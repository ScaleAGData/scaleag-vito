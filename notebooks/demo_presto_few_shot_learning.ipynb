{
 "cells": [
  {
   "cell_type": "markdown",
   "metadata": {},
   "source": [
    "# Few-Shot Learning with Presto"
   ]
  },
  {
   "cell_type": "markdown",
   "metadata": {},
   "source": [
    "### Demo Overview \n",
    "\n",
    "The purpose of the Demo is to show-case how to: \n",
    "\n",
    "- effectively train models on limited amount of annotated data\n",
    "- show how multi-sensor and multi-temporal information can be integrated by mean of DL models\n",
    "\n",
    "To this end, we will:\n",
    "\n",
    "1) give a short introduction about Foundation Models and Presto\n",
    "2) provide the definition of Few-Shot learning\n",
    "3) apply Presto to perfrom Few-Shot learning on a regression and a classification task\n"
   ]
  },
  {
   "cell_type": "markdown",
   "metadata": {},
   "source": [
    "### 1) Foundation Models\n",
    "\n",
    "A Foundation Model is a pretrained model that is trained on large and diverse unlabelled datasets to learn general patterns and features. Due to its strong generalization capabilities, it can be adapted for a wide range of applications that use similar types of input data.\n",
    "\n",
    "**Presto** (**P**retrained **Re**mote **S**ensing **T**ransf**o**rmer) is a foundation model trained on a large, unlabeled dataset of multi-sensor remote sensing data (Sentinel-2, Sentinel-1, Meteorological and Topography) pixel-timeseries. It is able to capture long-range relationships across time and sensor dimensions, improving the signal-to-noise ratio and providing a concise, informative representation of the inputs. \n",
    "We made use of the Presto version developed in collaboration with [WorldCereal](https://github.com/WorldCereal/presto-worldcereal/)\n",
    "\n",
    "Originally trained on Montlhy composites, Presto has been refined to be able to ingest decadal data and to be fine-tuned for regression and classification tasks   \n",
    "\n",
    "![General overview of the proposed pipeline for implementing few-shot learning using a Foundation Model pre-trained on multi-sensor data time-series.](/images/ScaleAG_FM_applications.svg)"
   ]
  },
  {
   "cell_type": "code",
   "execution_count": 2,
   "metadata": {},
   "outputs": [
    {
     "name": "stdout",
     "output_type": "stream",
     "text": [
      "The autoreload extension is already loaded. To reload it, use:\n",
      "  %reload_ext autoreload\n"
     ]
    }
   ],
   "source": [
    "%load_ext autoreload\n",
    "%autoreload 2\n",
    "import catboost as cb\n",
    "import os\n",
    "import openeo\n",
    "from loguru import logger\n",
    "import geopandas as gpd\n",
    "from pathlib import Path\n",
    "import numpy as np\n",
    "from torch.utils.data import DataLoader\n",
    "from scaleagdata_vito.presto.presto_utils import evaluate\n",
    "from scaleagdata_vito.presto.datasets import ScaleAG10DDataset\n",
    "from scaleagdata_vito.presto.presto_df import (add_labels, xr_to_df, filter_ts)\n",
    "from scaleagdata_vito.presto.presto_utils import load_pretrained_model_from_url, get_encodings\n",
    "from scaleagdata_vito.openeo.preprocessing import run_openeo_extraction_job, merge_datacubes\n",
    "from openeo_gfmap import (\n",
    "    Backend,\n",
    "    BackendContext,\n",
    "    TemporalContext,\n",
    "    FetchType,\n",
    ")\n",
    "from openeo_gfmap.manager.job_splitters import split_job_hex\n"
   ]
  },
  {
   "cell_type": "markdown",
   "metadata": {},
   "source": [
    "### Load Presto pretrained models"
   ]
  },
  {
   "cell_type": "code",
   "execution_count": 3,
   "metadata": {},
   "outputs": [
    {
     "name": "stderr",
     "output_type": "stream",
     "text": [
      "\u001b[32m2024-09-10 13:10:16.427\u001b[0m | \u001b[1mINFO    \u001b[0m | \u001b[36mscaleagdata_vito.presto.presto_utils\u001b[0m:\u001b[36mload_pretrained_model_from_url\u001b[0m:\u001b[36m56\u001b[0m - \u001b[1m Initialize Presto dekadal architecture with 10d ss trained WorldCereal Presto weights...\u001b[0m\n",
      "\u001b[32m2024-09-10 13:10:16.716\u001b[0m | \u001b[1mINFO    \u001b[0m | \u001b[36mscaleagdata_vito.presto.presto_utils\u001b[0m:\u001b[36mload_pretrained_model_from_url\u001b[0m:\u001b[36m68\u001b[0m - \u001b[1m Initialize Presto dekadal architecture with 30d ss trained WorldCereal Presto weights...\u001b[0m\n"
     ]
    }
   ],
   "source": [
    "# Decadal and Monthly Presto models trained in self-supervised mode on WorldCereal data\n",
    "presto_ss_10d_wc = \"https://artifactory.vgt.vito.be/artifactory/auxdata-public/scaleagdata/models/presto-ss-wc_10D.pt\"\n",
    "presto_ss_30d_wc = \"https://artifactory.vgt.vito.be/artifactory/auxdata-public/scaleagdata/models/presto-ss-wc_30D.pt\"\n",
    "model_wc_10d = load_pretrained_model_from_url(\n",
    "    presto_ss_10d_wc, finetuned=False, ss_dekadal=True, strict=False, device=\"cpu\"\n",
    ")\n",
    "model_wc_30d = load_pretrained_model_from_url(\n",
    "    presto_ss_30d_wc, finetuned=False, ss_dekadal=False, strict=False, device=\"cpu\"\n",
    ")"
   ]
  },
  {
   "cell_type": "markdown",
   "metadata": {},
   "source": [
    "### Fetch data from OpenEO\n",
    "TODO: add description on how to setup job parameters"
   ]
  },
  {
   "cell_type": "code",
   "execution_count": 4,
   "metadata": {},
   "outputs": [
    {
     "name": "stdout",
     "output_type": "stream",
     "text": [
      "Authenticated using refresh token.\n"
     ]
    }
   ],
   "source": [
    "# load dataframe with labels and polygons we want to extract openeo data for\n",
    "gdf = (\n",
    "    gpd.read_file(\n",
    "        \"/projects/TAP/HEScaleAgData/timeseries_modelling/datasets/apr2024_AVR_subfields/data/AVR_fields_10000_100000_subfields_yield_bel_nl_roads_removed.geojson\"\n",
    "    ).iloc[:100]\n",
    "    .drop(columns=[\"date\"])\n",
    ")\n",
    "\n",
    "# setup OpenEO job parameters\n",
    "job_params = dict(\n",
    "    connection=openeo.connect(\"https://openeo.creo.vito.be/openeo/\").authenticate_oidc(),\n",
    "    backend_context=BackendContext(Backend.CDSE),\n",
    "    temporal_extent=TemporalContext(\n",
    "        start_date=\"2022-01-01\",\n",
    "        end_date=\"2022-12-31\",\n",
    "    ),\n",
    "    fetch_type=FetchType.POINT,\n",
    "    disable_meteo=False,\n",
    "    out_format=\"NetCDF\",\n",
    "    title=\"ScaleAGData_demo\",\n",
    "    split_dataset=False,\n",
    "    output_path=\"/home/vito/millig/gio/data/scaleag_demo/test\"\n",
    ")\n",
    "\n",
    "output_path = Path(job_params[\"output_path\"])\n",
    "if not os.path.exists(job_params[\"output_path\"]):\n",
    "    output_path.mkdir(parents=True, exist_ok=True)"
   ]
  },
  {
   "cell_type": "code",
   "execution_count": null,
   "metadata": {},
   "outputs": [],
   "source": [
    "if job_params[\"split_dataset\"]:\n",
    "    datasets = split_job_hex(gdf)\n",
    "    for i, sub_gdf in enumerate(datasets):\n",
    "        logger.info(f\"Extracting OpenEO data for subset {i}\")\n",
    "        output_path_frame = output_path / f\"cube_{i}\"\n",
    "        output_path_frame.mkdir(parents=True, exist_ok=True)\n",
    "        run_openeo_extraction_job(sub_gdf, str(output_path_frame), job_params)\n",
    "else:\n",
    "    logger.info(f\"Extracting OpenEO data for dataset\")\n",
    "    run_openeo_extraction_job(gdf, str(output_path), job_params)"
   ]
  },
  {
   "cell_type": "code",
   "execution_count": 7,
   "metadata": {},
   "outputs": [],
   "source": [
    "subset_files = list(output_path.glob(\"*/*.nc\"))\n",
    "dataset = subset_files[0]\n",
    "for d in subset_files[1:]:\n",
    "    dataset = merge_datacubes(dataset, d)\n",
    "dataset.to_netcdf(output_path / \"demo_dataset_yield.nc\")"
   ]
  },
  {
   "cell_type": "markdown",
   "metadata": {},
   "source": [
    "### Test Presto on yield task "
   ]
  },
  {
   "cell_type": "code",
   "execution_count": 6,
   "metadata": {},
   "outputs": [],
   "source": [
    "dataset_file = \"/home/vito/millig/gio/data/scaleag_demo/test/demo_dataset_yield.nc\"\n",
    "gdf_label_file = (\n",
    "    \"/projects/TAP/HEScaleAgData/\" \\\n",
    "    \"timeseries_modelling/datasets/apr2024_AVR_subfields/\" \\\n",
    "    \"data/AVR_fields_10000_100000_subfields_yield_bel_nl_roads_removed.geojson\"\n",
    ")\n",
    "dataset = add_labels(xr_to_df(dataset_file), gdf_label_file)"
   ]
  },
  {
   "cell_type": "code",
   "execution_count": 7,
   "metadata": {},
   "outputs": [
    {
     "name": "stdout",
     "output_type": "stream",
     "text": [
      "Validation: number of field IDs: 113, number of samples: 1476\n",
      "Training: number of field IDs: 1010, number of samples: 12389\n"
     ]
    }
   ],
   "source": [
    "# split avoiding data leakage\n",
    "np.random.seed(3)\n",
    "df_p = dataset['parentname'].unique()\n",
    "train_frac = 0.90\n",
    "sample_idx = np.random.choice(range(0, len(df_p)), size=int(train_frac*len(df_p)), replace=False)\n",
    "train_df = dataset[dataset['parentname'].isin(df_p[sample_idx])].reset_index(drop=True)\n",
    "val_df = dataset[~dataset['parentname'].isin(df_p[sample_idx])].reset_index(drop=True)\n",
    "\n",
    "print(f\"Validation: number of field IDs: {len(val_df['parentname'].unique())}, number of samples: {len(val_df)}\")\n",
    "print(f\"Training: number of field IDs: {len(train_df['parentname'].unique())}, number of samples: {len(train_df)}\")"
   ]
  },
  {
   "cell_type": "code",
   "execution_count": 8,
   "metadata": {},
   "outputs": [],
   "source": [
    "dl_train = DataLoader(\n",
    "    ScaleAG10DDataset(\n",
    "        train_df, target_name=\"median_yield\", task=\"regression\"\n",
    "    ),\n",
    "    batch_size=256,\n",
    "    shuffle=True,\n",
    "    num_workers=2,\n",
    ")\n",
    "\n",
    "dl_val = DataLoader(\n",
    "    ScaleAG10DDataset(\n",
    "        val_df, target_name=\"median_yield\", task=\"regression\"\n",
    "    ),\n",
    "    batch_size=256,\n",
    "    shuffle=False,\n",
    "    num_workers=2,\n",
    ")"
   ]
  },
  {
   "cell_type": "code",
   "execution_count": 9,
   "metadata": {},
   "outputs": [
    {
     "name": "stderr",
     "output_type": "stream",
     "text": [
      "\u001b[32m2024-09-10 13:15:19.733\u001b[0m | \u001b[1mINFO    \u001b[0m | \u001b[36m__main__\u001b[0m:\u001b[36m<module>\u001b[0m:\u001b[36m4\u001b[0m - \u001b[1mFitting Catboost model with presto-ss-wc_10D encodings\u001b[0m\n",
      "TBB Warning: The number of workers is currently limited to 1. The request for 95 workers is ignored. Further requests for more workers will be silently ignored until the limit changes.\n",
      "\n"
     ]
    },
    {
     "data": {
      "text/plain": [
       "<catboost.core.CatBoostRegressor at 0x7f64a9e3f730>"
      ]
     },
     "execution_count": 9,
     "metadata": {},
     "output_type": "execute_result"
    }
   ],
   "source": [
    "model_name = \"presto-ss-wc_10D\"\n",
    "encodings_np, targets = get_encodings(dl_train, model_wc_10d)\n",
    "\n",
    "logger.info(f\"Fitting Catboost model with {model_name} encodings\")\n",
    "\n",
    "cbm = cb.CatBoostRegressor(\n",
    "    random_state=3,\n",
    "    task_type=\"GPU\",\n",
    "    devices=\"0:1\",\n",
    "    logging_level=\"Silent\",\n",
    "    loss_function=\"RMSE\",\n",
    ")\n",
    "train_dataset = cb.Pool(encodings_np, targets)\n",
    "cbm.fit(train_dataset)"
   ]
  },
  {
   "cell_type": "code",
   "execution_count": 16,
   "metadata": {},
   "outputs": [
    {
     "data": {
      "text/plain": [
       "{'RMSE': 17136.652414557015,\n",
       " 'R2_score': 0.3772495466014979,\n",
       " 'explained_var_score': 0.3902602111794452}"
      ]
     },
     "execution_count": 16,
     "metadata": {},
     "output_type": "execute_result"
    }
   ],
   "source": [
    "metrics, preds, targets = evaluate(\n",
    "    model_wc_10d,\n",
    "    cbm,\n",
    "    dl_val,\n",
    "    task=\"regression\",\n",
    "    up_val=120000,\n",
    "    low_val=10000,\n",
    "    )\n",
    "metrics"
   ]
  },
  {
   "cell_type": "markdown",
   "metadata": {},
   "source": [
    "### Test Presto on Crop/no-Crop task"
   ]
  },
  {
   "cell_type": "code",
   "execution_count": 77,
   "metadata": {},
   "outputs": [
    {
     "name": "stdout",
     "output_type": "stream",
     "text": [
      "Number of Training samples: 22782\n",
      "Number of Validation samples: 5693\n"
     ]
    }
   ],
   "source": [
    "import pandas as pd\n",
    "\n",
    "# Load WorldCereal datasets from artifactory\n",
    "wc_train_dataset = pd.read_parquet(\n",
    "    \"/home/vito/millig/gio/data/presto_ft/rawts-10d_train.parquet\"\n",
    ")\n",
    "\n",
    "wc_val_dataset = pd.read_parquet(\n",
    "    \"/home/vito/millig/gio/data/presto_ft/rawts-10d_val.parquet\"\n",
    ")\n",
    "\n",
    "def filter_remove_noncrops(df: pd.DataFrame) -> pd.DataFrame:\n",
    "    crop_labels = [10, 11, 12, 13]\n",
    "    df = df.loc[df.LANDCOVER_LABEL.isin(crop_labels)]\n",
    "    return df\n",
    "\n",
    "wc_train_dataset = filter_remove_noncrops(wc_train_dataset).sample(frac=0.05)\n",
    "wc_val_dataset = filter_remove_noncrops(wc_val_dataset).sample(frac=0.05)\n",
    "\n",
    "# convert the target variable to binary\n",
    "wc_train_dataset[\"LANDCOVER_LABEL\"] = (\n",
    "    wc_train_dataset[\"LANDCOVER_LABEL\"] == 11\n",
    ").astype(int)\n",
    "\n",
    "wc_val_dataset[\"LANDCOVER_LABEL\"] = (\n",
    "    wc_val_dataset[\"LANDCOVER_LABEL\"] == 11\n",
    "    ).astype(int)\n",
    "\n",
    "print(f\"Number of Training samples: {len(wc_train_dataset)}\")\n",
    "print(f\"Number of Validation samples: {len(wc_val_dataset)}\")"
   ]
  },
  {
   "cell_type": "code",
   "execution_count": 78,
   "metadata": {},
   "outputs": [
    {
     "data": {
      "text/plain": [
       "(0.0, 28475.0)"
      ]
     },
     "execution_count": 78,
     "metadata": {},
     "output_type": "execute_result"
    },
    {
     "data": {
      "image/png": "[encoded data removed]",
      "text/plain": [
       "<Figure size 1000x500 with 2 Axes>"
      ]
     },
     "metadata": {},
     "output_type": "display_data"
    }
   ],
   "source": [
    "import matplotlib.pyplot as plt\n",
    "import seaborn as sns\n",
    "\n",
    "fig, ax = plt.subplots(1, 2, figsize=(10, 5))\n",
    "sns.histplot(wc_train_dataset[\"LANDCOVER_LABEL\"], ax=ax[0], discrete=True, shrink=0.8)\n",
    "ax[0].set_title(\"Training Distribution\")\n",
    "ax[0].set_xticks([0, 1])\n",
    "ax[0].set_xticklabels([\"no crop\", \"crop\"])\n",
    "ax[0].set_xlabel(\"\")\n",
    "ax[0].set_ylabel(\"\")\n",
    "ax[0].set_ylim(0, len(wc_train_dataset) + len(wc_val_dataset))\n",
    "\n",
    "sns.histplot(wc_val_dataset[\"LANDCOVER_LABEL\"], ax=ax[1], discrete=True, shrink=0.8)\n",
    "ax[1].set_title(\"Validation Distribution\")\n",
    "ax[1].set_xticks([0, 1])\n",
    "ax[1].set_xticklabels([\"no crop\", \"crop\"])\n",
    "ax[1].set_xlabel(\"\")\n",
    "ax[1].set_ylabel(\"\")\n",
    "ax[1].set_ylim(0, len(wc_train_dataset) + len(wc_val_dataset))"
   ]
  },
  {
   "cell_type": "code",
   "execution_count": 79,
   "metadata": {},
   "outputs": [],
   "source": [
    "wc_dl_train = DataLoader(\n",
    "    ScaleAG10DDataset(\n",
    "        wc_val_dataset, target_name=\"LANDCOVER_LABEL\", task=\"binary\",\n",
    "    ),\n",
    "    batch_size=256,\n",
    "    shuffle=True,\n",
    "    num_workers=2,\n",
    ")\n",
    "wc_dl_val = DataLoader(\n",
    "    ScaleAG10DDataset(\n",
    "        wc_train_dataset, target_name=\"LANDCOVER_LABEL\", task=\"binary\",\n",
    "    ),\n",
    "    batch_size=256,\n",
    "    shuffle=False,\n",
    "    num_workers=2,\n",
    ")"
   ]
  },
  {
   "cell_type": "code",
   "execution_count": 80,
   "metadata": {},
   "outputs": [],
   "source": [
    "model_name = \"presto-ss-wc_10D\"\n",
    "encodings_train, target_train = get_encodings(wc_dl_train, model_wc_10d)"
   ]
  },
  {
   "cell_type": "code",
   "execution_count": 81,
   "metadata": {},
   "outputs": [
    {
     "name": "stderr",
     "output_type": "stream",
     "text": [
      "\u001b[32m2024-09-10 14:21:02.274\u001b[0m | \u001b[1mINFO    \u001b[0m | \u001b[36m__main__\u001b[0m:\u001b[36m<module>\u001b[0m:\u001b[36m1\u001b[0m - \u001b[1mFitting Catboost model with presto-ss-wc_10D encodings\u001b[0m\n"
     ]
    },
    {
     "data": {
      "text/plain": [
       "<catboost.core.CatBoostClassifier at 0x7f6346f37700>"
      ]
     },
     "execution_count": 81,
     "metadata": {},
     "output_type": "execute_result"
    }
   ],
   "source": [
    "logger.info(f\"Fitting Catboost model with {model_name} encodings\")\n",
    "\n",
    "wc_cbm = cb.CatBoostClassifier(\n",
    "    random_state=3,\n",
    "    task_type=\"GPU\",\n",
    "    devices=\"0:1\",\n",
    "    logging_level=\"Silent\",\n",
    ")\n",
    "train_dataset = cb.Pool(encodings_train, target_train)\n",
    "wc_cbm.fit(train_dataset)"
   ]
  },
  {
   "cell_type": "code",
   "execution_count": 82,
   "metadata": {},
   "outputs": [
    {
     "name": "stdout",
     "output_type": "stream",
     "text": [
      "              precision    recall  f1-score   support\n",
      "\n",
      "           0       0.83      0.87      0.85     13342\n",
      "           1       0.80      0.75      0.78      9440\n",
      "\n",
      "    accuracy                           0.82     22782\n",
      "   macro avg       0.82      0.81      0.81     22782\n",
      "weighted avg       0.82      0.82      0.82     22782\n",
      "\n"
     ]
    }
   ],
   "source": [
    "metrics, preds, targets = evaluate(\n",
    "    model_wc_10d,\n",
    "    wc_cbm,\n",
    "    wc_dl_val,\n",
    "    task=\"binary\",\n",
    ")\n",
    "print(metrics)"
   ]
  },
  {
   "cell_type": "code",
   "execution_count": null,
   "metadata": {},
   "outputs": [],
   "source": []
  }
 ],
 "metadata": {
  "kernelspec": {
   "display_name": "sadenv",
   "language": "python",
   "name": "python3"
  },
  "language_info": {
   "codemirror_mode": {
    "name": "ipython",
    "version": 3
   },
   "file_extension": ".py",
   "mimetype": "text/x-python",
   "name": "python",
   "nbconvert_exporter": "python",
   "pygments_lexer": "ipython3",
   "version": "3.10.12"
  }
 },
 "nbformat": 4,
 "nbformat_minor": 2
}
