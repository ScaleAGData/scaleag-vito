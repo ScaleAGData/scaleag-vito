{
 "cells": [
  {
   "cell_type": "markdown",
   "metadata": {},
   "source": [
    "# Few-Shot Learning with Presto"
   ]
  },
  {
   "cell_type": "markdown",
   "metadata": {},
   "source": [
    "### Demo Overview \n",
    "\n",
    "The purpose of the Demo is to: \n",
    "\n",
    "- show-case how to effectively train models on limited amount of annotated data\n",
    "- show how multi-sensor and multi-temporal information can be integrated by mean of DL models\n",
    "- highlight the impact on the performance when using classical ML or Fine-Tuned DL models alone or in combination\n",
    "\n",
    "To this end, we will:\n",
    "\n",
    "1) give a short introduction on Foundation Models and Presto\n",
    "2) provide the definition of Few-Shot learning\n",
    "3) apply Presto to perfrom Few-Shot learning on a regression and a classification task\n"
   ]
  },
  {
   "cell_type": "markdown",
   "metadata": {},
   "source": [
    "### 1) Foundation Models\n",
    "\n",
    "A Foundation Model is a model trained on large and diverse unlabeled datasets to learn general patterns and features of the data. Thanks to its strong generalization capabilities, such a model can be adapted for a wide range of applications that use similar types of input data.\n",
    "\n",
    "**Presto** (**P**retrained **Re**mote **S**ensing **T**ransf**o**rmer) is a foundation model trained on a large, unlabeled dataset of Sentinel-2, Sentinel-1, Meteorological and Topography pixel-timeseries data. It is able to capture long-range relationships across time and sensor dimensions, improving the signal-to-noise ratio and providing a concise, informative representation of the inputs. \n",
    "In this project, We made use of the Presto version developed in collaboration with [WorldCereal](https://github.com/WorldCereal/presto-worldcereal/)\n",
    "\n",
    "Originally trained on monthly composites, Presto has been refined to be able to ingest decadal data and to be fine-tuned for regression and classification tasks.\n",
    "\n",
    "### 2) Few-Shot Learning\n",
    "\n",
    "Few-shot learning aims to develop models that can learn from a small number of labeled instances while enhancing generalization and performance on new, unseen examples.\n",
    "\n",
    "Given a dataset with only a few annotated examples, we can fine-tune a pretrained foundation model to either directly handle the downstream task or generate compressed representations of the inputs, which can then be used to train a machine learning model for the downstream task.\n",
    "The figure below provides an overview of the latter scenario\n",
    "\n",
    "<div style=\"text-align: center;\">\n",
    "    <img src=\"../images/ScaleAG_FM_applications.jpg\" alt=\"Overview of a Foundation Model used to produce embeddings which can be fed as training examples to downstream models for different tasks and applications.\" width=\"700\" />\n",
    "    <p><em>Overview of a Foundation Model used to produce embeddings which can be fed as training examples to downstream models for different tasks and applications.</em></p>\n",
    "</div>\n",
    "\n",
    "### 3) Implementing Few-Shot learning with Presto"
   ]
  },
  {
   "cell_type": "code",
   "execution_count": 1,
   "metadata": {},
   "outputs": [
    {
     "name": "stdout",
     "output_type": "stream",
     "text": [
      "The autoreload extension is already loaded. To reload it, use:\n",
      "  %reload_ext autoreload\n"
     ]
    }
   ],
   "source": [
    "%load_ext autoreload\n",
    "%autoreload 2\n",
    "import catboost as cb\n",
    "from catboost import Pool\n",
    "import os\n",
    "from loguru import logger\n",
    "import geopandas as gpd\n",
    "import pandas as pd\n",
    "from pathlib import Path\n",
    "from torch.utils.data import DataLoader\n",
    "from scaleagdata_vito.presto.datasets import ScaleAG10DDataset\n",
    "from scaleagdata_vito.presto.presto_utils import (\n",
    "    load_pretrained_model_from_url, \n",
    "    evaluate,\n",
    "    evaluate_catboost,\n",
    "    train_catboost_on_encodings,\n",
    ")\n",
    "from scaleagdata_vito.openeo.preprocessing import (\n",
    "    run_openeo_extraction_job, \n",
    "    merge_datacubes\n",
    ")\n",
    "from scaleagdata_vito.demo.utils import (\n",
    "    prepare_data_for_cb,\n",
    "    prepare_cropland_data_for_presto,\n",
    "    compare_performance_regression,\n",
    "    compare_performance_classification,\n",
    ")\n",
    "from openeo_gfmap import (\n",
    "    Backend,\n",
    "    BackendContext,\n",
    "    TemporalContext,\n",
    "    FetchType,\n",
    ")\n",
    "from openeo_gfmap.backend import cdse_connection\n",
    "from openeo_gfmap.manager.job_splitters import split_job_hex\n"
   ]
  },
  {
   "cell_type": "markdown",
   "metadata": {},
   "source": [
    "#### Fetch data from OpenEO\n",
    "\n",
    "To set up the job, we adapt the job parameters to our needs. the compositing strategy is decadal by default\n",
    "\n",
    "```python\n",
    "job_params = dict(\n",
    "    connection=cdse_connection(),\n",
    "    backend_context=BackendContext(Backend.CDSE),\n",
    "    temporal_extent=TemporalContext(\n",
    "        start_date=\"yyyy-mm-dd\", \n",
    "        end_date=\"yyyy-mm-dd\",\n",
    "    ),\n",
    "    fetch_type=FetchType.POINT,\n",
    "    disable_meteo=False,\n",
    "    out_format=\"NetCDF\", \n",
    "    title=\"...\", # name of the job. can be monitored in the OpenEO Editor (https://editor.openeo.org/)\n",
    "    split_dataset=False, # set to True for big and sparse datasets\n",
    "    output_path=\"...\" # where to save the extraction result. path to the parent folder when split_dataset=True \n",
    ")\n",
    "```"
   ]
  },
  {
   "cell_type": "code",
   "execution_count": 30,
   "metadata": {},
   "outputs": [
    {
     "name": "stdout",
     "output_type": "stream",
     "text": [
      "Authenticated using refresh token.\n"
     ]
    }
   ],
   "source": [
    "# load dataframe with labels and polygons we want to extract openeo data for\n",
    "gdf = (\n",
    "    gpd.read_file(\n",
    "        \"/projects/TAP/HEScaleAgData/timeseries_modelling/datasets/\" \\\n",
    "        \"apr2024_AVR_subfields/data/AVR_fields_10000_100000_subfields_yield_bel_nl_roads_removed.geojson\"\n",
    "    ).drop(columns=[\"date\"])\n",
    ")\n",
    "\n",
    "# setup OpenEO job parameters\n",
    "job_params = dict(\n",
    "    connection=cdse_connection(),\n",
    "    backend_context=BackendContext(Backend.CDSE),\n",
    "    temporal_extent=TemporalContext(\n",
    "        start_date=\"2022-01-01\",\n",
    "        end_date=\"2022-12-31\",\n",
    "    ),\n",
    "    fetch_type=FetchType.POINT,\n",
    "    disable_meteo=False,\n",
    "    out_format=\"NetCDF\",\n",
    "    title=\"ScaleAGData_demo\",\n",
    "    split_dataset=False,\n",
    "    output_path=\"/home/vito/millig/gio/data/scaleag_demo/test1\"\n",
    ")\n",
    "\n",
    "output_path = Path(job_params[\"output_path\"])\n",
    "if not os.path.exists(job_params[\"output_path\"]):\n",
    "    output_path.mkdir(parents=True, exist_ok=True)"
   ]
  },
  {
   "cell_type": "code",
   "execution_count": 14,
   "metadata": {},
   "outputs": [
    {
     "name": "stderr",
     "output_type": "stream",
     "text": [
      "\u001b[32m2024-09-13 10:56:23.637\u001b[0m | \u001b[1mINFO    \u001b[0m | \u001b[36m__main__\u001b[0m:\u001b[36m<module>\u001b[0m:\u001b[36m14\u001b[0m - \u001b[1mExtracting OpenEO data for dataset\u001b[0m\n"
     ]
    },
    {
     "name": "stdout",
     "output_type": "stream",
     "text": [
      "Selected orbit direction: ASCENDING from max accumulated area overlap between bounds and products.\n"
     ]
    },
    {
     "ename": "KeyboardInterrupt",
     "evalue": "",
     "output_type": "error",
     "traceback": [
      "\u001b[0;31m---------------------------------------------------------------------------\u001b[0m",
      "\u001b[0;31mKeyboardInterrupt\u001b[0m                         Traceback (most recent call last)",
      "Cell \u001b[0;32mIn[14], line 15\u001b[0m\n\u001b[1;32m     13\u001b[0m \u001b[38;5;28;01melse\u001b[39;00m:\n\u001b[1;32m     14\u001b[0m     logger\u001b[38;5;241m.\u001b[39minfo(\u001b[38;5;124mf\u001b[39m\u001b[38;5;124m\"\u001b[39m\u001b[38;5;124mExtracting OpenEO data for dataset\u001b[39m\u001b[38;5;124m\"\u001b[39m)\n\u001b[0;32m---> 15\u001b[0m     \u001b[43mrun_openeo_extraction_job\u001b[49m\u001b[43m(\u001b[49m\u001b[43mgdf\u001b[49m\u001b[43m,\u001b[49m\u001b[43m \u001b[49m\u001b[38;5;28;43mstr\u001b[39;49m\u001b[43m(\u001b[49m\u001b[43moutput_path\u001b[49m\u001b[43m)\u001b[49m\u001b[43m,\u001b[49m\u001b[43m \u001b[49m\u001b[43mjob_params\u001b[49m\u001b[43m)\u001b[49m\n",
      "File \u001b[0;32m~/gio/scaleag-vito/src/scaleagdata_vito/openeo/preprocessing.py:163\u001b[0m, in \u001b[0;36mrun_openeo_extraction_job\u001b[0;34m(gdf, output_path, job_params)\u001b[0m\n\u001b[1;32m    152\u001b[0m \u001b[38;5;250m\u001b[39m\u001b[38;5;124;03m\"\"\"\u001b[39;00m\n\u001b[1;32m    153\u001b[0m \u001b[38;5;124;03mRuns an OpenEO extraction job using the provided parameters.\u001b[39;00m\n\u001b[1;32m    154\u001b[0m \u001b[38;5;124;03mArgs:\u001b[39;00m\n\u001b[0;32m   (...)\u001b[0m\n\u001b[1;32m    159\u001b[0m \u001b[38;5;124;03m    None\u001b[39;00m\n\u001b[1;32m    160\u001b[0m \u001b[38;5;124;03m\"\"\"\u001b[39;00m\n\u001b[1;32m    162\u001b[0m geometry_latlon \u001b[38;5;241m=\u001b[39m geojson\u001b[38;5;241m.\u001b[39mloads(gdf\u001b[38;5;241m.\u001b[39mto_json())\n\u001b[0;32m--> 163\u001b[0m inputs \u001b[38;5;241m=\u001b[39m \u001b[43mscaleag_preprocessed_inputs_gfmap\u001b[49m\u001b[43m(\u001b[49m\n\u001b[1;32m    164\u001b[0m \u001b[43m    \u001b[49m\u001b[43mconnection\u001b[49m\u001b[38;5;241;43m=\u001b[39;49m\u001b[43mjob_params\u001b[49m\u001b[43m[\u001b[49m\u001b[38;5;124;43m\"\u001b[39;49m\u001b[38;5;124;43mconnection\u001b[39;49m\u001b[38;5;124;43m\"\u001b[39;49m\u001b[43m]\u001b[49m\u001b[43m,\u001b[49m\n\u001b[1;32m    165\u001b[0m \u001b[43m    \u001b[49m\u001b[43mbackend_context\u001b[49m\u001b[38;5;241;43m=\u001b[39;49m\u001b[43mjob_params\u001b[49m\u001b[43m[\u001b[49m\u001b[38;5;124;43m\"\u001b[39;49m\u001b[38;5;124;43mbackend_context\u001b[39;49m\u001b[38;5;124;43m\"\u001b[39;49m\u001b[43m]\u001b[49m\u001b[43m,\u001b[49m\n\u001b[1;32m    166\u001b[0m \u001b[43m    \u001b[49m\u001b[43mspatial_extent\u001b[49m\u001b[38;5;241;43m=\u001b[39;49m\u001b[43mgeometry_latlon\u001b[49m\u001b[43m,\u001b[49m\n\u001b[1;32m    167\u001b[0m \u001b[43m    \u001b[49m\u001b[43mtemporal_extent\u001b[49m\u001b[38;5;241;43m=\u001b[39;49m\u001b[43mjob_params\u001b[49m\u001b[43m[\u001b[49m\u001b[38;5;124;43m\"\u001b[39;49m\u001b[38;5;124;43mtemporal_extent\u001b[39;49m\u001b[38;5;124;43m\"\u001b[39;49m\u001b[43m]\u001b[49m\u001b[43m,\u001b[49m\n\u001b[1;32m    168\u001b[0m \u001b[43m    \u001b[49m\u001b[43mfetch_type\u001b[49m\u001b[38;5;241;43m=\u001b[39;49m\u001b[43mjob_params\u001b[49m\u001b[43m[\u001b[49m\u001b[38;5;124;43m\"\u001b[39;49m\u001b[38;5;124;43mfetch_type\u001b[39;49m\u001b[38;5;124;43m\"\u001b[39;49m\u001b[43m]\u001b[49m\u001b[43m,\u001b[49m\n\u001b[1;32m    169\u001b[0m \u001b[43m    \u001b[49m\u001b[43mdisable_meteo\u001b[49m\u001b[38;5;241;43m=\u001b[39;49m\u001b[43mjob_params\u001b[49m\u001b[43m[\u001b[49m\u001b[38;5;124;43m\"\u001b[39;49m\u001b[38;5;124;43mdisable_meteo\u001b[39;49m\u001b[38;5;124;43m\"\u001b[39;49m\u001b[43m]\u001b[49m\u001b[43m,\u001b[49m\n\u001b[1;32m    170\u001b[0m \u001b[43m\u001b[49m\u001b[43m)\u001b[49m\n\u001b[1;32m    171\u001b[0m cube \u001b[38;5;241m=\u001b[39m inputs\u001b[38;5;241m.\u001b[39maggregate_spatial(geometries\u001b[38;5;241m=\u001b[39mgeometry_latlon, reducer\u001b[38;5;241m=\u001b[39m\u001b[38;5;124m\"\u001b[39m\u001b[38;5;124mmean\u001b[39m\u001b[38;5;124m\"\u001b[39m)\n\u001b[1;32m    173\u001b[0m job \u001b[38;5;241m=\u001b[39m cube\u001b[38;5;241m.\u001b[39mcreate_job(\n\u001b[1;32m    174\u001b[0m     outputfile\u001b[38;5;241m=\u001b[39moutput_path,\n\u001b[1;32m    175\u001b[0m     out_format\u001b[38;5;241m=\u001b[39mjob_params[\u001b[38;5;124m\"\u001b[39m\u001b[38;5;124mout_format\u001b[39m\u001b[38;5;124m\"\u001b[39m],\n\u001b[0;32m   (...)\u001b[0m\n\u001b[1;32m    181\u001b[0m     },\n\u001b[1;32m    182\u001b[0m )\n",
      "File \u001b[0;32m~/gio/scaleag-vito/src/scaleagdata_vito/openeo/preprocessing.py:142\u001b[0m, in \u001b[0;36mscaleag_preprocessed_inputs_gfmap\u001b[0;34m(connection, backend_context, spatial_extent, temporal_extent, period, fetch_type, disable_meteo, tile_size)\u001b[0m\n\u001b[1;32m    139\u001b[0m data \u001b[38;5;241m=\u001b[39m data\u001b[38;5;241m.\u001b[39mmerge_cubes(dem_data)\n\u001b[1;32m    141\u001b[0m \u001b[38;5;28;01mif\u001b[39;00m \u001b[38;5;129;01mnot\u001b[39;00m disable_meteo:\n\u001b[0;32m--> 142\u001b[0m     meteo_data \u001b[38;5;241m=\u001b[39m \u001b[43mprecomposited_datacube_METEO\u001b[49m\u001b[43m(\u001b[49m\n\u001b[1;32m    143\u001b[0m \u001b[43m        \u001b[49m\u001b[43mconnection\u001b[49m\u001b[38;5;241;43m=\u001b[39;49m\u001b[43mconnection\u001b[49m\u001b[43m,\u001b[49m\n\u001b[1;32m    144\u001b[0m \u001b[43m        \u001b[49m\u001b[43mspatial_extent\u001b[49m\u001b[38;5;241;43m=\u001b[39;49m\u001b[43mspatial_extent\u001b[49m\u001b[43m,\u001b[49m\n\u001b[1;32m    145\u001b[0m \u001b[43m        \u001b[49m\u001b[43mtemporal_extent\u001b[49m\u001b[38;5;241;43m=\u001b[39;49m\u001b[43mtemporal_extent\u001b[49m\u001b[43m,\u001b[49m\n\u001b[1;32m    146\u001b[0m \u001b[43m    \u001b[49m\u001b[43m)\u001b[49m\n\u001b[1;32m    147\u001b[0m     data \u001b[38;5;241m=\u001b[39m data\u001b[38;5;241m.\u001b[39mmerge_cubes(meteo_data)\n\u001b[1;32m    148\u001b[0m \u001b[38;5;28;01mreturn\u001b[39;00m data\n",
      "File \u001b[0;32m~/gio/scaleag-vito/src/scaleagdata_vito/openeo/preprocessing.py:39\u001b[0m, in \u001b[0;36mprecomposited_datacube_METEO\u001b[0;34m(connection, spatial_extent, temporal_extent)\u001b[0m\n\u001b[1;32m     36\u001b[0m spatial_extent \u001b[38;5;241m=\u001b[39m \u001b[38;5;28mdict\u001b[39m(spatial_extent)\n\u001b[1;32m     38\u001b[0m \u001b[38;5;66;03m# Monthly composited METEO data\u001b[39;00m\n\u001b[0;32m---> 39\u001b[0m cube \u001b[38;5;241m=\u001b[39m \u001b[43mconnection\u001b[49m\u001b[38;5;241;43m.\u001b[39;49m\u001b[43mload_stac\u001b[49m\u001b[43m(\u001b[49m\n\u001b[1;32m     40\u001b[0m \u001b[43m    \u001b[49m\u001b[38;5;124;43m\"\u001b[39;49m\u001b[38;5;124;43mhttps://s3.waw3-1.cloudferro.com/swift/v1/agera_10d/stac/collection.json\u001b[39;49m\u001b[38;5;124;43m\"\u001b[39;49m\u001b[43m,\u001b[49m\u001b[43m  \u001b[49m\u001b[38;5;66;43;03m####\u001b[39;49;00m\n\u001b[1;32m     41\u001b[0m \u001b[43m    \u001b[49m\u001b[43mspatial_extent\u001b[49m\u001b[38;5;241;43m=\u001b[39;49m\u001b[43mspatial_extent\u001b[49m\u001b[43m,\u001b[49m\n\u001b[1;32m     42\u001b[0m \u001b[43m    \u001b[49m\u001b[43mtemporal_extent\u001b[49m\u001b[38;5;241;43m=\u001b[39;49m\u001b[43mtemporal_extent\u001b[49m\u001b[43m,\u001b[49m\n\u001b[1;32m     43\u001b[0m \u001b[43m    \u001b[49m\u001b[43mbands\u001b[49m\u001b[38;5;241;43m=\u001b[39;49m\u001b[43m[\u001b[49m\u001b[38;5;124;43m\"\u001b[39;49m\u001b[38;5;124;43mprecipitation-flux\u001b[39;49m\u001b[38;5;124;43m\"\u001b[39;49m\u001b[43m,\u001b[49m\u001b[43m \u001b[49m\u001b[38;5;124;43m\"\u001b[39;49m\u001b[38;5;124;43mtemperature-mean\u001b[39;49m\u001b[38;5;124;43m\"\u001b[39;49m\u001b[43m]\u001b[49m\u001b[43m,\u001b[49m\n\u001b[1;32m     44\u001b[0m \u001b[43m\u001b[49m\u001b[43m)\u001b[49m\n\u001b[1;32m     45\u001b[0m cube\u001b[38;5;241m.\u001b[39mresult_node()\u001b[38;5;241m.\u001b[39mupdate_arguments(featureflags\u001b[38;5;241m=\u001b[39m{\u001b[38;5;124m\"\u001b[39m\u001b[38;5;124mtilesize\u001b[39m\u001b[38;5;124m\"\u001b[39m: \u001b[38;5;241m1\u001b[39m})\n\u001b[1;32m     46\u001b[0m cube \u001b[38;5;241m=\u001b[39m cube\u001b[38;5;241m.\u001b[39mrename_labels(\n\u001b[1;32m     47\u001b[0m     dimension\u001b[38;5;241m=\u001b[39m\u001b[38;5;124m\"\u001b[39m\u001b[38;5;124mbands\u001b[39m\u001b[38;5;124m\"\u001b[39m, target\u001b[38;5;241m=\u001b[39m[\u001b[38;5;124m\"\u001b[39m\u001b[38;5;124mAGERA5-PRECIP\u001b[39m\u001b[38;5;124m\"\u001b[39m, \u001b[38;5;124m\"\u001b[39m\u001b[38;5;124mAGERA5-TMEAN\u001b[39m\u001b[38;5;124m\"\u001b[39m]\n\u001b[1;32m     48\u001b[0m )\n",
      "File \u001b[0;32m~/miniconda3/envs/sadenv/lib/python3.10/site-packages/openeo/rest/connection.py:1419\u001b[0m, in \u001b[0;36mConnection.load_stac\u001b[0;34m(self, url, spatial_extent, temporal_extent, bands, properties)\u001b[0m\n\u001b[1;32m   1417\u001b[0m cube \u001b[38;5;241m=\u001b[39m \u001b[38;5;28mself\u001b[39m\u001b[38;5;241m.\u001b[39mdatacube_from_process(process_id\u001b[38;5;241m=\u001b[39m\u001b[38;5;124m\"\u001b[39m\u001b[38;5;124mload_stac\u001b[39m\u001b[38;5;124m\"\u001b[39m, \u001b[38;5;241m*\u001b[39m\u001b[38;5;241m*\u001b[39marguments)\n\u001b[1;32m   1418\u001b[0m \u001b[38;5;28;01mtry\u001b[39;00m:\n\u001b[0;32m-> 1419\u001b[0m     cube\u001b[38;5;241m.\u001b[39mmetadata \u001b[38;5;241m=\u001b[39m \u001b[43mmetadata_from_stac\u001b[49m\u001b[43m(\u001b[49m\u001b[43murl\u001b[49m\u001b[43m)\u001b[49m\n\u001b[1;32m   1420\u001b[0m \u001b[38;5;28;01mexcept\u001b[39;00m \u001b[38;5;167;01mException\u001b[39;00m:\n\u001b[1;32m   1421\u001b[0m     _log\u001b[38;5;241m.\u001b[39mwarning(\u001b[38;5;124mf\u001b[39m\u001b[38;5;124m\"\u001b[39m\u001b[38;5;124mFailed to extract cube metadata from STAC URL \u001b[39m\u001b[38;5;132;01m{\u001b[39;00murl\u001b[38;5;132;01m}\u001b[39;00m\u001b[38;5;124m\"\u001b[39m, exc_info\u001b[38;5;241m=\u001b[39m\u001b[38;5;28;01mTrue\u001b[39;00m)\n",
      "File \u001b[0;32m~/miniconda3/envs/sadenv/lib/python3.10/site-packages/openeo/metadata.py:574\u001b[0m, in \u001b[0;36mmetadata_from_stac\u001b[0;34m(url)\u001b[0m\n\u001b[1;32m    571\u001b[0m bands \u001b[38;5;241m=\u001b[39m get_band_metadata(collection\u001b[38;5;241m.\u001b[39msummaries\u001b[38;5;241m.\u001b[39mlists)\n\u001b[1;32m    573\u001b[0m \u001b[38;5;66;03m# Summaries is not a required field in a STAC collection, so also check the assets\u001b[39;00m\n\u001b[0;32m--> 574\u001b[0m \u001b[38;5;28;01mfor\u001b[39;00m itm \u001b[38;5;129;01min\u001b[39;00m collection\u001b[38;5;241m.\u001b[39mget_items():\n\u001b[1;32m    575\u001b[0m     band_assets \u001b[38;5;241m=\u001b[39m {asset_id: asset \u001b[38;5;28;01mfor\u001b[39;00m asset_id, asset \u001b[38;5;129;01min\u001b[39;00m itm\u001b[38;5;241m.\u001b[39mget_assets()\u001b[38;5;241m.\u001b[39mitems() \u001b[38;5;28;01mif\u001b[39;00m is_band_asset(asset)}\n\u001b[1;32m    577\u001b[0m     \u001b[38;5;28;01mfor\u001b[39;00m asset \u001b[38;5;129;01min\u001b[39;00m band_assets\u001b[38;5;241m.\u001b[39mvalues():\n",
      "File \u001b[0;32m~/miniconda3/envs/sadenv/lib/python3.10/site-packages/pystac/catalog.py:561\u001b[0m, in \u001b[0;36mCatalog.get_items\u001b[0;34m(self, recursive, *ids)\u001b[0m\n\u001b[1;32m    559\u001b[0m     \u001b[38;5;28;01myield from\u001b[39;00m (i \u001b[38;5;28;01mfor\u001b[39;00m i \u001b[38;5;129;01min\u001b[39;00m items \u001b[38;5;28;01mif\u001b[39;00m i\u001b[38;5;241m.\u001b[39mid \u001b[38;5;129;01min\u001b[39;00m ids)\n\u001b[1;32m    560\u001b[0m \u001b[38;5;28;01melse\u001b[39;00m:\n\u001b[0;32m--> 561\u001b[0m     \u001b[38;5;28;01myield from\u001b[39;00m items\n",
      "File \u001b[0;32m~/miniconda3/envs/sadenv/lib/python3.10/site-packages/pystac/stac_object.py:428\u001b[0m, in \u001b[0;36mSTACObject.get_stac_objects\u001b[0;34m(self, rel, typ, modify_links)\u001b[0m\n\u001b[1;32m    426\u001b[0m link \u001b[38;5;241m=\u001b[39m links[i]\n\u001b[1;32m    427\u001b[0m \u001b[38;5;28;01mif\u001b[39;00m link\u001b[38;5;241m.\u001b[39mrel \u001b[38;5;241m==\u001b[39m rel:\n\u001b[0;32m--> 428\u001b[0m     \u001b[43mlink\u001b[49m\u001b[38;5;241;43m.\u001b[39;49m\u001b[43mresolve_stac_object\u001b[49m\u001b[43m(\u001b[49m\u001b[43mroot\u001b[49m\u001b[38;5;241;43m=\u001b[39;49m\u001b[38;5;28;43mself\u001b[39;49m\u001b[38;5;241;43m.\u001b[39;49m\u001b[43mget_root\u001b[49m\u001b[43m(\u001b[49m\u001b[43m)\u001b[49m\u001b[43m)\u001b[49m\n\u001b[1;32m    429\u001b[0m     \u001b[38;5;28;01mif\u001b[39;00m typ \u001b[38;5;129;01mis\u001b[39;00m \u001b[38;5;28;01mNone\u001b[39;00m \u001b[38;5;129;01mor\u001b[39;00m \u001b[38;5;28misinstance\u001b[39m(link\u001b[38;5;241m.\u001b[39mtarget, typ):\n\u001b[1;32m    430\u001b[0m         \u001b[38;5;28;01myield\u001b[39;00m cast(STACObject, link\u001b[38;5;241m.\u001b[39mtarget)\n",
      "File \u001b[0;32m~/miniconda3/envs/sadenv/lib/python3.10/site-packages/pystac/link.py:330\u001b[0m, in \u001b[0;36mLink.resolve_stac_object\u001b[0;34m(self, root)\u001b[0m\n\u001b[1;32m    327\u001b[0m     \u001b[38;5;28;01mif\u001b[39;00m stac_io \u001b[38;5;129;01mis\u001b[39;00m \u001b[38;5;28;01mNone\u001b[39;00m:\n\u001b[1;32m    328\u001b[0m         stac_io \u001b[38;5;241m=\u001b[39m pystac\u001b[38;5;241m.\u001b[39mStacIO\u001b[38;5;241m.\u001b[39mdefault()\n\u001b[0;32m--> 330\u001b[0m obj \u001b[38;5;241m=\u001b[39m \u001b[43mstac_io\u001b[49m\u001b[38;5;241;43m.\u001b[39;49m\u001b[43mread_stac_object\u001b[49m\u001b[43m(\u001b[49m\u001b[43mtarget_href\u001b[49m\u001b[43m,\u001b[49m\u001b[43m \u001b[49m\u001b[43mroot\u001b[49m\u001b[38;5;241;43m=\u001b[39;49m\u001b[43mroot\u001b[49m\u001b[43m)\u001b[49m\n\u001b[1;32m    331\u001b[0m obj\u001b[38;5;241m.\u001b[39mset_self_href(target_href)\n\u001b[1;32m    332\u001b[0m \u001b[38;5;28;01mif\u001b[39;00m root \u001b[38;5;129;01mis\u001b[39;00m \u001b[38;5;129;01mnot\u001b[39;00m \u001b[38;5;28;01mNone\u001b[39;00m:\n",
      "File \u001b[0;32m~/miniconda3/envs/sadenv/lib/python3.10/site-packages/pystac/stac_io.py:234\u001b[0m, in \u001b[0;36mStacIO.read_stac_object\u001b[0;34m(self, source, root, *args, **kwargs)\u001b[0m\n\u001b[1;32m    208\u001b[0m \u001b[38;5;28;01mdef\u001b[39;00m \u001b[38;5;21mread_stac_object\u001b[39m(\n\u001b[1;32m    209\u001b[0m     \u001b[38;5;28mself\u001b[39m,\n\u001b[1;32m    210\u001b[0m     source: HREF,\n\u001b[0;32m   (...)\u001b[0m\n\u001b[1;32m    213\u001b[0m     \u001b[38;5;241m*\u001b[39m\u001b[38;5;241m*\u001b[39mkwargs: Any,\n\u001b[1;32m    214\u001b[0m ) \u001b[38;5;241m-\u001b[39m\u001b[38;5;241m>\u001b[39m STACObject:\n\u001b[1;32m    215\u001b[0m \u001b[38;5;250m    \u001b[39m\u001b[38;5;124;03m\"\"\"Read a STACObject from a JSON file at the given source.\u001b[39;00m\n\u001b[1;32m    216\u001b[0m \n\u001b[1;32m    217\u001b[0m \u001b[38;5;124;03m    See :func:`StacIO.read_text <pystac.StacIO.read_text>` for usage of\u001b[39;00m\n\u001b[0;32m   (...)\u001b[0m\n\u001b[1;32m    232\u001b[0m \u001b[38;5;124;03m        contained in the file at the given uri.\u001b[39;00m\n\u001b[1;32m    233\u001b[0m \u001b[38;5;124;03m    \"\"\"\u001b[39;00m\n\u001b[0;32m--> 234\u001b[0m     d \u001b[38;5;241m=\u001b[39m \u001b[38;5;28;43mself\u001b[39;49m\u001b[38;5;241;43m.\u001b[39;49m\u001b[43mread_json\u001b[49m\u001b[43m(\u001b[49m\u001b[43msource\u001b[49m\u001b[43m,\u001b[49m\u001b[43m \u001b[49m\u001b[38;5;241;43m*\u001b[39;49m\u001b[43margs\u001b[49m\u001b[43m,\u001b[49m\u001b[43m \u001b[49m\u001b[38;5;241;43m*\u001b[39;49m\u001b[38;5;241;43m*\u001b[39;49m\u001b[43mkwargs\u001b[49m\u001b[43m)\u001b[49m\n\u001b[1;32m    235\u001b[0m     \u001b[38;5;28;01mreturn\u001b[39;00m \u001b[38;5;28mself\u001b[39m\u001b[38;5;241m.\u001b[39mstac_object_from_dict(\n\u001b[1;32m    236\u001b[0m         d, href\u001b[38;5;241m=\u001b[39msource, root\u001b[38;5;241m=\u001b[39mroot, preserve_dict\u001b[38;5;241m=\u001b[39m\u001b[38;5;28;01mFalse\u001b[39;00m\n\u001b[1;32m    237\u001b[0m     )\n",
      "File \u001b[0;32m~/miniconda3/envs/sadenv/lib/python3.10/site-packages/pystac/stac_io.py:205\u001b[0m, in \u001b[0;36mStacIO.read_json\u001b[0;34m(self, source, *args, **kwargs)\u001b[0m\n\u001b[1;32m    188\u001b[0m \u001b[38;5;28;01mdef\u001b[39;00m \u001b[38;5;21mread_json\u001b[39m(\u001b[38;5;28mself\u001b[39m, source: HREF, \u001b[38;5;241m*\u001b[39margs: Any, \u001b[38;5;241m*\u001b[39m\u001b[38;5;241m*\u001b[39mkwargs: Any) \u001b[38;5;241m-\u001b[39m\u001b[38;5;241m>\u001b[39m \u001b[38;5;28mdict\u001b[39m[\u001b[38;5;28mstr\u001b[39m, Any]:\n\u001b[1;32m    189\u001b[0m \u001b[38;5;250m    \u001b[39m\u001b[38;5;124;03m\"\"\"Read a dict from the given source.\u001b[39;00m\n\u001b[1;32m    190\u001b[0m \n\u001b[1;32m    191\u001b[0m \u001b[38;5;124;03m    See :func:`StacIO.read_text <pystac.StacIO.read_text>` for usage of\u001b[39;00m\n\u001b[0;32m   (...)\u001b[0m\n\u001b[1;32m    203\u001b[0m \u001b[38;5;124;03m        given source.\u001b[39;00m\n\u001b[1;32m    204\u001b[0m \u001b[38;5;124;03m    \"\"\"\u001b[39;00m\n\u001b[0;32m--> 205\u001b[0m     txt \u001b[38;5;241m=\u001b[39m \u001b[38;5;28;43mself\u001b[39;49m\u001b[38;5;241;43m.\u001b[39;49m\u001b[43mread_text\u001b[49m\u001b[43m(\u001b[49m\u001b[43msource\u001b[49m\u001b[43m,\u001b[49m\u001b[43m \u001b[49m\u001b[38;5;241;43m*\u001b[39;49m\u001b[43margs\u001b[49m\u001b[43m,\u001b[49m\u001b[43m \u001b[49m\u001b[38;5;241;43m*\u001b[39;49m\u001b[38;5;241;43m*\u001b[39;49m\u001b[43mkwargs\u001b[49m\u001b[43m)\u001b[49m\n\u001b[1;32m    206\u001b[0m     \u001b[38;5;28;01mreturn\u001b[39;00m \u001b[38;5;28mself\u001b[39m\u001b[38;5;241m.\u001b[39mjson_loads(txt)\n",
      "File \u001b[0;32m~/miniconda3/envs/sadenv/lib/python3.10/site-packages/pystac/stac_io.py:282\u001b[0m, in \u001b[0;36mDefaultStacIO.read_text\u001b[0;34m(self, source, *_, **__)\u001b[0m\n\u001b[1;32m    277\u001b[0m \u001b[38;5;250m\u001b[39m\u001b[38;5;124;03m\"\"\"A concrete implementation of :meth:`StacIO.read_text\u001b[39;00m\n\u001b[1;32m    278\u001b[0m \u001b[38;5;124;03m<pystac.StacIO.read_text>`. Converts the ``source`` argument to a string (if it\u001b[39;00m\n\u001b[1;32m    279\u001b[0m \u001b[38;5;124;03mis not already) and delegates to :meth:`DefaultStacIO.read_text_from_href` for\u001b[39;00m\n\u001b[1;32m    280\u001b[0m \u001b[38;5;124;03mopening and reading the file.\"\"\"\u001b[39;00m\n\u001b[1;32m    281\u001b[0m href \u001b[38;5;241m=\u001b[39m \u001b[38;5;28mstr\u001b[39m(os\u001b[38;5;241m.\u001b[39mfspath(source))\n\u001b[0;32m--> 282\u001b[0m \u001b[38;5;28;01mreturn\u001b[39;00m \u001b[38;5;28;43mself\u001b[39;49m\u001b[38;5;241;43m.\u001b[39;49m\u001b[43mread_text_from_href\u001b[49m\u001b[43m(\u001b[49m\u001b[43mhref\u001b[49m\u001b[43m)\u001b[49m\n",
      "File \u001b[0;32m~/miniconda3/envs/sadenv/lib/python3.10/site-packages/pystac/stac_io.py:300\u001b[0m, in \u001b[0;36mDefaultStacIO.read_text_from_href\u001b[0;34m(self, href)\u001b[0m\n\u001b[1;32m    298\u001b[0m     logger\u001b[38;5;241m.\u001b[39mdebug(\u001b[38;5;124mf\u001b[39m\u001b[38;5;124m\"\u001b[39m\u001b[38;5;124mGET \u001b[39m\u001b[38;5;132;01m{\u001b[39;00mhref\u001b[38;5;132;01m}\u001b[39;00m\u001b[38;5;124m Headers: \u001b[39m\u001b[38;5;132;01m{\u001b[39;00m\u001b[38;5;28mself\u001b[39m\u001b[38;5;241m.\u001b[39mheaders\u001b[38;5;132;01m}\u001b[39;00m\u001b[38;5;124m\"\u001b[39m)\n\u001b[1;32m    299\u001b[0m     req \u001b[38;5;241m=\u001b[39m Request(href, headers\u001b[38;5;241m=\u001b[39m\u001b[38;5;28mself\u001b[39m\u001b[38;5;241m.\u001b[39mheaders)\n\u001b[0;32m--> 300\u001b[0m     \u001b[38;5;28;01mwith\u001b[39;00m \u001b[43murlopen\u001b[49m\u001b[43m(\u001b[49m\u001b[43mreq\u001b[49m\u001b[43m)\u001b[49m \u001b[38;5;28;01mas\u001b[39;00m f:\n\u001b[1;32m    301\u001b[0m         href_contents \u001b[38;5;241m=\u001b[39m f\u001b[38;5;241m.\u001b[39mread()\u001b[38;5;241m.\u001b[39mdecode(\u001b[38;5;124m\"\u001b[39m\u001b[38;5;124mutf-8\u001b[39m\u001b[38;5;124m\"\u001b[39m)\n\u001b[1;32m    302\u001b[0m \u001b[38;5;28;01mexcept\u001b[39;00m HTTPError \u001b[38;5;28;01mas\u001b[39;00m e:\n",
      "File \u001b[0;32m~/miniconda3/envs/sadenv/lib/python3.10/urllib/request.py:216\u001b[0m, in \u001b[0;36murlopen\u001b[0;34m(url, data, timeout, cafile, capath, cadefault, context)\u001b[0m\n\u001b[1;32m    214\u001b[0m \u001b[38;5;28;01melse\u001b[39;00m:\n\u001b[1;32m    215\u001b[0m     opener \u001b[38;5;241m=\u001b[39m _opener\n\u001b[0;32m--> 216\u001b[0m \u001b[38;5;28;01mreturn\u001b[39;00m \u001b[43mopener\u001b[49m\u001b[38;5;241;43m.\u001b[39;49m\u001b[43mopen\u001b[49m\u001b[43m(\u001b[49m\u001b[43murl\u001b[49m\u001b[43m,\u001b[49m\u001b[43m \u001b[49m\u001b[43mdata\u001b[49m\u001b[43m,\u001b[49m\u001b[43m \u001b[49m\u001b[43mtimeout\u001b[49m\u001b[43m)\u001b[49m\n",
      "File \u001b[0;32m~/miniconda3/envs/sadenv/lib/python3.10/urllib/request.py:519\u001b[0m, in \u001b[0;36mOpenerDirector.open\u001b[0;34m(self, fullurl, data, timeout)\u001b[0m\n\u001b[1;32m    516\u001b[0m     req \u001b[38;5;241m=\u001b[39m meth(req)\n\u001b[1;32m    518\u001b[0m sys\u001b[38;5;241m.\u001b[39maudit(\u001b[38;5;124m'\u001b[39m\u001b[38;5;124murllib.Request\u001b[39m\u001b[38;5;124m'\u001b[39m, req\u001b[38;5;241m.\u001b[39mfull_url, req\u001b[38;5;241m.\u001b[39mdata, req\u001b[38;5;241m.\u001b[39mheaders, req\u001b[38;5;241m.\u001b[39mget_method())\n\u001b[0;32m--> 519\u001b[0m response \u001b[38;5;241m=\u001b[39m \u001b[38;5;28;43mself\u001b[39;49m\u001b[38;5;241;43m.\u001b[39;49m\u001b[43m_open\u001b[49m\u001b[43m(\u001b[49m\u001b[43mreq\u001b[49m\u001b[43m,\u001b[49m\u001b[43m \u001b[49m\u001b[43mdata\u001b[49m\u001b[43m)\u001b[49m\n\u001b[1;32m    521\u001b[0m \u001b[38;5;66;03m# post-process response\u001b[39;00m\n\u001b[1;32m    522\u001b[0m meth_name \u001b[38;5;241m=\u001b[39m protocol\u001b[38;5;241m+\u001b[39m\u001b[38;5;124m\"\u001b[39m\u001b[38;5;124m_response\u001b[39m\u001b[38;5;124m\"\u001b[39m\n",
      "File \u001b[0;32m~/miniconda3/envs/sadenv/lib/python3.10/urllib/request.py:536\u001b[0m, in \u001b[0;36mOpenerDirector._open\u001b[0;34m(self, req, data)\u001b[0m\n\u001b[1;32m    533\u001b[0m     \u001b[38;5;28;01mreturn\u001b[39;00m result\n\u001b[1;32m    535\u001b[0m protocol \u001b[38;5;241m=\u001b[39m req\u001b[38;5;241m.\u001b[39mtype\n\u001b[0;32m--> 536\u001b[0m result \u001b[38;5;241m=\u001b[39m \u001b[38;5;28;43mself\u001b[39;49m\u001b[38;5;241;43m.\u001b[39;49m\u001b[43m_call_chain\u001b[49m\u001b[43m(\u001b[49m\u001b[38;5;28;43mself\u001b[39;49m\u001b[38;5;241;43m.\u001b[39;49m\u001b[43mhandle_open\u001b[49m\u001b[43m,\u001b[49m\u001b[43m \u001b[49m\u001b[43mprotocol\u001b[49m\u001b[43m,\u001b[49m\u001b[43m \u001b[49m\u001b[43mprotocol\u001b[49m\u001b[43m \u001b[49m\u001b[38;5;241;43m+\u001b[39;49m\n\u001b[1;32m    537\u001b[0m \u001b[43m                          \u001b[49m\u001b[38;5;124;43m'\u001b[39;49m\u001b[38;5;124;43m_open\u001b[39;49m\u001b[38;5;124;43m'\u001b[39;49m\u001b[43m,\u001b[49m\u001b[43m \u001b[49m\u001b[43mreq\u001b[49m\u001b[43m)\u001b[49m\n\u001b[1;32m    538\u001b[0m \u001b[38;5;28;01mif\u001b[39;00m result:\n\u001b[1;32m    539\u001b[0m     \u001b[38;5;28;01mreturn\u001b[39;00m result\n",
      "File \u001b[0;32m~/miniconda3/envs/sadenv/lib/python3.10/urllib/request.py:496\u001b[0m, in \u001b[0;36mOpenerDirector._call_chain\u001b[0;34m(self, chain, kind, meth_name, *args)\u001b[0m\n\u001b[1;32m    494\u001b[0m \u001b[38;5;28;01mfor\u001b[39;00m handler \u001b[38;5;129;01min\u001b[39;00m handlers:\n\u001b[1;32m    495\u001b[0m     func \u001b[38;5;241m=\u001b[39m \u001b[38;5;28mgetattr\u001b[39m(handler, meth_name)\n\u001b[0;32m--> 496\u001b[0m     result \u001b[38;5;241m=\u001b[39m \u001b[43mfunc\u001b[49m\u001b[43m(\u001b[49m\u001b[38;5;241;43m*\u001b[39;49m\u001b[43margs\u001b[49m\u001b[43m)\u001b[49m\n\u001b[1;32m    497\u001b[0m     \u001b[38;5;28;01mif\u001b[39;00m result \u001b[38;5;129;01mis\u001b[39;00m \u001b[38;5;129;01mnot\u001b[39;00m \u001b[38;5;28;01mNone\u001b[39;00m:\n\u001b[1;32m    498\u001b[0m         \u001b[38;5;28;01mreturn\u001b[39;00m result\n",
      "File \u001b[0;32m~/miniconda3/envs/sadenv/lib/python3.10/urllib/request.py:1391\u001b[0m, in \u001b[0;36mHTTPSHandler.https_open\u001b[0;34m(self, req)\u001b[0m\n\u001b[1;32m   1390\u001b[0m \u001b[38;5;28;01mdef\u001b[39;00m \u001b[38;5;21mhttps_open\u001b[39m(\u001b[38;5;28mself\u001b[39m, req):\n\u001b[0;32m-> 1391\u001b[0m     \u001b[38;5;28;01mreturn\u001b[39;00m \u001b[38;5;28;43mself\u001b[39;49m\u001b[38;5;241;43m.\u001b[39;49m\u001b[43mdo_open\u001b[49m\u001b[43m(\u001b[49m\u001b[43mhttp\u001b[49m\u001b[38;5;241;43m.\u001b[39;49m\u001b[43mclient\u001b[49m\u001b[38;5;241;43m.\u001b[39;49m\u001b[43mHTTPSConnection\u001b[49m\u001b[43m,\u001b[49m\u001b[43m \u001b[49m\u001b[43mreq\u001b[49m\u001b[43m,\u001b[49m\n\u001b[1;32m   1392\u001b[0m \u001b[43m        \u001b[49m\u001b[43mcontext\u001b[49m\u001b[38;5;241;43m=\u001b[39;49m\u001b[38;5;28;43mself\u001b[39;49m\u001b[38;5;241;43m.\u001b[39;49m\u001b[43m_context\u001b[49m\u001b[43m,\u001b[49m\u001b[43m \u001b[49m\u001b[43mcheck_hostname\u001b[49m\u001b[38;5;241;43m=\u001b[39;49m\u001b[38;5;28;43mself\u001b[39;49m\u001b[38;5;241;43m.\u001b[39;49m\u001b[43m_check_hostname\u001b[49m\u001b[43m)\u001b[49m\n",
      "File \u001b[0;32m~/miniconda3/envs/sadenv/lib/python3.10/urllib/request.py:1317\u001b[0m, in \u001b[0;36mAbstractHTTPHandler.do_open\u001b[0;34m(self, http_class, req, **http_conn_args)\u001b[0m\n\u001b[1;32m   1314\u001b[0m     \u001b[38;5;28;01mraise\u001b[39;00m URLError(\u001b[38;5;124m'\u001b[39m\u001b[38;5;124mno host given\u001b[39m\u001b[38;5;124m'\u001b[39m)\n\u001b[1;32m   1316\u001b[0m \u001b[38;5;66;03m# will parse host:port\u001b[39;00m\n\u001b[0;32m-> 1317\u001b[0m h \u001b[38;5;241m=\u001b[39m \u001b[43mhttp_class\u001b[49m\u001b[43m(\u001b[49m\u001b[43mhost\u001b[49m\u001b[43m,\u001b[49m\u001b[43m \u001b[49m\u001b[43mtimeout\u001b[49m\u001b[38;5;241;43m=\u001b[39;49m\u001b[43mreq\u001b[49m\u001b[38;5;241;43m.\u001b[39;49m\u001b[43mtimeout\u001b[49m\u001b[43m,\u001b[49m\u001b[43m \u001b[49m\u001b[38;5;241;43m*\u001b[39;49m\u001b[38;5;241;43m*\u001b[39;49m\u001b[43mhttp_conn_args\u001b[49m\u001b[43m)\u001b[49m\n\u001b[1;32m   1318\u001b[0m h\u001b[38;5;241m.\u001b[39mset_debuglevel(\u001b[38;5;28mself\u001b[39m\u001b[38;5;241m.\u001b[39m_debuglevel)\n\u001b[1;32m   1320\u001b[0m headers \u001b[38;5;241m=\u001b[39m \u001b[38;5;28mdict\u001b[39m(req\u001b[38;5;241m.\u001b[39munredirected_hdrs)\n",
      "File \u001b[0;32m~/miniconda3/envs/sadenv/lib/python3.10/http/client.py:1422\u001b[0m, in \u001b[0;36mHTTPSConnection.__init__\u001b[0;34m(self, host, port, key_file, cert_file, timeout, source_address, context, check_hostname, blocksize)\u001b[0m\n\u001b[1;32m   1420\u001b[0m \u001b[38;5;28mself\u001b[39m\u001b[38;5;241m.\u001b[39mcert_file \u001b[38;5;241m=\u001b[39m cert_file\n\u001b[1;32m   1421\u001b[0m \u001b[38;5;28;01mif\u001b[39;00m context \u001b[38;5;129;01mis\u001b[39;00m \u001b[38;5;28;01mNone\u001b[39;00m:\n\u001b[0;32m-> 1422\u001b[0m     context \u001b[38;5;241m=\u001b[39m \u001b[43mssl\u001b[49m\u001b[38;5;241;43m.\u001b[39;49m\u001b[43m_create_default_https_context\u001b[49m\u001b[43m(\u001b[49m\u001b[43m)\u001b[49m\n\u001b[1;32m   1423\u001b[0m     \u001b[38;5;66;03m# send ALPN extension to indicate HTTP/1.1 protocol\u001b[39;00m\n\u001b[1;32m   1424\u001b[0m     \u001b[38;5;28;01mif\u001b[39;00m \u001b[38;5;28mself\u001b[39m\u001b[38;5;241m.\u001b[39m_http_vsn \u001b[38;5;241m==\u001b[39m \u001b[38;5;241m11\u001b[39m:\n",
      "File \u001b[0;32m~/miniconda3/envs/sadenv/lib/python3.10/ssl.py:771\u001b[0m, in \u001b[0;36mcreate_default_context\u001b[0;34m(purpose, cafile, capath, cadata)\u001b[0m\n\u001b[1;32m    766\u001b[0m     context\u001b[38;5;241m.\u001b[39mload_verify_locations(cafile, capath, cadata)\n\u001b[1;32m    767\u001b[0m \u001b[38;5;28;01melif\u001b[39;00m context\u001b[38;5;241m.\u001b[39mverify_mode \u001b[38;5;241m!=\u001b[39m CERT_NONE:\n\u001b[1;32m    768\u001b[0m     \u001b[38;5;66;03m# no explicit cafile, capath or cadata but the verify mode is\u001b[39;00m\n\u001b[1;32m    769\u001b[0m     \u001b[38;5;66;03m# CERT_OPTIONAL or CERT_REQUIRED. Let's try to load default system\u001b[39;00m\n\u001b[1;32m    770\u001b[0m     \u001b[38;5;66;03m# root CA certificates for the given purpose. This may fail silently.\u001b[39;00m\n\u001b[0;32m--> 771\u001b[0m     \u001b[43mcontext\u001b[49m\u001b[38;5;241;43m.\u001b[39;49m\u001b[43mload_default_certs\u001b[49m\u001b[43m(\u001b[49m\u001b[43mpurpose\u001b[49m\u001b[43m)\u001b[49m\n\u001b[1;32m    772\u001b[0m \u001b[38;5;66;03m# OpenSSL 1.1.1 keylog file\u001b[39;00m\n\u001b[1;32m    773\u001b[0m \u001b[38;5;28;01mif\u001b[39;00m \u001b[38;5;28mhasattr\u001b[39m(context, \u001b[38;5;124m'\u001b[39m\u001b[38;5;124mkeylog_filename\u001b[39m\u001b[38;5;124m'\u001b[39m):\n",
      "File \u001b[0;32m~/miniconda3/envs/sadenv/lib/python3.10/ssl.py:593\u001b[0m, in \u001b[0;36mSSLContext.load_default_certs\u001b[0;34m(self, purpose)\u001b[0m\n\u001b[1;32m    591\u001b[0m     \u001b[38;5;28;01mfor\u001b[39;00m storename \u001b[38;5;129;01min\u001b[39;00m \u001b[38;5;28mself\u001b[39m\u001b[38;5;241m.\u001b[39m_windows_cert_stores:\n\u001b[1;32m    592\u001b[0m         \u001b[38;5;28mself\u001b[39m\u001b[38;5;241m.\u001b[39m_load_windows_store_certs(storename, purpose)\n\u001b[0;32m--> 593\u001b[0m \u001b[38;5;28;43mself\u001b[39;49m\u001b[38;5;241;43m.\u001b[39;49m\u001b[43mset_default_verify_paths\u001b[49m\u001b[43m(\u001b[49m\u001b[43m)\u001b[49m\n",
      "\u001b[0;31mKeyboardInterrupt\u001b[0m: "
     ]
    }
   ],
   "source": [
    "if job_params[\"split_dataset\"]:\n",
    "    datasets = split_job_hex(gdf)\n",
    "    for i, sub_gdf in enumerate(datasets):\n",
    "        logger.info(f\"Extracting OpenEO data for subset {i}\")\n",
    "        output_path_frame = output_path / f\"cube_{i}\"\n",
    "        output_path_frame.mkdir(parents=True, exist_ok=True)\n",
    "        run_openeo_extraction_job(sub_gdf, str(output_path_frame), job_params)\n",
    "    subset_files = list(output_path.glob(\"*/*.nc\"))\n",
    "    dataset = subset_files[0]\n",
    "    for d in subset_files[1:]:\n",
    "        dataset = merge_datacubes(dataset, d)\n",
    "    dataset.to_netcdf(output_path / \"demo_dataset_yield.nc\")\n",
    "else:\n",
    "    logger.info(f\"Extracting OpenEO data for dataset\")\n",
    "    run_openeo_extraction_job(gdf, str(output_path), job_params)"
   ]
  },
  {
   "cell_type": "markdown",
   "metadata": {},
   "source": [
    "#### Regression task: yield estimation \n",
    "\n",
    "Potato yield estimation. The data cover fields in Belgium and The Netherlands during the growing season. \n",
    "In order to test the generalization capabilities of the different models and combinations, we limit data correlation by using data from Belgium as training set and those from The Netherlands as validation set."
   ]
  },
  {
   "cell_type": "code",
   "execution_count": 5,
   "metadata": {},
   "outputs": [
    {
     "name": "stdout",
     "output_type": "stream",
     "text": [
      "Number of Training samples: 6229\n",
      "Number of Validation samples: 4186\n"
     ]
    }
   ],
   "source": [
    "# load preprocessed datasets\n",
    "train_df = pd.read_parquet(\n",
    "    \"/home/vito/millig/projects/TAP/HEScaleAgData/data/AVR_subfields/\"\n",
    "    \"train_avr_subfields_10d_BE_4-10_filtered.parquet\"\n",
    "    # \"train_avr_subfields_10d_BE_NL_4-10_filtered.parquet\"\n",
    ")\n",
    "val_df = pd.read_parquet(\n",
    "    \"/home/vito/millig/projects/TAP/HEScaleAgData/data/AVR_subfields/\"\n",
    "    \"val_avr_subfields_10d_NL_4-10_filtered.parquet\"\n",
    "    # \"val_avr_subfields_10d_BE_NL_4-10_filtered.parquet\"\n",
    ")\n",
    "print(f\"Number of Training samples: {len(train_df)}\")\n",
    "print(f\"Number of Validation samples: {len(val_df)}\")"
   ]
  },
  {
   "cell_type": "code",
   "execution_count": 6,
   "metadata": {},
   "outputs": [],
   "source": [
    "# val_df.head(5)"
   ]
  },
  {
   "cell_type": "code",
   "execution_count": 7,
   "metadata": {},
   "outputs": [],
   "source": [
    "dl_train = DataLoader(\n",
    "    ScaleAG10DDataset(\n",
    "        train_df, target_name=\"median_yield\", task=\"regression\"\n",
    "    ),\n",
    "    batch_size=256,\n",
    "    shuffle=True,\n",
    "    num_workers=2,\n",
    ")\n",
    "\n",
    "dl_val = DataLoader(\n",
    "    ScaleAG10DDataset(\n",
    "        val_df, target_name=\"median_yield\", task=\"regression\"\n",
    "    ),\n",
    "    batch_size=256,\n",
    "    shuffle=False,\n",
    "    num_workers=2,\n",
    ")"
   ]
  },
  {
   "cell_type": "markdown",
   "metadata": {},
   "source": [
    "##### Train Catboost on Presto Encodings"
   ]
  },
  {
   "cell_type": "code",
   "execution_count": 8,
   "metadata": {},
   "outputs": [
    {
     "name": "stderr",
     "output_type": "stream",
     "text": [
      "\u001b[32m2024-09-16 10:23:35.884\u001b[0m | \u001b[1mINFO    \u001b[0m | \u001b[36mscaleagdata_vito.presto.presto_utils\u001b[0m:\u001b[36mload_pretrained_model_from_url\u001b[0m:\u001b[36m94\u001b[0m - \u001b[1m Initialize Presto dekadal architecture with dekadal PrestoFT...\u001b[0m\n",
      "\u001b[32m2024-09-16 10:23:36.132\u001b[0m | \u001b[1mINFO    \u001b[0m | \u001b[36mscaleagdata_vito.presto.presto_utils\u001b[0m:\u001b[36mtrain_catboost_on_encodings\u001b[0m:\u001b[36m356\u001b[0m - \u001b[1mComputing Presto encodings\u001b[0m\n",
      "\u001b[32m2024-09-16 10:24:28.672\u001b[0m | \u001b[1mINFO    \u001b[0m | \u001b[36mscaleagdata_vito.presto.presto_utils\u001b[0m:\u001b[36mtrain_catboost_on_encodings\u001b[0m:\u001b[36m358\u001b[0m - \u001b[1mFitting Catboost model on Presto encodings\u001b[0m\n",
      "TBB Warning: The number of workers is currently limited to 1. The request for 95 workers is ignored. Further requests for more workers will be silently ignored until the limit changes.\n",
      "\n"
     ]
    }
   ],
   "source": [
    "presto_ss_10d_wc_ft_yield = \"https://artifactory.vgt.vito.be/artifactory/auxdata-public/scaleagdata/models/presto-ss-wc_10D_NL-BE_4-10_ft.pt\"\n",
    "model_ft_10d_yield = load_pretrained_model_from_url(\n",
    "    presto_ss_10d_wc_ft_yield, finetuned=True, ss_dekadal=True, strict=False, device=\"cpu\"\n",
    ")\n",
    "presto_cbm = train_catboost_on_encodings(\n",
    "    dl_train, \n",
    "    presto_model=model_ft_10d_yield, \n",
    "    task=\"regression\", \n",
    "    cb_device=\"GPU\"\n",
    "    )"
   ]
  },
  {
   "cell_type": "markdown",
   "metadata": {},
   "source": [
    "##### Train Catboost on raw data"
   ]
  },
  {
   "cell_type": "code",
   "execution_count": 9,
   "metadata": {},
   "outputs": [],
   "source": [
    "train_cx, train_cy = prepare_data_for_cb(\n",
    "    train_df, \n",
    "    target_name=\"median_yield\",     \n",
    "    lower_bound=dl_train.dataset.LOWER_BOUND, \n",
    "    upper_bound=dl_train.dataset.UPPER_BOUND, \n",
    "    )\n",
    "\n",
    "val_cx, val_cy = prepare_data_for_cb(\n",
    "    val_df, \n",
    "    target_name=\"median_yield\",     \n",
    "    lower_bound=dl_val.dataset.LOWER_BOUND, \n",
    "    upper_bound=dl_val.dataset.UPPER_BOUND, \n",
    "    )"
   ]
  },
  {
   "cell_type": "code",
   "execution_count": 10,
   "metadata": {},
   "outputs": [],
   "source": [
    "raw_cbm = cb.CatBoostRegressor(\n",
    "    random_state=3, \n",
    "    logging_level=\"Silent\",\n",
    "    task_type=\"GPU\",\n",
    "    loss_function=\"RMSE\",\n",
    "    )\n",
    "train_pool = Pool(train_cx, train_cy)\n",
    "raw_cbm.fit(train_pool);"
   ]
  },
  {
   "cell_type": "markdown",
   "metadata": {},
   "source": [
    "##### Evaluate and Compare Performance\n",
    "\n",
    "- **R² Score**: Measures how well the regression model predictions match the actual data\n",
    "\n",
    "- **Mean Absolute Percentage Error (MAPE)**: Measures the average percentage difference between predicted and actual values, providing an idea of the model prediction accuracy\n",
    "\n",
    "- **Explained Variance Score**: Measure of how well the model explains the variability in the data\n"
   ]
  },
  {
   "cell_type": "code",
   "execution_count": 11,
   "metadata": {},
   "outputs": [
    {
     "data": {
      "image/png": "[encoded data removed]",
      "text/plain": [
       "<Figure size 640x480 with 1 Axes>"
      ]
     },
     "metadata": {},
     "output_type": "display_data"
    }
   ],
   "source": [
    "metrics_presto, _, _ = evaluate(\n",
    "    pretrained_model=model_ft_10d_yield,\n",
    "    dl_val=dl_val,\n",
    "    task=\"regression\",\n",
    "    up_val=dl_val.dataset.UPPER_BOUND,\n",
    "    low_val=dl_val.dataset.LOWER_BOUND,\n",
    ")\n",
    "metrics_presto_cb, _, _ = evaluate(\n",
    "    pretrained_model=model_ft_10d_yield,\n",
    "    ds_model=presto_cbm,\n",
    "    dl_val=dl_val,\n",
    "    task=\"regression\",\n",
    "    up_val=dl_val.dataset.UPPER_BOUND,\n",
    "    low_val=dl_val.dataset.LOWER_BOUND,\n",
    ")\n",
    "metrics_raw_cb, _, _ = evaluate_catboost(\n",
    "    raw_cbm,\n",
    "    val_cx,\n",
    "    val_cy,\n",
    "    task=\"regression\",\n",
    "    up_val=dl_val.dataset.UPPER_BOUND,\n",
    "    low_val=dl_val.dataset.LOWER_BOUND,\n",
    ")\n",
    "compare_performance_regression(metrics_raw_cb, metrics_presto_cb, metrics_presto)"
   ]
  },
  {
   "cell_type": "markdown",
   "metadata": {},
   "source": [
    "#### Classification task: Crop/No-Crop\n",
    "\n",
    "Data sampled globally and randomly split in training and validation"
   ]
  },
  {
   "cell_type": "code",
   "execution_count": 12,
   "metadata": {},
   "outputs": [
    {
     "name": "stdout",
     "output_type": "stream",
     "text": [
      "Number of Training samples: 6835\n",
      "Number of Validation samples: 4555\n"
     ]
    }
   ],
   "source": [
    "wc_train_dataset = pd.read_parquet(\n",
    "    \"/home/vito/millig/gio/data/presto_ft/rawts-10d_train.parquet\"\n",
    ")\n",
    "\n",
    "wc_val_dataset = pd.read_parquet(\n",
    "    \"/home/vito/millig/gio/data/presto_ft/rawts-10d_val.parquet\"\n",
    ")\n",
    "\n",
    "wc_train_dataset = prepare_cropland_data_for_presto(wc_train_dataset, sample_frac=0.015)\n",
    "wc_val_dataset = prepare_cropland_data_for_presto(wc_val_dataset, sample_frac=0.04)\n",
    "\n",
    "print(f\"Number of Training samples: {len(wc_train_dataset)}\")\n",
    "print(f\"Number of Validation samples: {len(wc_val_dataset)}\")"
   ]
  },
  {
   "cell_type": "code",
   "execution_count": 13,
   "metadata": {},
   "outputs": [],
   "source": [
    "wc_dl_train = DataLoader(\n",
    "    ScaleAG10DDataset(\n",
    "        wc_train_dataset, \n",
    "        target_name=\"LANDCOVER_LABEL\",\n",
    "        task=\"binary\",\n",
    "    ),\n",
    "    batch_size=256,\n",
    "    shuffle=True,\n",
    "    num_workers=2,\n",
    ")\n",
    "wc_dl_val = DataLoader(\n",
    "    ScaleAG10DDataset(\n",
    "        wc_val_dataset,\n",
    "        target_name=\"LANDCOVER_LABEL\",\n",
    "        task=\"binary\",\n",
    "    ),\n",
    "    batch_size=256,\n",
    "    shuffle=False,\n",
    "    num_workers=2,\n",
    ")"
   ]
  },
  {
   "cell_type": "markdown",
   "metadata": {},
   "source": [
    "##### Train Catboost on Presto Encodings"
   ]
  },
  {
   "cell_type": "code",
   "execution_count": 14,
   "metadata": {},
   "outputs": [
    {
     "name": "stderr",
     "output_type": "stream",
     "text": [
      "\u001b[32m2024-09-16 10:26:16.899\u001b[0m | \u001b[1mINFO    \u001b[0m | \u001b[36mscaleagdata_vito.presto.presto_utils\u001b[0m:\u001b[36mload_pretrained_model_from_url\u001b[0m:\u001b[36m94\u001b[0m - \u001b[1m Initialize Presto dekadal architecture with dekadal PrestoFT...\u001b[0m\n",
      "\u001b[32m2024-09-16 10:26:17.133\u001b[0m | \u001b[1mINFO    \u001b[0m | \u001b[36mscaleagdata_vito.presto.presto_utils\u001b[0m:\u001b[36mtrain_catboost_on_encodings\u001b[0m:\u001b[36m356\u001b[0m - \u001b[1mComputing Presto encodings\u001b[0m\n",
      "\u001b[32m2024-09-16 10:28:03.694\u001b[0m | \u001b[1mINFO    \u001b[0m | \u001b[36mscaleagdata_vito.presto.presto_utils\u001b[0m:\u001b[36mtrain_catboost_on_encodings\u001b[0m:\u001b[36m358\u001b[0m - \u001b[1mFitting Catboost model on Presto encodings\u001b[0m\n"
     ]
    }
   ],
   "source": [
    "presto_10d_ft_cropland = \"https://artifactory.vgt.vito.be/artifactory/auxdata-public/scaleagdata/models/presto-ft-cl_10D_cropland.pt\"\n",
    "model_ft_10d_cropland = load_pretrained_model_from_url(\n",
    "    presto_10d_ft_cropland, finetuned=True, strict=False, device=\"cpu\"\n",
    "    )\n",
    "\n",
    "wc_presto_cbm = train_catboost_on_encodings(\n",
    "    wc_dl_train,\n",
    "    presto_model=model_ft_10d_cropland,\n",
    "    task=\"binary\",\n",
    "    cb_device=\"GPU\",\n",
    ")"
   ]
  },
  {
   "cell_type": "markdown",
   "metadata": {},
   "source": [
    "##### Train Catboost on raw data"
   ]
  },
  {
   "cell_type": "code",
   "execution_count": 15,
   "metadata": {},
   "outputs": [],
   "source": [
    "wc_train_cx, wc_train_cy = prepare_data_for_cb(\n",
    "    wc_train_dataset, \n",
    "    target_name=\"LANDCOVER_LABEL\",     \n",
    "    )\n",
    "\n",
    "wc_val_cx, wc_val_cy = prepare_data_for_cb(\n",
    "    wc_val_dataset, \n",
    "    target_name=\"LANDCOVER_LABEL\",     \n",
    "    )"
   ]
  },
  {
   "cell_type": "code",
   "execution_count": 16,
   "metadata": {},
   "outputs": [],
   "source": [
    "wc_raw_cbm = cb.CatBoostClassifier(\n",
    "    random_state=3,\n",
    "    task_type=\"GPU\",\n",
    "    logging_level=\"Silent\",\n",
    ")\n",
    "wc_train_dataset = cb.Pool(wc_train_cx, wc_train_cy)\n",
    "wc_raw_cbm.fit(wc_train_dataset);"
   ]
  },
  {
   "cell_type": "markdown",
   "metadata": {},
   "source": [
    "##### Evaluate and Compare Performance\n",
    "- **Recall**: Measures the proportion of true positives successfully identified by the model\n",
    "\n",
    "- **Precision**: Measures the proportion of predicted positive cases being actually positive\n",
    "\n",
    "- **F1-Score**: Combines precision and recall into a single metric by calculating their harmonic mean. It balances the trade-off between precision and recall, especially useful when you need a single measure of performance."
   ]
  },
  {
   "cell_type": "code",
   "execution_count": 17,
   "metadata": {},
   "outputs": [
    {
     "data": {
      "image/png": "[encoded data removed]",
      "text/plain": [
       "<Figure size 640x480 with 1 Axes>"
      ]
     },
     "metadata": {},
     "output_type": "display_data"
    }
   ],
   "source": [
    "wc_metrics_presto, _, _ = evaluate(\n",
    "    pretrained_model=model_ft_10d_cropland,\n",
    "    dl_val=wc_dl_val,\n",
    "    task=\"binary\",\n",
    ")\n",
    "wc_metrics_presto_cb, _, _ = evaluate(\n",
    "    pretrained_model=model_ft_10d_cropland,\n",
    "    ds_model=wc_presto_cbm,\n",
    "    dl_val=wc_dl_val,\n",
    "    task=\"binary\",\n",
    ")\n",
    "wc_metrics_raw_cb, _, _= evaluate_catboost(\n",
    "    wc_raw_cbm, \n",
    "    wc_val_cx,\n",
    "    wc_val_cy,\n",
    "    task=\"binary\"\n",
    ")\n",
    "compare_performance_classification(wc_metrics_raw_cb, wc_metrics_presto_cb, wc_metrics_presto)"
   ]
  },
  {
   "cell_type": "markdown",
   "metadata": {},
   "source": [
    "### Conclusions\n",
    "\n",
    "- Fine-tuning a foundation model on a target dataset for a specific task can match or exceed the performance of a traditional ML model trained in a supervised manner on raw data.\n",
    "- Foundation Models can be used to integrate multi-sensor and multi-temporal data and create compressed versions of inputs while retaining the important information or to perform the target task directly. The latter solution usually grants better generalization capabilities\n",
    "- classical ML models are more sensitive to overfitting and have limited generalization capabilities on unseen data\n",
    "\n",
    "#### Next steps\n",
    "- Test in the R&I environment \n",
    "- Implement Presto Fine-Tuning in notebook to allow for customizable training \n",
    "- Improve Few-Shot learning: good overall performance at reduced dataset size \n",
    "- Test Presto on different downstream tasks and applications"
   ]
  },
  {
   "cell_type": "code",
   "execution_count": null,
   "metadata": {},
   "outputs": [],
   "source": []
  }
 ],
 "metadata": {
  "kernelspec": {
   "display_name": "sadenv",
   "language": "python",
   "name": "python3"
  },
  "language_info": {
   "codemirror_mode": {
    "name": "ipython",
    "version": 3
   },
   "file_extension": ".py",
   "mimetype": "text/x-python",
   "name": "python",
   "nbconvert_exporter": "python",
   "pygments_lexer": "ipython3",
   "version": "3.10.12"
  }
 },
 "nbformat": 4,
 "nbformat_minor": 2
}
