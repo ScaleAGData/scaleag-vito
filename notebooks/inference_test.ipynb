{
 "cells": [
  {
   "cell_type": "code",
   "execution_count": null,
   "metadata": {},
   "outputs": [],
   "source": [
    "%load_ext autoreload\n",
    "%autoreload 2\n",
    "from scaleagdata_vito.presto.datasets_prometheo import ScaleAgInferenceDataset\n",
    "from pathlib import Path\n",
    "import xarray as xr\n",
    "from prometheo.models.presto.wrapper import PretrainedPrestoWrapper, load_pretrained\n",
    "from prometheo.predictors import collate_fn\n",
    "from scaleagdata_vito.presto.datasets_prometheo import InferenceDataset\n",
    "from typing import Literal\n",
    "import torch\n",
    "from torch.utils.data import DataLoader\n",
    "from einops import rearrange\n",
    "import numpy as np"
   ]
  },
  {
   "cell_type": "markdown",
   "metadata": {},
   "source": [
    "### test"
   ]
  },
  {
   "cell_type": "code",
   "execution_count": null,
   "metadata": {},
   "outputs": [],
   "source": [
    "path_to_file = Path('/home/giorgia/Private/git/worldcereal-classification/tests/worldcerealtests/testresources/worldcereal_preprocessed_inputs.nc')\n",
    "cl = ScaleAgInferenceDataset(compositing_window=\"month\")\n",
    "s1, s2, meteo, dem, latlon, timestamps = cl.nc_to_array(path_to_file)\n",
    "s1.shape, s2.shape, meteo.shape, dem.shape, latlon.shape, timestamps.shape"
   ]
  },
  {
   "cell_type": "code",
   "execution_count": null,
   "metadata": {},
   "outputs": [],
   "source": [
    "class PrestoPredictor:\n",
    "    def __init__(self,\n",
    "                model: PretrainedPrestoWrapper, \n",
    "                batch_size: int = 8192,\n",
    "                task_type: Literal[\"regression\", \"binary\", \"multiclass\"] = \"regression\",\n",
    "                compositing_window: Literal[\"dekad\", \"month\"] = \"dekad\"):\n",
    "        \"\"\"\n",
    "        Initialize the PrestoFeatureExtractor with a Presto model.\n",
    "\n",
    "        Args:\n",
    "            model (Presto): The Presto model used for feature extraction.\n",
    "            batch_size (int): Batch size for dataloader.\n",
    "        \"\"\"\n",
    "        self.model = model.to(device=\"cuda\" if torch.cuda.is_available() else \"cpu\")\n",
    "        self.batch_size = batch_size\n",
    "        self.task_type = task_type\n",
    "        self.compositing_window = compositing_window\n",
    "\n",
    "    def predict(self, path_to_file: Path) -> xr.DataArray:\n",
    "        cl = ScaleAgInferenceDataset(compositing_window=self.compositing_window)\n",
    "        s1_cube, s2_cube, meteo_cube, dem_cube, latlon_cube, timestamps_cube = cl.nc_to_array(path_to_file)\n",
    "        ds = InferenceDataset(s1_cube, \n",
    "                              s2_cube,\n",
    "                              meteo_cube,\n",
    "                              dem_cube,\n",
    "                              latlon_cube, \n",
    "                              timestamps_cube)\n",
    "        dl = DataLoader(\n",
    "            ds, \n",
    "            batch_size=self.batch_size, \n",
    "            shuffle=False, \n",
    "            collate_fn=collate_fn\n",
    "        )\n",
    "\n",
    "        all_preds, all_probs = [], []\n",
    "        self.model.eval()\n",
    "        for batch in dl:\n",
    "            with torch.no_grad():\n",
    "                output = self.model(batch, inference=True)\n",
    "                # binary classification\n",
    "                if self.task_type == \"binary\":\n",
    "                    probs = torch.sigmoid(output).cpu().numpy() \n",
    "                    preds = probs > 0.5                     \n",
    "                # multiclass classification\n",
    "                elif self.task_type == \"multiclass\":\n",
    "                    probs = torch.softmax(output, dim=-1).cpu().numpy()\n",
    "                    preds = probs.argmax(dim=-1)\n",
    "                \n",
    "                all_preds.append(preds.flatten())\n",
    "                all_probs.append(probs.flatten())\n",
    "        \n",
    "        # need to be reshaped \n",
    "        all_preds = np.concatenate(all_preds)\n",
    "        all_probs = np.concatenate(all_probs)\n",
    "        return all_preds, all_probs"
   ]
  },
  {
   "cell_type": "code",
   "execution_count": null,
   "metadata": {},
   "outputs": [],
   "source": [
    "# presto_url=\"https://artifactory.vgt.vito.be/artifactory/auxdata-public/worldcereal/models/PhaseII/presto-ss-wc_longparquet_random-window-cut_no-time-token_epoch96.pt\"\n",
    "presto_url=\"https://artifactory.vgt.vito.be/artifactory/auxdata-public/worldcereal/models/PhaseII/presto-ss-wc-ft-ct_cropland_CROPLAND2_30D_random_time-token%3Dnone_balance%3DTrue_augment%3DTrue.pt\"\n",
    "# presto_url = \"/home/giorgia/Private/git/scaleag-vito/presto-prometheo-binary-CROPLAND2-timeexplicit=False-run=202504161049.pt\"\n",
    "task_type = \"binary\" # \"regression\", \"binary\", \"multiclass\"\n",
    "num_outputs = 14\n",
    "if task_type == \"regression\":\n",
    "    finetuned_model = PretrainedPrestoWrapper(num_outputs=1, regression=True)\n",
    "elif task_type == \"binary\":\n",
    "    # finetuned_model = PretrainedPrestoWrapper(num_outputs=1, regression=False) #, pretrained_model_path=presto_url)\n",
    "    finetuned_model = PretrainedPrestoWrapper(num_outputs=1, regression=False, pretrained_model_path=presto_url)\n",
    "elif task_type == \"multiclass\":\n",
    "    finetuned_model = PretrainedPrestoWrapper(num_outputs=num_outputs, regression=False)\n",
    "\n",
    "# finetuned_model = load_pretrained( finetuned_model, presto_url) # here strict is True \n",
    "presto_model = PrestoPredictor(\n",
    "    model=finetuned_model,\n",
    "    batch_size=50,\n",
    "    task_type=task_type,\n",
    "    compositing_window=\"month\",\n",
    ")"
   ]
  },
  {
   "cell_type": "code",
   "execution_count": null,
   "metadata": {},
   "outputs": [],
   "source": [
    "path_to_file = Path('/home/giorgia/Private/git/worldcereal-classification/tests/worldcerealtests/testresources/worldcereal_preprocessed_inputs.nc')\n",
    "preds, probs = presto_model.predict(path_to_file)"
   ]
  },
  {
   "cell_type": "code",
   "execution_count": null,
   "metadata": {},
   "outputs": [],
   "source": [
    "path_to_file_target = Path('/home/giorgia/Private/git/worldcereal-classification/tests/worldcerealtests/testresources/worldcereal_cropland_classification.nc')\n",
    "target_arr = xr.open_dataarray(path_to_file_target).astype('uint16')\n",
    "target_pred = target_arr.sel(bands='classification').data\n",
    "target_probs = target_arr.sel(bands='probability_cropland').data\n",
    "input_arr = xr.load_dataset(path_to_file)\n",
    "x_coords = input_arr.x.values\n",
    "y_coords = input_arr.y.values\n",
    "preds_map = rearrange(preds, '(y x) -> y x', y=len(y_coords), x=len(x_coords))\n",
    "prob_map = rearrange(probs, '(y x) -> y x', y=len(y_coords), x=len(x_coords))\n",
    "bands = ['S2-L2A-B04', 'S2-L2A-B03', 'S2-L2A-B02']\n",
    "rgb = np.stack([input_arr[band].values for band in bands], axis=-1)"
   ]
  },
  {
   "cell_type": "code",
   "execution_count": null,
   "metadata": {},
   "outputs": [],
   "source": [
    "def min_max_normalize(image):\n",
    "    # Ensure the input is a numpy array\n",
    "    image = np.array(image, dtype=np.float32)\n",
    "    \n",
    "    # Compute the minimum and maximum values for the entire image\n",
    "    min_val = image.min()\n",
    "    max_val = image.max()\n",
    "    \n",
    "    # Perform min-max normalization\n",
    "    normalized_image = (image - min_val) / (max_val - min_val)\n",
    "    \n",
    "    return normalized_image"
   ]
  },
  {
   "cell_type": "code",
   "execution_count": null,
   "metadata": {},
   "outputs": [],
   "source": [
    "import matplotlib.pyplot as plt\n",
    "\n",
    "fig, axs = plt.subplots(1, 5, figsize=(15, 5))\n",
    "i = 5\n",
    "# Plot the B2 band\n",
    "axs[0].imshow(min_max_normalize(rgb[i]))\n",
    "axs[0].set_title('B2 Band')\n",
    "\n",
    "# Plot the target_arr\n",
    "axs[1].imshow(target_pred, cmap='viridis')\n",
    "axs[1].set_title('Target Array')\n",
    "\n",
    "# Plot the preds_map\n",
    "axs[2].imshow(preds_map, cmap='viridis')\n",
    "axs[2].set_title('Predictions Map')\n",
    "\n",
    "# Plot the preds_map\n",
    "axs[3].imshow(target_probs, cmap='viridis')\n",
    "axs[3].set_title('Target Prob Map')\n",
    "\n",
    "# Plot the prob_map\n",
    "axs[4].imshow(prob_map, cmap='viridis')\n",
    "axs[4].set_title('Probability Map')\n",
    "cbar = fig.colorbar(axs[4].images[0], ax=axs[4], fraction=0.046, pad=0.04)\n",
    "cbar.set_ticks([0, 1])\n",
    "cbar.set_label('Probability')\n",
    "plt.tight_layout()"
   ]
  },
  {
   "cell_type": "markdown",
   "metadata": {},
   "source": [
    "### Pipeline"
   ]
  },
  {
   "cell_type": "code",
   "execution_count": null,
   "metadata": {},
   "outputs": [],
   "source": [
    "%load_ext autoreload\n",
    "%autoreload 2\n",
    "from scaleagdata_vito.presto.inference import PrestoPredictor, reshape_result, plot_results\n",
    "from scaleagdata_vito.utils.map import ui_map\n",
    "from scaleagdata_vito.utils.dateslider import date_slider"
   ]
  },
  {
   "cell_type": "markdown",
   "metadata": {},
   "source": [
    "Select Area of Interest"
   ]
  },
  {
   "cell_type": "code",
   "execution_count": null,
   "metadata": {},
   "outputs": [],
   "source": [
    "map = ui_map(area_limit=20)"
   ]
  },
  {
   "cell_type": "code",
   "execution_count": null,
   "metadata": {},
   "outputs": [],
   "source": [
    "spatial_extent = map.get_extent()"
   ]
  },
  {
   "cell_type": "markdown",
   "metadata": {},
   "source": [
    "Select Temporal extent"
   ]
  },
  {
   "cell_type": "code",
   "execution_count": null,
   "metadata": {},
   "outputs": [],
   "source": [
    "# select 1 year of data\n",
    "slider = date_slider()"
   ]
  },
  {
   "cell_type": "code",
   "execution_count": null,
   "metadata": {},
   "outputs": [],
   "source": [
    "\n",
    "# presto_url=\"https://artifactory.vgt.vito.be/artifactory/auxdata-public/worldcereal/models/PhaseII/presto-ss-wc_longparquet_random-window-cut_no-time-token_epoch96.pt\"\n",
    "presto_url=\"https://artifactory.vgt.vito.be/artifactory/auxdata-public/worldcereal/models/PhaseII/presto-ss-wc-ft-ct_cropland_CROPLAND2_30D_random_time-token%3Dnone_balance%3DTrue_augment%3DTrue.pt\"\n",
    "# presto_url = \"/home/giorgia/Private/git/scaleag-vito/presto-prometheo-binary-CROPLAND2-timeexplicit=False-run=202504161049.pt\"\n",
    "task_type = \"binary\" # \"regression\", \"binary\", \"multiclass\"\n",
    "num_outputs = 14\n",
    "if task_type == \"regression\":\n",
    "    finetuned_model = PretrainedPrestoWrapper(num_outputs=1, regression=True)\n",
    "elif task_type == \"binary\":\n",
    "    # finetuned_model = PretrainedPrestoWrapper(num_outputs=1, regression=False) #, pretrained_model_path=presto_url)\n",
    "    finetuned_model = PretrainedPrestoWrapper(num_outputs=1, regression=False, pretrained_model_path=presto_url)\n",
    "elif task_type == \"multiclass\":\n",
    "    finetuned_model = PretrainedPrestoWrapper(num_outputs=num_outputs, regression=False)\n",
    "\n",
    "# finetuned_model = load_pretrained( finetuned_model, presto_url) # here strict is True \n",
    "presto_model = PrestoPredictor(\n",
    "    model=finetuned_model,\n",
    "    batch_size=50,\n",
    "    task_type=task_type,\n",
    "    compositing_window=\"month\",\n",
    ")"
   ]
  },
  {
   "cell_type": "code",
   "execution_count": null,
   "metadata": {},
   "outputs": [],
   "source": [
    "path_to_input_file = Path('/home/giorgia/Private/git/worldcereal-classification/tests/worldcerealtests/testresources/worldcereal_preprocessed_inputs.nc')\n",
    "probs = presto_model.predict(path_to_file)\n",
    "prob_map = reshape_result(probs, path_to_input_file=path_to_file)\n",
    "pred_map = presto_model.get_predictions(prob_map, threshold=0.5)\n",
    "# probs.min(), probs.max(), "
   ]
  },
  {
   "cell_type": "code",
   "execution_count": null,
   "metadata": {},
   "outputs": [],
   "source": [
    "plot_results(prob_map=prob_map, pred_map=pred_map, path_to_input_file=path_to_input_file, ts_index=5)"
   ]
  },
  {
   "cell_type": "code",
   "execution_count": null,
   "metadata": {},
   "outputs": [],
   "source": []
  }
 ],
 "metadata": {
  "kernelspec": {
   "display_name": "veg",
   "language": "python",
   "name": "python3"
  },
  "language_info": {
   "codemirror_mode": {
    "name": "ipython",
    "version": 3
   },
   "file_extension": ".py",
   "mimetype": "text/x-python",
   "name": "python",
   "nbconvert_exporter": "python",
   "pygments_lexer": "ipython3",
   "version": "3.10.16"
  }
 },
 "nbformat": 4,
 "nbformat_minor": 2
}
