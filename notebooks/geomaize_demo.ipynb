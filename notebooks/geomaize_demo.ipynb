{
 "cells": [
  {
   "cell_type": "markdown",
   "metadata": {},
   "source": [
    "# Data Extractions from OpenEO\n",
    "\n",
    "To run the extractions, you need an account in the [Copernicus Data Space Ecosystem (CDSE)](https://openeo.dataspace.copernicus.eu/)."
   ]
  },
  {
   "cell_type": "code",
   "execution_count": null,
   "metadata": {},
   "outputs": [],
   "source": [
    "from loguru import logger\n",
    "import geopandas as gpd\n",
    "from pathlib import Path\n",
    "from scaleagdata_vito.openeo.extract_sample_scaleag import (\n",
    "    generate_extraction_job_command,\n",
    ")\n",
    "from scaleagdata_vito.presto.presto_df import load_dataset"
   ]
  },
  {
   "cell_type": "markdown",
   "metadata": {},
   "source": [
    "### Assess data are correct before launching the OpenEO jobs \n",
    "You can run some checks on your input file to make sure they are suitable to run the extractions successfully. In particular, it is important to check the validity of the geometries and, ideally, also to have a column containing a unique id for each sample \n"
   ]
  },
  {
   "cell_type": "code",
   "execution_count": 38,
   "metadata": {},
   "outputs": [],
   "source": [
    "def check_unique_id(df_path, unique_id):\n",
    "    df = gpd.read_file(df_path)\n",
    "    if df[unique_id].nunique() != df.shape[0]:\n",
    "        logger.info(\"IDs are not unique!\")\n",
    "        return df[df[unique_id].duplicated(keep=False)]\n",
    "    else:\n",
    "        logger.info(\"IDs are unique\")\n",
    "        return None\n",
    "\n",
    "\n",
    "def check_valid_geometry(df_path, save_to=\"\"):\n",
    "    df = gpd.read_file(df_path)\n",
    "    df_valid = df[df.geometry.is_valid]\n",
    "    if len(df_valid) < len(df):\n",
    "        logger.info(\"Invalid geometries found! Returning invalid geometries\")\n",
    "        df_invalid = df[~df.geometry.is_valid]\n",
    "        if save_to:\n",
    "            filename = Path(save_to) / f\"{Path(df_path).stem}_invalid.geojson\"\n",
    "            logger.info(f\"Saving invalid geometries to {filename}\")\n",
    "            Path(save_to).mkdir(parents=True, exist_ok=True)\n",
    "            df_invalid.to_file(filename)\n",
    "        return df_invalid\n",
    "    else:\n",
    "        logger.info(\"All geometries are valid\")\n",
    "        return None"
   ]
  },
  {
   "cell_type": "code",
   "execution_count": 39,
   "metadata": {},
   "outputs": [
    {
     "name": "stderr",
     "output_type": "stream",
     "text": [
      "\u001b[32m2025-02-17 16:24:45.821\u001b[0m | \u001b[1mINFO    \u001b[0m | \u001b[36m__main__\u001b[0m:\u001b[36mcheck_valid_geometry\u001b[0m:\u001b[36m15\u001b[0m - \u001b[1mInvalid geometries found! Returning invalid geometries\u001b[0m\n"
     ]
    },
    {
     "name": "stderr",
     "output_type": "stream",
     "text": [
      "\u001b[32m2025-02-17 16:24:45.843\u001b[0m | \u001b[1mINFO    \u001b[0m | \u001b[36m__main__\u001b[0m:\u001b[36mcheck_unique_id\u001b[0m:\u001b[36m7\u001b[0m - \u001b[1mIDs are unique\u001b[0m\n"
     ]
    }
   ],
   "source": [
    "input_file = \"/projects/TAP/HEScaleAgData/data/GEOMaize/Maize_Yield_Polygon_North_Ghana/Polygon_North/Maize_2021.shp\"\n",
    "invalid_geom = check_valid_geometry(input_file, save_to=\"\")\n",
    "non_unique_ids = check_unique_id(input_file, unique_id=\"Field_ID\")"
   ]
  },
  {
   "cell_type": "markdown",
   "metadata": {},
   "source": [
    "#### Get command to run OpenEO extractions\n",
    "\n",
    "1) To set up the job, we adapt the job parameters to our needs. The user has to indicate the following fields in order to generate the command to be run in the terminal for starting the extraction \n",
    "\n",
    "    ```python\n",
    "    job_params = dict(\n",
    "        output_folder=..., \n",
    "        input_df=...,\n",
    "        start_date=...,\n",
    "        end_date=...,\n",
    "        unique_id_column=...,\n",
    "        composite_window=..., # \"month\" or \"dekad\" are supported. Default is \"dekad\"\n",
    "    )\n",
    "\n",
    "    ```"
   ]
  },
  {
   "cell_type": "code",
   "execution_count": 24,
   "metadata": {},
   "outputs": [
    {
     "name": "stdout",
     "output_type": "stream",
     "text": [
      "python scaleag-vito/scripts/extractions/extract.py -output_folder /projects/TAP/HEScaleAgData/data/GEOMaize/Maize_Yield_Polygon_North_Ghana/Polygon_North/2021 -input_df /projects/TAP/HEScaleAgData/data/GEOMaize/Maize_Yield_Polygon_North_Ghana/Polygon_North/Maize_2021.shp --start_date 2021-07-01 --end_date 2021-10-31 --unique_id_column Field_ID --composite_window dekad\n"
     ]
    }
   ],
   "source": [
    "job_params = dict(\n",
    "    output_folder=\"/projects/TAP/HEScaleAgData/data/GEOMaize/Maize_Yield_Polygon_North_Ghana/Polygon_North/2021\",\n",
    "    input_df=\"/projects/TAP/HEScaleAgData/data/GEOMaize/Maize_Yield_Polygon_North_Ghana/Polygon_North/Maize_2021.shp\",\n",
    "    start_date=\"2021-07-01\",\n",
    "    end_date=\"2021-10-31\",\n",
    "    unique_id_column=\"Field_ID\",\n",
    "    composite_window=\"dekad\",\n",
    ")\n",
    "generate_extraction_job_command(job_params)"
   ]
  },
  {
   "cell_type": "markdown",
   "metadata": {},
   "source": [
    "2) In the terminal you will be asked for authentication and be provided with a link. click on the link and login with your CDSE credentials.  \n",
    "3) Once the extractions of the dataset will be over, you can load your dataset as follows"
   ]
  },
  {
   "cell_type": "code",
   "execution_count": null,
   "metadata": {},
   "outputs": [],
   "source": [
    "\n",
    "dataset_df = load_dataset(job_params[\"output_folder\"])"
   ]
  }
 ],
 "metadata": {
  "kernelspec": {
   "display_name": "sadenv",
   "language": "python",
   "name": "python3"
  },
  "language_info": {
   "codemirror_mode": {
    "name": "ipython",
    "version": 3
   },
   "file_extension": ".py",
   "mimetype": "text/x-python",
   "name": "python",
   "nbconvert_exporter": "python",
   "pygments_lexer": "ipython3",
   "version": "3.10.12"
  }
 },
 "nbformat": 4,
 "nbformat_minor": 2
}
