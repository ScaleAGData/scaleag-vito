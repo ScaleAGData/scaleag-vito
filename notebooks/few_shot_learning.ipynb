{
 "cells": [
  {
   "cell_type": "markdown",
   "metadata": {},
   "source": [
    "# Few-Shot Learning with Presto"
   ]
  },
  {
   "cell_type": "markdown",
   "metadata": {},
   "source": [
    "## Notebook Overview \n",
    "\n",
    "1) Short introduction on Foundation Models and Presto\n",
    "2) Definition of Few-Shot learning\n",
    "3) Apply Presto to perfrom Few-Shot learning on a regression and a classification task"
   ]
  },
  {
   "cell_type": "markdown",
   "metadata": {},
   "source": [
    "### 1) Foundation Models\n",
    "\n",
    "A Foundation Model is a model trained on large and diverse unlabeled datasets to learn general patterns and features of the data. Thanks to its strong generalization capabilities, such a model can be adapted for a wide range of applications that use similar types of input data.\n",
    "\n",
    "**Presto** (**P**retrained **Re**mote **S**ensing **T**ransf**o**rmer) is a foundation model trained on a large, unlabeled dataset of Sentinel-2, Sentinel-1, Meteorological and Topography pixel-timeseries data. It is able to capture long-range relationships across time and sensor dimensions, improving the signal-to-noise ratio and providing a concise, informative representation of the inputs. \n",
    "In this project, We made use of the [Presto](https://github.com/WorldCereal/prometheo.git) version developed in collaboration with WorldCereal\n",
    "\n",
    "Originally trained on monthly composites, Presto has been refined to be able to ingest dekadal data and to be fine-tuned for regression and classification tasks.\n",
    "\n",
    "### 2) Few-Shot Learning\n",
    "\n",
    "Few-shot learning aims to develop models that can learn from a small number of labeled instances while enhancing generalization and performance on new, unseen examples.\n",
    "\n",
    "Given a dataset with only a few annotated examples, we can fine-tune a pretrained foundation model to either directly handle the downstream task or generate compressed representations of the inputs (embeddings), which can then be used to train a machine learning model for the downstream task. We hereby show-case the former scenario, whose overview is depicted in the figure below.\n",
    "\n",
    "<div style=\"text-align: center;\">\n",
    "    <img src=\"../images/ScaleAG_pipeline_overview_presto.jpg\" alt=\"Overview of a Foundation Model fine tuned for different downstream tasks and applications.\" width=\"700\" />\n",
    "    <p><em>Overview of a Foundation Model fine tuned for different downstream tasks and applications.</em></p>\n",
    "</div>\n",
    "\n",
    "### 3) Implementing Few-Shot learning with Presto"
   ]
  },
  {
   "cell_type": "code",
   "execution_count": 37,
   "metadata": {},
   "outputs": [
    {
     "name": "stdout",
     "output_type": "stream",
     "text": [
      "The autoreload extension is already loaded. To reload it, use:\n",
      "  %reload_ext autoreload\n"
     ]
    }
   ],
   "source": [
    "%load_ext autoreload\n",
    "%autoreload 2\n",
    "\n",
    "from pathlib import Path\n",
    "from scaleagdata_vito.presto.datasets_prometheo import ScaleAgDataset\n",
    "from scaleagdata_vito.openeo.extract_sample_scaleag import generate_input_for_extractions, extract\n",
    "from scaleagdata_vito.presto.utils import evaluate_finetuned_model\n",
    "from scaleagdata_vito.presto.presto_df import load_dataset\n",
    "from scaleagdata_vito.presto.utils import train_test_val_split, finetune_on_task, load_finetuned_model, get_pretrained_model_url, get_resources_dir\n",
    "from scaleagdata_vito.presto.inference import PrestoPredictor, reshape_result, plot_results\n",
    "from scaleagdata_vito.utils.map import ui_map\n",
    "from scaleagdata_vito.utils.dateslider import date_slider\n",
    "from scaleagdata_vito.openeo.extract_sample_scaleag import collect_inputs_for_inference"
   ]
  },
  {
   "cell_type": "markdown",
   "metadata": {},
   "source": [
    "### Before we start...\n",
    "\n",
    "**Check your data!** Investigate validity of geometries uniqueness of sample IDs, presence of outliers and so on before starting the extraction. Achieving good performance making use of a limited amount of data is a challening task per se. Therefore, **the quality of your data will greatly impact your final results.**\n",
    "\n",
    "Data requirements:\n",
    "- Points or Polygons (will be aggregated in points)\n",
    "- Lat-Lon (crs:4326) \n",
    "- Format: parquet, GeoJSON, shapefile, GPKG\n",
    "For each geometry:\n",
    "- Date (if available) \n",
    "- Unique ID\n",
    "- Annotations\n",
    "\n",
    "Good practice:\n",
    "\n",
    "Remove polygons close to borders (e.g. apply buffer) to ensure data are contained in the field\n",
    "If the annotations are accurate, point geometries should be preferred. However, especially in regression tasks (i.e., continuous output values) such us yield estimation the target values might be noisy. In that case, we recommend subdividing the polygons in subfields of 20m x 20m (to cover more measurements) and computing the median yield for a smoother and more reliable target\n"
   ]
  },
  {
   "cell_type": "markdown",
   "metadata": {},
   "source": [
    "#### Requirements for running the extractions\n",
    "- Account in [Copernicus Data Space Ecosystem (CDSE)](https://dataspace.copernicus.eu/). You can sign up for free and have a monthly availability of 10000 credits.\n",
    "- A dataset with valid geometries (Points or Polygons) in lat-lon projection.\n",
    "- Preferably a dataset with unique IDs per sample \n",
    "- A labelled dataset. Not required for the extraction process, but for the following fine-tuning steps.\n",
    "\n",
    "#### EO data extractions\n",
    "In this first step, we extract for each sample in your dataset the required EO time series from CDSE using OpenEO.\n",
    "For running the job, the user should indicate the following job_dictionary fields:\n",
    "\n",
    "```python\n",
    "    job_params = dict(\n",
    "        output_folder=..., # where to save the extracted dataset\n",
    "        input_df=..., # input georeferenced dataset to run the extractions for \n",
    "        start_date=..., # string indicating from which date to extract data  \n",
    "        end_date=..., # string indicating until which date to extract the data \n",
    "        unique_id_column=..., # name of the column in the input_df containing the unique ID of the samples  \n",
    "        composite_window=..., # \"month\" or \"dekad\" are supported. Default is \"dekad\"\n",
    "    )\n",
    "```\n",
    "in particular:\n",
    "- If the `date` information associated with the label is provided, the `start_date` of the time-series is automatically set to 9 months before the date, whereas the `end_date` is set to 9 months after. If `date` is not available, the user needs to manually indicate the desired `start_date` and `end_date` for the extractions.\n",
    "- `composite_window` indicates the time-series granularity, which can be dekadal or monthly. \n",
    "  - `dekad`: each time step in the extracted time series corresponds to a mean-compositing operation on 10-days acquisitions. Accordingly with the start and end date, each month will be covered by 3 time steps which, by default, correspond to the 1st, 11th and 21th of the month. \n",
    "  - `month`: each time step in the extracted time series corresponds to a mean-compositing operation on 30-days acquisitions. Each month will be covered by 1 time step which, by default, correspond to the 1st of the month.\n",
    "\n",
    "The following decadal/monthly time series will be extracted for the indicated time range:\n",
    "\n",
    "- Sentinel-2 L2A data (all bands)\n",
    "- Sentinel-1 VH and VV\n",
    "- Average air temperature and precipitation sum derived from AgERA5\n",
    "- Slope and elevation from Copernicus DEM\n",
    "\n",
    "Presto accepts 1D time-series. Therefore, if Polygons are provided for the extractions, the latter are spatially aggregated in points which will correspond to the centroid lat lon geolocation."
   ]
  },
  {
   "cell_type": "markdown",
   "metadata": {},
   "source": [
    "### Regression task: potato yield estimation \n",
    "\n",
    "The data covers fields in Belgium during the growing season of 2022. Each field polygon was partitioned in subfields of 20m x 20m. The latter are partitioned into training, validation and test sets. "
   ]
  },
  {
   "cell_type": "markdown",
   "metadata": {},
   "source": [
    "##### Data Extraction"
   ]
  },
  {
   "cell_type": "code",
   "execution_count": 28,
   "metadata": {},
   "outputs": [],
   "source": [
    "output_folder = Path(\"/home/giorgia/Private/data/scaleag/24042025/\")\n",
    "input_df = Path(\"/home/giorgia/Private/data/scaleag/18032025/LPIS_subfields_Flanders_yield_cleaned.geojson\")\n",
    "start_date = \"2022-01-01\"\n",
    "end_date = \"2022-12-31\"\n",
    "unique_id_column = \"fieldname\"\n",
    "composite_window = \"dekad\""
   ]
  },
  {
   "cell_type": "code",
   "execution_count": null,
   "metadata": {},
   "outputs": [],
   "source": [
    "job_params = dict(\n",
    "    output_folder=output_folder,\n",
    "    input_df=input_df,\n",
    "    unique_id_column=unique_id_column,\n",
    "    composite_window=composite_window,\n",
    ")\n",
    "extract(generate_input_for_extractions(job_params))"
   ]
  },
  {
   "cell_type": "markdown",
   "metadata": {},
   "source": [
    "Once the dataset will be extracted, it can be loaded with the `load_dataset` function by specifying the path where the `.parquet` files have been downloaded. Moreover, the following manipulations of the dataset are also possible:\n",
    "\n",
    "- `window_of_interest`: the user can specify a time window of interest out of the whole available time-series. `start_date` and `end_date` should be provided as strings in a list.\n",
    "- `use_valid_time`: the user might want to define the window of interest based on the `date` the label is associated with. If so, also `required_min_timesteps` should be provided\n",
    "- `buffer_window`: buffers the `start_date` and `end_date` by the number of time steps here specified  \n",
    "\n",
    "In the following cell, we load the extracted dataset for 1 year of data.\n",
    "\n",
    "**NOTE:** this code currently assumes that we are dealing with 1 year of data falling in the same time period"
   ]
  },
  {
   "cell_type": "markdown",
   "metadata": {},
   "source": [
    "##### Presto datasets initialization"
   ]
  },
  {
   "cell_type": "code",
   "execution_count": 29,
   "metadata": {},
   "outputs": [
    {
     "name": "stderr",
     "output_type": "stream",
     "text": [
      "100%|██████████| 544/544 [00:29<00:00, 18.56it/s]\n"
     ]
    }
   ],
   "source": [
    "df = load_dataset(\n",
    "    files_root_dir=\"/home/giorgia/Private/data/scaleag/18032025/\",\n",
    "    window_of_interest=[start_date, end_date],\n",
    "    composite_window=composite_window,\n",
    ")"
   ]
  },
  {
   "cell_type": "code",
   "execution_count": 36,
   "metadata": {},
   "outputs": [
    {
     "data": {
      "text/html": [
       "<div>\n",
       "<style scoped>\n",
       "    .dataframe tbody tr th:only-of-type {\n",
       "        vertical-align: middle;\n",
       "    }\n",
       "\n",
       "    .dataframe tbody tr th {\n",
       "        vertical-align: top;\n",
       "    }\n",
       "\n",
       "    .dataframe thead th {\n",
       "        text-align: right;\n",
       "    }\n",
       "</style>\n",
       "<table border=\"1\" class=\"dataframe\">\n",
       "  <thead>\n",
       "    <tr style=\"text-align: right;\">\n",
       "      <th></th>\n",
       "      <th>sample_id</th>\n",
       "      <th>date_delta</th>\n",
       "      <th>available_timesteps</th>\n",
       "      <th>mean_yield</th>\n",
       "      <th>MAINCROPCO</th>\n",
       "      <th>DEM-slo-20m</th>\n",
       "      <th>median_gram</th>\n",
       "      <th>parentname</th>\n",
       "      <th>point_total</th>\n",
       "      <th>feature_index</th>\n",
       "      <th>...</th>\n",
       "      <th>METEO-temperature_mean-ts26-100m</th>\n",
       "      <th>METEO-temperature_mean-ts27-100m</th>\n",
       "      <th>METEO-temperature_mean-ts28-100m</th>\n",
       "      <th>METEO-temperature_mean-ts29-100m</th>\n",
       "      <th>METEO-temperature_mean-ts30-100m</th>\n",
       "      <th>METEO-temperature_mean-ts31-100m</th>\n",
       "      <th>METEO-temperature_mean-ts32-100m</th>\n",
       "      <th>METEO-temperature_mean-ts33-100m</th>\n",
       "      <th>METEO-temperature_mean-ts34-100m</th>\n",
       "      <th>METEO-temperature_mean-ts35-100m</th>\n",
       "    </tr>\n",
       "  </thead>\n",
       "  <tbody>\n",
       "    <tr>\n",
       "      <th>0</th>\n",
       "      <td>1907102436-1-10</td>\n",
       "      <td>0</td>\n",
       "      <td>36</td>\n",
       "      <td>24893.690502</td>\n",
       "      <td>901</td>\n",
       "      <td>0</td>\n",
       "      <td>8979.75</td>\n",
       "      <td>1907102436-1</td>\n",
       "      <td>88</td>\n",
       "      <td>19</td>\n",
       "      <td>...</td>\n",
       "      <td>28572</td>\n",
       "      <td>28633</td>\n",
       "      <td>28705</td>\n",
       "      <td>28892</td>\n",
       "      <td>28504</td>\n",
       "      <td>28212</td>\n",
       "      <td>28066</td>\n",
       "      <td>27608</td>\n",
       "      <td>27422</td>\n",
       "      <td>28269</td>\n",
       "    </tr>\n",
       "    <tr>\n",
       "      <th>1</th>\n",
       "      <td>1907102436-1-6</td>\n",
       "      <td>0</td>\n",
       "      <td>36</td>\n",
       "      <td>27563.636382</td>\n",
       "      <td>901</td>\n",
       "      <td>0</td>\n",
       "      <td>7714.20</td>\n",
       "      <td>1907102436-1</td>\n",
       "      <td>114</td>\n",
       "      <td>15</td>\n",
       "      <td>...</td>\n",
       "      <td>28572</td>\n",
       "      <td>28633</td>\n",
       "      <td>28705</td>\n",
       "      <td>28892</td>\n",
       "      <td>28504</td>\n",
       "      <td>28212</td>\n",
       "      <td>28066</td>\n",
       "      <td>27608</td>\n",
       "      <td>27422</td>\n",
       "      <td>28269</td>\n",
       "    </tr>\n",
       "    <tr>\n",
       "      <th>2</th>\n",
       "      <td>1907102436-1-11</td>\n",
       "      <td>0</td>\n",
       "      <td>36</td>\n",
       "      <td>27584.718542</td>\n",
       "      <td>901</td>\n",
       "      <td>0</td>\n",
       "      <td>10247.90</td>\n",
       "      <td>1907102436-1</td>\n",
       "      <td>101</td>\n",
       "      <td>20</td>\n",
       "      <td>...</td>\n",
       "      <td>28572</td>\n",
       "      <td>28633</td>\n",
       "      <td>28705</td>\n",
       "      <td>28892</td>\n",
       "      <td>28504</td>\n",
       "      <td>28212</td>\n",
       "      <td>28066</td>\n",
       "      <td>27608</td>\n",
       "      <td>27422</td>\n",
       "      <td>28269</td>\n",
       "    </tr>\n",
       "    <tr>\n",
       "      <th>3</th>\n",
       "      <td>1907102436-1-5</td>\n",
       "      <td>0</td>\n",
       "      <td>36</td>\n",
       "      <td>30995.560375</td>\n",
       "      <td>901</td>\n",
       "      <td>0</td>\n",
       "      <td>11481.60</td>\n",
       "      <td>1907102436-1</td>\n",
       "      <td>131</td>\n",
       "      <td>14</td>\n",
       "      <td>...</td>\n",
       "      <td>28572</td>\n",
       "      <td>28633</td>\n",
       "      <td>28705</td>\n",
       "      <td>28892</td>\n",
       "      <td>28504</td>\n",
       "      <td>28212</td>\n",
       "      <td>28066</td>\n",
       "      <td>27608</td>\n",
       "      <td>27422</td>\n",
       "      <td>28269</td>\n",
       "    </tr>\n",
       "    <tr>\n",
       "      <th>4</th>\n",
       "      <td>1907102436-1-3</td>\n",
       "      <td>0</td>\n",
       "      <td>36</td>\n",
       "      <td>31288.830208</td>\n",
       "      <td>901</td>\n",
       "      <td>0</td>\n",
       "      <td>11901.50</td>\n",
       "      <td>1907102436-1</td>\n",
       "      <td>89</td>\n",
       "      <td>12</td>\n",
       "      <td>...</td>\n",
       "      <td>28572</td>\n",
       "      <td>28633</td>\n",
       "      <td>28705</td>\n",
       "      <td>28892</td>\n",
       "      <td>28504</td>\n",
       "      <td>28212</td>\n",
       "      <td>28066</td>\n",
       "      <td>27608</td>\n",
       "      <td>27422</td>\n",
       "      <td>28269</td>\n",
       "    </tr>\n",
       "  </tbody>\n",
       "</table>\n",
       "<p>5 rows × 535 columns</p>\n",
       "</div>"
      ],
      "text/plain": [
       "         sample_id  date_delta  available_timesteps    mean_yield MAINCROPCO  \\\n",
       "0  1907102436-1-10           0                   36  24893.690502        901   \n",
       "1   1907102436-1-6           0                   36  27563.636382        901   \n",
       "2  1907102436-1-11           0                   36  27584.718542        901   \n",
       "3   1907102436-1-5           0                   36  30995.560375        901   \n",
       "4   1907102436-1-3           0                   36  31288.830208        901   \n",
       "\n",
       "   DEM-slo-20m  median_gram    parentname  point_total  feature_index  ...  \\\n",
       "0            0      8979.75  1907102436-1           88             19  ...   \n",
       "1            0      7714.20  1907102436-1          114             15  ...   \n",
       "2            0     10247.90  1907102436-1          101             20  ...   \n",
       "3            0     11481.60  1907102436-1          131             14  ...   \n",
       "4            0     11901.50  1907102436-1           89             12  ...   \n",
       "\n",
       "   METEO-temperature_mean-ts26-100m METEO-temperature_mean-ts27-100m  \\\n",
       "0                             28572                            28633   \n",
       "1                             28572                            28633   \n",
       "2                             28572                            28633   \n",
       "3                             28572                            28633   \n",
       "4                             28572                            28633   \n",
       "\n",
       "   METEO-temperature_mean-ts28-100m  METEO-temperature_mean-ts29-100m  \\\n",
       "0                             28705                             28892   \n",
       "1                             28705                             28892   \n",
       "2                             28705                             28892   \n",
       "3                             28705                             28892   \n",
       "4                             28705                             28892   \n",
       "\n",
       "  METEO-temperature_mean-ts30-100m  METEO-temperature_mean-ts31-100m  \\\n",
       "0                            28504                             28212   \n",
       "1                            28504                             28212   \n",
       "2                            28504                             28212   \n",
       "3                            28504                             28212   \n",
       "4                            28504                             28212   \n",
       "\n",
       "   METEO-temperature_mean-ts32-100m METEO-temperature_mean-ts33-100m  \\\n",
       "0                             28066                            27608   \n",
       "1                             28066                            27608   \n",
       "2                             28066                            27608   \n",
       "3                             28066                            27608   \n",
       "4                             28066                            27608   \n",
       "\n",
       "  METEO-temperature_mean-ts34-100m METEO-temperature_mean-ts35-100m  \n",
       "0                            27422                            28269  \n",
       "1                            27422                            28269  \n",
       "2                            27422                            28269  \n",
       "3                            27422                            28269  \n",
       "4                            27422                            28269  \n",
       "\n",
       "[5 rows x 535 columns]"
      ]
     },
     "execution_count": 36,
     "metadata": {},
     "output_type": "execute_result"
    }
   ],
   "source": [
    "df.head()"
   ]
  },
  {
   "cell_type": "markdown",
   "metadata": {},
   "source": [
    "The following step splits the data into train, test and val datasets. the split can be performed by uniform sampling or by group sampling. The former is usually more suitable for the binary and multiclass classification tasks, to ensure the data distribution is represented in all the 3 sets. The latter is more specific for cases where we want to avoid data autocorrelation and so data leakage between training and val/test sets.\n",
    "In the case of yield estimation, for instance, we often have samples coming from the same field. So we might want to separate the data based on the field they belong to to better test the model generalization capabilities.\n",
    "Therefore:\n",
    "- `uniform_sample_by`: pass the name of the column in the dataframe to perform uniform sampling on\n",
    "- `group_sample_by`: pass the name of the column in the dataframe to perform the group sampling on\n",
    "\n",
    "`sampling_fraction` indicates the proportion of the training set out of the whole dataset. the remaining percentage will be equally devided into validation and test sets."
   ]
  },
  {
   "cell_type": "code",
   "execution_count": 30,
   "metadata": {},
   "outputs": [
    {
     "name": "stderr",
     "output_type": "stream",
     "text": [
      "\u001b[32m2025-04-29 14:17:18.055\u001b[0m | \u001b[1mINFO    \u001b[0m | \u001b[36mscaleagdata_vito.presto.utils\u001b[0m:\u001b[36mtrain_test_val_split\u001b[0m:\u001b[36m287\u001b[0m - \u001b[1mTraining set size: 21881\u001b[0m\n",
      "\u001b[32m2025-04-29 14:17:18.056\u001b[0m | \u001b[1mINFO    \u001b[0m | \u001b[36mscaleagdata_vito.presto.utils\u001b[0m:\u001b[36mtrain_test_val_split\u001b[0m:\u001b[36m288\u001b[0m - \u001b[1mValidation set size: 1982\u001b[0m\n",
      "\u001b[32m2025-04-29 14:17:18.058\u001b[0m | \u001b[1mINFO    \u001b[0m | \u001b[36mscaleagdata_vito.presto.utils\u001b[0m:\u001b[36mtrain_test_val_split\u001b[0m:\u001b[36m289\u001b[0m - \u001b[1mTest set size: 3211\u001b[0m\n"
     ]
    }
   ],
   "source": [
    "df_train, df_val, df_test = train_test_val_split(df=df, group_sample_by=\"parentname\", sampling_frac=0.8)"
   ]
  },
  {
   "cell_type": "markdown",
   "metadata": {},
   "source": [
    "We now set up the parameters needed for initializing presto datasets for the specific task:\n",
    "- `num_timesteps`: can be inferred by the max number of the `available_timesteps` \n",
    "- `target_name`: name of the column containing the target data\n",
    "- `upper_bound` and `lower_bound`: these should be set to the min and max of the distribution. Therefore, it is important to get rid of potential outlaiers beforehand.\n",
    "\n",
    "**NOTE:** upper and lower bounds are also used to normalize the targets during the training process. Therefore it is important to keep track of such values to convert the predictions to the original units in the inference step!  "
   ]
  },
  {
   "cell_type": "code",
   "execution_count": 31,
   "metadata": {},
   "outputs": [],
   "source": [
    "# visualize distribution to check for outliers to exclude if needed\n",
    "num_timesteps = df.available_timesteps.max()\n",
    "task_type = \"regression\"\n",
    "target_name = \"median_yield\"\n",
    "upper_bound = df[target_name].max() \n",
    "lower_bound = 0 "
   ]
  },
  {
   "cell_type": "markdown",
   "metadata": {},
   "source": [
    "We Initialize the training, validation and test datasets objects to be used for training Presto."
   ]
  },
  {
   "cell_type": "code",
   "execution_count": 32,
   "metadata": {},
   "outputs": [
    {
     "name": "stderr",
     "output_type": "stream",
     "text": [
      "\u001b[32m2025-04-29 14:17:18.299\u001b[0m | \u001b[1mINFO    \u001b[0m | \u001b[36mscaleagdata_vito.presto.datasets_prometheo\u001b[0m:\u001b[36mset_num_outputs\u001b[0m:\u001b[36m140\u001b[0m - \u001b[1mSetting number of outputs to 1 for regression task.\u001b[0m\n",
      "\u001b[32m2025-04-29 14:17:18.304\u001b[0m | \u001b[1mINFO    \u001b[0m | \u001b[36mscaleagdata_vito.presto.datasets_prometheo\u001b[0m:\u001b[36mset_num_outputs\u001b[0m:\u001b[36m140\u001b[0m - \u001b[1mSetting number of outputs to 1 for regression task.\u001b[0m\n",
      "\u001b[32m2025-04-29 14:17:18.309\u001b[0m | \u001b[1mINFO    \u001b[0m | \u001b[36mscaleagdata_vito.presto.datasets_prometheo\u001b[0m:\u001b[36mset_num_outputs\u001b[0m:\u001b[36m140\u001b[0m - \u001b[1mSetting number of outputs to 1 for regression task.\u001b[0m\n"
     ]
    }
   ],
   "source": [
    "# initialize datasets\n",
    "train_ds = ScaleAgDataset(\n",
    "    df_train,\n",
    "    num_timesteps=num_timesteps,\n",
    "    task_type=task_type,\n",
    "    target_name=target_name,\n",
    "    composite_window=composite_window,\n",
    "    upper_bound=upper_bound,\n",
    "    lower_bound=lower_bound,\n",
    ")\n",
    "val_ds = ScaleAgDataset(\n",
    "    df_val,\n",
    "    num_timesteps=num_timesteps,\n",
    "    task_type=task_type,\n",
    "    target_name=target_name,\n",
    "    composite_window=composite_window,\n",
    "    upper_bound=upper_bound,\n",
    "    lower_bound=lower_bound,\n",
    ")\n",
    "test_ds = ScaleAgDataset(\n",
    "    df_test,\n",
    "    num_timesteps=num_timesteps,\n",
    "    task_type=task_type,\n",
    "    target_name=target_name,\n",
    "    composite_window=composite_window,\n",
    "    upper_bound=upper_bound,\n",
    "    lower_bound=lower_bound,\n",
    ")"
   ]
  },
  {
   "cell_type": "markdown",
   "metadata": {},
   "source": [
    "##### Presto Finetuning\n",
    "\n",
    "In this section Presto will be Fine-Tuned in a supervised way for the target downstream task. first we set up the following experiment parameters:\n",
    "\n",
    "- `output_dir` : where to dave the model \n",
    "- `experiment_name` : the model name\n",
    "- `pretrained_model_path` : pretrained presto model to start the fine tuning from. Can be a string indicating the path to the model or a url "
   ]
  },
  {
   "cell_type": "code",
   "execution_count": 33,
   "metadata": {},
   "outputs": [],
   "source": [
    "# set models hyperparameters\n",
    "model_output_dir = Path(\"/home/giorgia/Private/models_FSL/scaleag/regression/\")\n",
    "experiment_name = \"presto-ss-wc-10D-ft-dek\""
   ]
  },
  {
   "cell_type": "code",
   "execution_count": null,
   "metadata": {},
   "outputs": [],
   "source": [
    "# Construct the model with finetuning head starting from the pretrained model\n",
    "finetuned_model = finetune_on_task(\n",
    "    train_ds=train_ds,\n",
    "    val_ds=val_ds,\n",
    "    pretrained_model_path=get_pretrained_model_url(composite_window=composite_window),\n",
    "    output_dir=model_output_dir, \n",
    "    experiment_name=experiment_name,\n",
    "    )\n",
    "evaluate_finetuned_model(finetuned_model, test_ds, num_workers=2, batch_size=32)"
   ]
  },
  {
   "cell_type": "markdown",
   "metadata": {},
   "source": [
    "##### Inference using Fine-Tuned end-to-end Presto"
   ]
  },
  {
   "cell_type": "markdown",
   "metadata": {},
   "source": [
    "In this section, we apply the fine tuned model to generate a yield map on an unseen area. \n",
    "We need to indicate the spatial and temporal extent. The 2 cells below, offer a simple way for the user to provide these information and perform once again the extraction from CDSE of the EO time-series required by Presto. \n",
    "We also need to indicate the `output_dir` of where to save the datacube of the extraction, its `output_filename` and the `composite_window` which will be the same as used for finetuning the model."
   ]
  },
  {
   "cell_type": "code",
   "execution_count": 34,
   "metadata": {},
   "outputs": [
    {
     "data": {
      "application/vnd.jupyter.widget-view+json": {
       "model_id": "411ced8ed52b4763afb87e3cba355b07",
       "version_major": 2,
       "version_minor": 0
      },
      "text/plain": [
       "VBox(children=(Map(center=[51.1872, 5.1154], controls=(ZoomControl(options=['position', 'zoom_in_text', 'zoom_…"
      ]
     },
     "metadata": {},
     "output_type": "display_data"
    }
   ],
   "source": [
    "map = ui_map(area_limit=7)"
   ]
  },
  {
   "cell_type": "code",
   "execution_count": 35,
   "metadata": {},
   "outputs": [
    {
     "data": {
      "text/html": [
       "\n",
       "        <style>\n",
       "        .widget-container {\n",
       "            padding-left: 10px; /* Add 20px margin on left and right */\n",
       "            box-sizing: border-box; /* Include padding in width */\n",
       "            width: 600px; /* Fixed width for consistent alignment */\n",
       "            margin: 0 auto; /* Center align the container */\n",
       "            position: relative;\n",
       "        }\n",
       "        .slider-container {\n",
       "            position: relative;\n",
       "            width: 100%;\n",
       "            margin: 0 auto; /* Center align */\n",
       "        }\n",
       "        .slider-container .tick-wrapper {\n",
       "            position: relative;\n",
       "            width: 100%; /* Match slider width */\n",
       "            height: 40px; /* Reserve space for ticks and labels */\n",
       "        }\n",
       "        .slider-container .tick-mark {\n",
       "            position: absolute;\n",
       "            bottom: 25px; /* Adjust to position tick marks relative to labels */\n",
       "            transform: translateX(-50%);\n",
       "            font-size: 14px;\n",
       "            font-weight: bold;\n",
       "        }\n",
       "        .slider-container .tick-label {\n",
       "            position: absolute;\n",
       "            bottom: 0; /* Place directly under tick marks */\n",
       "            transform: translateX(-50%);\n",
       "            font-size: 10px;\n",
       "            text-align: center;\n",
       "            line-height: 1.2em; /* For two-line labels */\n",
       "        }\n",
       "        </style>\n",
       "        "
      ],
      "text/plain": [
       "<IPython.core.display.HTML object>"
      ]
     },
     "metadata": {},
     "output_type": "display_data"
    },
    {
     "data": {
      "application/vnd.jupyter.widget-view+json": {
       "model_id": "0b387b6aa35940828eb72c8e379fed46",
       "version_major": 2,
       "version_minor": 0
      },
      "text/plain": [
       "VBox(children=(HTML(value=\"\\n            <div style='text-align: center;'>\\n                <div style='font-s…"
      ]
     },
     "metadata": {},
     "output_type": "display_data"
    }
   ],
   "source": [
    "# select 1 year of data\n",
    "slider = date_slider()"
   ]
  },
  {
   "cell_type": "code",
   "execution_count": 38,
   "metadata": {},
   "outputs": [],
   "source": [
    "output_dir = Path(\"/home/giorgia/Private/scaleag_data_test/inference_extraction_test/\")\n",
    "output_filename = \"inference_area_tevuren\""
   ]
  },
  {
   "cell_type": "code",
   "execution_count": 39,
   "metadata": {},
   "outputs": [],
   "source": [
    "inference_file = get_resources_dir() / f\"{output_filename}.nc\"\n",
    "mask_path = get_resources_dir() / \"LPIS_flanders_potatoes_2022.tif\""
   ]
  },
  {
   "cell_type": "code",
   "execution_count": 40,
   "metadata": {},
   "outputs": [
    {
     "ename": "ValueError",
     "evalue": "Please first draw a rectangle on the map before proceeding.",
     "output_type": "error",
     "traceback": [
      "\u001b[0;31m---------------------------------------------------------------------------\u001b[0m",
      "\u001b[0;31mValueError\u001b[0m                                Traceback (most recent call last)",
      "Cell \u001b[0;32mIn[40], line 2\u001b[0m\n\u001b[1;32m      1\u001b[0m collect_inputs_for_inference(\n\u001b[0;32m----> 2\u001b[0m     spatial_extent\u001b[38;5;241m=\u001b[39m\u001b[38;5;28;43mmap\u001b[39;49m\u001b[38;5;241;43m.\u001b[39;49m\u001b[43mget_extent\u001b[49m\u001b[43m(\u001b[49m\u001b[43m)\u001b[49m,\n\u001b[1;32m      3\u001b[0m     temporal_extent\u001b[38;5;241m=\u001b[39mslider\u001b[38;5;241m.\u001b[39mget_processing_period(),\n\u001b[1;32m      4\u001b[0m     output_path\u001b[38;5;241m=\u001b[39moutput_dir,\n\u001b[1;32m      5\u001b[0m     output_filename\u001b[38;5;241m=\u001b[39m\u001b[38;5;124mf\u001b[39m\u001b[38;5;124m\"\u001b[39m\u001b[38;5;132;01m{\u001b[39;00moutput_filename\u001b[38;5;132;01m}\u001b[39;00m\u001b[38;5;124m.nc\u001b[39m\u001b[38;5;124m\"\u001b[39m,\n\u001b[1;32m      6\u001b[0m     composite_window\u001b[38;5;241m=\u001b[39mcomposite_window,\n\u001b[1;32m      7\u001b[0m )\n",
      "File \u001b[0;32m/data/users/Private/giorgia/git/scaleag-vito/src/scaleagdata_vito/utils/map.py:139\u001b[0m, in \u001b[0;36mui_map.get_extent\u001b[0;34m(self, projection)\u001b[0m\n\u001b[1;32m    136\u001b[0m obj \u001b[38;5;241m=\u001b[39m \u001b[38;5;28mself\u001b[39m\u001b[38;5;241m.\u001b[39mdraw_control\u001b[38;5;241m.\u001b[39mlast_draw\n\u001b[1;32m    138\u001b[0m \u001b[38;5;28;01mif\u001b[39;00m obj\u001b[38;5;241m.\u001b[39mget(\u001b[38;5;124m\"\u001b[39m\u001b[38;5;124mgeometry\u001b[39m\u001b[38;5;124m\"\u001b[39m) \u001b[38;5;129;01mis\u001b[39;00m \u001b[38;5;28;01mNone\u001b[39;00m:\n\u001b[0;32m--> 139\u001b[0m     \u001b[38;5;28;01mraise\u001b[39;00m \u001b[38;5;167;01mValueError\u001b[39;00m(\n\u001b[1;32m    140\u001b[0m         \u001b[38;5;124m\"\u001b[39m\u001b[38;5;124mPlease first draw a rectangle on the map before proceeding.\u001b[39m\u001b[38;5;124m\"\u001b[39m\n\u001b[1;32m    141\u001b[0m     )\n\u001b[1;32m    143\u001b[0m \u001b[38;5;28mself\u001b[39m\u001b[38;5;241m.\u001b[39mpoly \u001b[38;5;241m=\u001b[39m Polygon(shape(obj\u001b[38;5;241m.\u001b[39mget(\u001b[38;5;124m\"\u001b[39m\u001b[38;5;124mgeometry\u001b[39m\u001b[38;5;124m\"\u001b[39m)))\n\u001b[1;32m    144\u001b[0m \u001b[38;5;28;01mif\u001b[39;00m \u001b[38;5;28mself\u001b[39m\u001b[38;5;241m.\u001b[39mpoly \u001b[38;5;129;01mis\u001b[39;00m \u001b[38;5;28;01mNone\u001b[39;00m:\n",
      "\u001b[0;31mValueError\u001b[0m: Please first draw a rectangle on the map before proceeding."
     ]
    }
   ],
   "source": [
    "collect_inputs_for_inference(\n",
    "    spatial_extent=map.get_extent(),\n",
    "    temporal_extent=slider.get_processing_period(),\n",
    "    output_path=output_dir,\n",
    "    output_filename=f\"{output_filename}.nc\",\n",
    "    composite_window=composite_window,\n",
    ")"
   ]
  },
  {
   "cell_type": "markdown",
   "metadata": {},
   "source": [
    "Once the datacube has been extracted, we can perform the inference task using the finetuned model and visualize the predicted map. "
   ]
  },
  {
   "cell_type": "code",
   "execution_count": 41,
   "metadata": {},
   "outputs": [],
   "source": [
    "finetuned_model = load_finetuned_model(model_output_dir / experiment_name, task_type=task_type)\n",
    "presto_model = PrestoPredictor(\n",
    "    model=finetuned_model,\n",
    "    batch_size=50,\n",
    "    task_type=task_type,\n",
    "    composite_window=composite_window,\n",
    ")\n",
    "\n",
    "predictions = presto_model.predict(inference_file, upper_bound=upper_bound, lower_bound=lower_bound, mask_path=mask_path)\n",
    "predictions_map = reshape_result(predictions, path_to_input_file=inference_file)"
   ]
  },
  {
   "cell_type": "code",
   "execution_count": 42,
   "metadata": {},
   "outputs": [
    {
     "data": {
      "image/png": "[encoded data removed]",
      "text/plain": [
       "<Figure size 1200x500 with 3 Axes>"
      ]
     },
     "metadata": {},
     "output_type": "display_data"
    }
   ],
   "source": [
    "plot_results(prob_map=predictions_map, path_to_input_file=inference_file, task=task_type, ts_index=5)"
   ]
  },
  {
   "cell_type": "markdown",
   "metadata": {},
   "source": [
    "### Binary task: crop/no-crop\n",
    "\n",
    "Now we test the few-shot learning on a binary task. We Fine-Tune presto on datapoints sampled from Flanders on 2021. This time, the dataset is the result of a monthly compositing. We initialize the parameters for the dataset preparation accordingly  "
   ]
  },
  {
   "cell_type": "markdown",
   "metadata": {},
   "source": [
    "##### Presto datasets initialization"
   ]
  },
  {
   "cell_type": "code",
   "execution_count": 43,
   "metadata": {},
   "outputs": [
    {
     "name": "stderr",
     "output_type": "stream",
     "text": [
      "  0%|          | 0/1 [00:00<?, ?it/s]The following features are missing and are filled with NODATAVALUE: ['OPTICAL-B8A']\n",
      "100%|██████████| 1/1 [00:05<00:00,  5.28s/it]\n",
      "\u001b[32m2025-04-29 14:24:13.621\u001b[0m | \u001b[1mINFO    \u001b[0m | \u001b[36mscaleagdata_vito.presto.utils\u001b[0m:\u001b[36mtrain_test_val_split\u001b[0m:\u001b[36m278\u001b[0m - \u001b[1mAll groups have at least 5 samples. Proceeding with the split.\u001b[0m\n",
      "\u001b[32m2025-04-29 14:24:14.034\u001b[0m | \u001b[1mINFO    \u001b[0m | \u001b[36mscaleagdata_vito.presto.utils\u001b[0m:\u001b[36mtrain_test_val_split\u001b[0m:\u001b[36m287\u001b[0m - \u001b[1mTraining set size: 27025\u001b[0m\n",
      "\u001b[32m2025-04-29 14:24:14.035\u001b[0m | \u001b[1mINFO    \u001b[0m | \u001b[36mscaleagdata_vito.presto.utils\u001b[0m:\u001b[36mtrain_test_val_split\u001b[0m:\u001b[36m288\u001b[0m - \u001b[1mValidation set size: 3378\u001b[0m\n",
      "\u001b[32m2025-04-29 14:24:14.037\u001b[0m | \u001b[1mINFO    \u001b[0m | \u001b[36mscaleagdata_vito.presto.utils\u001b[0m:\u001b[36mtrain_test_val_split\u001b[0m:\u001b[36m289\u001b[0m - \u001b[1mTest set size: 3378\u001b[0m\n"
     ]
    }
   ],
   "source": [
    "parquet_file = \"/home/giorgia/Private/data/worldcereal/month/subset/\"\n",
    "task_type = \"binary\"\n",
    "target_name = \"LANDCOVER_LABEL\"\n",
    "composite_window = \"month\"\n",
    "\n",
    "df = load_dataset(parquet_file, composite_window=composite_window)\n",
    "train_df, val_df, test_df = train_test_val_split(df=df, uniform_sample_by=target_name, sampling_frac=0.8)"
   ]
  },
  {
   "cell_type": "markdown",
   "metadata": {},
   "source": [
    "In the context of a binary classification task, specifying the upper and lower bounds won't be necessary anymore. In case we are dealing with multiclass labels, we can convert the problem into a binary classification task by providing the `positive_labels` argument to the `ScaleAgDatset` class. The list of labels passed as value to `positive_labels` indicates which subset of classes should be interpreted as positive class (here \"crop\"). All the other labels will therefore be interpreted as negative class (here \"no-crop\")."
   ]
  },
  {
   "cell_type": "code",
   "execution_count": 44,
   "metadata": {},
   "outputs": [],
   "source": [
    "num_timesteps = df.available_timesteps.max()\n",
    "positive_labels = [10, 11, 12, 13]"
   ]
  },
  {
   "cell_type": "code",
   "execution_count": 45,
   "metadata": {},
   "outputs": [
    {
     "name": "stderr",
     "output_type": "stream",
     "text": [
      "\u001b[32m2025-04-29 14:24:14.282\u001b[0m | \u001b[1mINFO    \u001b[0m | \u001b[36mscaleagdata_vito.presto.datasets_prometheo\u001b[0m:\u001b[36mset_num_outputs\u001b[0m:\u001b[36m140\u001b[0m - \u001b[1mSetting number of outputs to 1 for binary task.\u001b[0m\n",
      "\u001b[32m2025-04-29 14:24:14.291\u001b[0m | \u001b[1mINFO    \u001b[0m | \u001b[36mscaleagdata_vito.presto.datasets_prometheo\u001b[0m:\u001b[36mset_num_outputs\u001b[0m:\u001b[36m140\u001b[0m - \u001b[1mSetting number of outputs to 1 for binary task.\u001b[0m\n",
      "\u001b[32m2025-04-29 14:24:14.298\u001b[0m | \u001b[1mINFO    \u001b[0m | \u001b[36mscaleagdata_vito.presto.datasets_prometheo\u001b[0m:\u001b[36mset_num_outputs\u001b[0m:\u001b[36m140\u001b[0m - \u001b[1mSetting number of outputs to 1 for binary task.\u001b[0m\n"
     ]
    }
   ],
   "source": [
    "train_ds = ScaleAgDataset(\n",
    "    train_df,\n",
    "    num_timesteps=num_timesteps,\n",
    "    task_type=task_type,\n",
    "    target_name=target_name,\n",
    "    positive_labels=positive_labels,\n",
    "    composite_window=composite_window,\n",
    ")\n",
    "\n",
    "val_ds = ScaleAgDataset(\n",
    "    val_df,\n",
    "    num_timesteps=num_timesteps,\n",
    "    task_type=task_type,\n",
    "    target_name=target_name,\n",
    "    positive_labels=positive_labels,\n",
    "    composite_window=composite_window,\n",
    ")\n",
    "\n",
    "test_ds = ScaleAgDataset(\n",
    "    test_df,\n",
    "    num_timesteps=num_timesteps,\n",
    "    task_type=task_type,\n",
    "    target_name=target_name,\n",
    "    positive_labels=positive_labels,\n",
    "    composite_window=composite_window,\n",
    ")"
   ]
  },
  {
   "cell_type": "markdown",
   "metadata": {},
   "source": [
    "##### Presto Finetuning\n",
    "\n",
    "In this section Presto will be Fine-Tuned in a supervised way for the target downstream task. Once again, we set up the experiment parameters."
   ]
  },
  {
   "cell_type": "code",
   "execution_count": 46,
   "metadata": {},
   "outputs": [],
   "source": [
    "experiment_name = \"presto_wc_ft_crop\"\n",
    "model_output_dir = Path(\"/home/giorgia/Private/models_FSL/worldcereal/\")"
   ]
  },
  {
   "cell_type": "code",
   "execution_count": null,
   "metadata": {},
   "outputs": [],
   "source": [
    "finetuned_model = finetune_on_task(\n",
    "                train_ds=train_ds,\n",
    "                val_ds=val_ds,\n",
    "                pretrained_model_path=get_pretrained_model_url(composite_window=composite_window),\n",
    "                output_dir=model_output_dir, \n",
    "                experiment_name=experiment_name,\n",
    "            )\n",
    "evaluate_finetuned_model(finetuned_model, test_ds, num_workers=2, batch_size=32)"
   ]
  },
  {
   "cell_type": "markdown",
   "metadata": {},
   "source": [
    "##### Inference using Fine-Tuned end-to-end Presto\n",
    "\n",
    "We now apply the finetuned model to an unseen area to perform the classification task."
   ]
  },
  {
   "cell_type": "code",
   "execution_count": 47,
   "metadata": {},
   "outputs": [],
   "source": [
    "finetuned_model = load_finetuned_model(model_output_dir / experiment_name, task_type=task_type)\n",
    "inference_file = get_resources_dir() / \"worldcereal_preprocessed_inputs.nc\""
   ]
  },
  {
   "cell_type": "code",
   "execution_count": 48,
   "metadata": {},
   "outputs": [
    {
     "data": {
      "image/png": "[encoded data removed]",
      "text/plain": [
       "<Figure size 1500x500 with 4 Axes>"
      ]
     },
     "metadata": {},
     "output_type": "display_data"
    }
   ],
   "source": [
    "presto_model = PrestoPredictor(\n",
    "    model=finetuned_model,\n",
    "    batch_size=50,\n",
    "    task_type=task_type,\n",
    "    composite_window=composite_window,\n",
    ")\n",
    "\n",
    "predictions = presto_model.predict(inference_file)\n",
    "prob_map = reshape_result(predictions, path_to_input_file=inference_file)\n",
    "pred_map = presto_model.get_predictions(prob_map, threshold=0.75)\n",
    "plot_results(prob_map=prob_map, pred_map=pred_map, path_to_input_file=inference_file, task=task_type, ts_index=4)"
   ]
  },
  {
   "cell_type": "code",
   "execution_count": null,
   "metadata": {},
   "outputs": [],
   "source": []
  }
 ],
 "metadata": {
  "kernelspec": {
   "display_name": "veg",
   "language": "python",
   "name": "python3"
  },
  "language_info": {
   "codemirror_mode": {
    "name": "ipython",
    "version": 3
   },
   "file_extension": ".py",
   "mimetype": "text/x-python",
   "name": "python",
   "nbconvert_exporter": "python",
   "pygments_lexer": "ipython3",
   "version": "3.10.16"
  }
 },
 "nbformat": 4,
 "nbformat_minor": 4
}
