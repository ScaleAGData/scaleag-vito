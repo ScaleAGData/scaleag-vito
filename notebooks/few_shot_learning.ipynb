{
 "cells": [
  {
   "cell_type": "markdown",
   "metadata": {},
   "source": [
    "# Few-Shot Learning with Presto"
   ]
  },
  {
   "cell_type": "markdown",
   "metadata": {},
   "source": [
    "### Notebook Overview \n",
    "\n",
    "1) Short introduction on Foundation Models and Presto\n",
    "2) Definition of Few-Shot learning\n",
    "3) Apply Presto to perfrom Few-Shot learning on a regression and a classification task"
   ]
  },
  {
   "cell_type": "markdown",
   "metadata": {},
   "source": [
    "### 1) Foundation Models\n",
    "\n",
    "A Foundation Model is a model trained on large and diverse unlabeled datasets to learn general patterns and features of the data. Thanks to its strong generalization capabilities, such a model can be adapted for a wide range of applications that use similar types of input data.\n",
    "\n",
    "**Presto** (**P**retrained **Re**mote **S**ensing **T**ransf**o**rmer) is a foundation model trained on a large, unlabeled dataset of Sentinel-2, Sentinel-1, Meteorological and Topography pixel-timeseries data. It is able to capture long-range relationships across time and sensor dimensions, improving the signal-to-noise ratio and providing a concise, informative representation of the inputs. \n",
    "In this project, We made use of the Presto version developed in collaboration with [WorldCereal](https://github.com/WorldCereal/prometheo.git)\n",
    "\n",
    "Originally trained on monthly composites, Presto has been refined to be able to ingest dekadal data and to be fine-tuned for regression and classification tasks.\n",
    "\n",
    "### 2) Few-Shot Learning\n",
    "\n",
    "Few-shot learning aims to develop models that can learn from a small number of labeled instances while enhancing generalization and performance on new, unseen examples.\n",
    "\n",
    "Given a dataset with only a few annotated examples, we can fine-tune a pretrained foundation model to either directly handle the downstream task or generate compressed representations of the inputs, which can then be used to train a machine learning model for the downstream task. We hereby show-case the former scenario, whose overview is depicted in the figure below.\n",
    "\n",
    "<div style=\"text-align: center;\">\n",
    "    <img src=\"../images/ScaleAG_pipeline_overview_presto.jpg\" alt=\"Overview of a Foundation Model fine tuned for different downstream tasks and applications.\" width=\"700\" />\n",
    "    <p><em>Overview of a Foundation Model fine tuned for different downstream tasks and applications.</em></p>\n",
    "</div>\n",
    "\n",
    "### 3) Implementing Few-Shot learning with Presto"
   ]
  },
  {
   "cell_type": "code",
   "execution_count": 33,
   "metadata": {},
   "outputs": [
    {
     "name": "stdout",
     "output_type": "stream",
     "text": [
      "The autoreload extension is already loaded. To reload it, use:\n",
      "  %reload_ext autoreload\n"
     ]
    }
   ],
   "source": [
    "%load_ext autoreload\n",
    "%autoreload 2\n",
    "\n",
    "from loguru import logger\n",
    "from pathlib import Path\n",
    "from scaleagdata_vito.presto.datasets_prometheo import ScaleAgDataset\n",
    "from scaleagdata_vito.openeo.extract_sample_scaleag import generate_input_for_extractions, extract\n",
    "from scaleagdata_vito.presto.utils import evaluate_finetuned_model\n",
    "from scaleagdata_vito.presto.presto_df import load_dataset\n",
    "from scaleagdata_vito.presto.utils import train_test_val_split, plot_distribution, finetune_on_task, load_finetuned_model\n",
    "from scaleagdata_vito.presto.inference import PrestoPredictor, reshape_result, plot_results\n",
    "from scaleagdata_vito.utils.map import ui_map\n",
    "from scaleagdata_vito.utils.dateslider import date_slider\n",
    "from scaleagdata_vito.openeo.extract_sample_scaleag import collect_inputs_for_inference"
   ]
  },
  {
   "cell_type": "markdown",
   "metadata": {},
   "source": [
    "#### Requirements for running the extractions\n",
    "- Account in [Copernicus Data Space Ecosystem (CDSE)](https://dataspace.copernicus.eu/). You can sign up for free and have a monthly availability of 10000 credits.\n",
    "- A dataset with valid geometries (Points or Polygons) in lat-lon projection. \n",
    "- A labelled dataset. Not required for the extractions, but for the following Fine Tuning steps.\n",
    "\n",
    "#### EO data extractions\n",
    "In this first step, we extract for each sample in your dataset the required EO time series from CDSE using OpenEO.\n",
    "For running the job, the user should indicate the following job_dictionary fields:\n",
    "\n",
    "```python\n",
    "    job_params = dict(\n",
    "        output_folder=..., # where to save the extracted dataset\n",
    "        input_df=..., # input georeferenced dataset to run the extractions for \n",
    "        start_date=..., # string indicating from which date to extract data  \n",
    "        end_date=..., # string indicating until which date to extract the data \n",
    "        unique_id_column=..., # name of the column in the input_df containing the unique ID of the samples  \n",
    "        composite_window=..., # \"month\" or \"dekad\" are supported. Default is \"dekad\"\n",
    "    )\n",
    "```\n",
    "in particular:\n",
    "- If the `date` information associated with the label is provided, the `start_date` of the time-series is automatically set to 9 months before the date, whereas the `end_date` is set to 9 months after. If `date` is not available, the user needs to manually indicate the desired `start_date` and `end_date` for the extractions.\n",
    "- `composite_window` indicates the time-series granularity, which can be decadal or monthly. \n",
    "  - `dekad`: each time step in the extracted time series corresponds to a mean-compositing operation on 10-days acquisitions. Accordingly with the start and end date, each month will be covered by 3 time steps which, by default, correspond to the 1st, 11th and 21th of the month. \n",
    "  - `month`: each time step in the extracted time series corresponds to a mean-compositing operation on 30-days acquisitions. Each month will be covered by 1 time step which, by default, correspond to the 1st of the month.\n",
    "\n",
    "The following decadal/monthly time series will be extracted for the indicated time range:\n",
    "\n",
    "- Sentinel-2 L2A data (all bands)\n",
    "- Sentinel-1 SIGMA0, VH and VV\n",
    "- Average air temperature and precipitation sum derived from AgERA5\n",
    "- Slope and elevation from Copernicus DEM\n",
    "\n",
    "Presto accepts 1D time-series. Therefore, if Polygons are provided for the extractions, the latter are spatially aggregated in a point which will be assigned to the centroid lat lon geolocation."
   ]
  },
  {
   "cell_type": "markdown",
   "metadata": {},
   "source": [
    "### Regression task: potato yield estimation \n",
    "\n",
    "The data covers fields in Belgium during the growing season of 2022. The dataset is partitioned into training, validation and test sets."
   ]
  },
  {
   "cell_type": "markdown",
   "metadata": {},
   "source": [
    "##### Data Extraction"
   ]
  },
  {
   "cell_type": "code",
   "execution_count": 30,
   "metadata": {},
   "outputs": [],
   "source": [
    "output_folder = Path(\"/home/giorgia/Private/data/scaleag/18032025/\")\n",
    "input_df = Path(\"/home/giorgia/Private/data/scaleag/18032025/LPIS_subfields_Flanders_yield_cleaned.geojson\")\n",
    "start_date = \"2022-01-01\"\n",
    "end_date = \"2022-12-31\"\n",
    "unique_id_column = \"fieldname\"\n",
    "composite_window = \"dekad\""
   ]
  },
  {
   "cell_type": "code",
   "execution_count": null,
   "metadata": {},
   "outputs": [
    {
     "name": "stdout",
     "output_type": "stream",
     "text": [
      "python scaleag-vito/scripts/extractions/extract.py -output_folder /home/giorgia/Private/data/scaleag/18032025/ -input_df /home/giorgia/Private/data/scaleag/18032025/LPIS_subfields_Flanders_yield_cleaned.geojson --start_date 2022-01-01 --end_date 2022-12-31 --unique_id_column fieldname --composite_window dekad\n"
     ]
    }
   ],
   "source": [
    "job_params = dict(\n",
    "    output_folder=output_folder,\n",
    "    input_df=input_df,\n",
    "    start_date=start_date,\n",
    "    end_date=end_date,\n",
    "    unique_id_column=unique_id_column,\n",
    "    composite_window=composite_window,\n",
    ")\n",
    "extract(generate_input_for_extractions(job_params))"
   ]
  },
  {
   "cell_type": "markdown",
   "metadata": {},
   "source": [
    "Once the dataset will be extracted, it can be loaded with the `load_dataset` function by specifying the path where the `.parquet` files have been downloaded. Moreover, the following manipulations of the dataset are also possible:\n",
    "\n",
    "- `window_of_interest`: the user can specify a time window of interest out of the whole available time-series. `start_date` and `end_date` should be provided as strings in a list.\n",
    "- `use_valid_time`: the user might want to define the window of interest based on the `date` the label is associated with. If so, also `required_min_timesteps` should be provided\n",
    "- `buffer_window`: buffers the `start_date` and `end_date` by the number of time steps here specified  \n",
    "\n",
    "In the following cell, we load the extracted dataset for 1 year of data"
   ]
  },
  {
   "cell_type": "markdown",
   "metadata": {},
   "source": [
    "##### Presto datasets initialization"
   ]
  },
  {
   "cell_type": "code",
   "execution_count": null,
   "metadata": {},
   "outputs": [
    {
     "name": "stderr",
     "output_type": "stream",
     "text": [
      "100%|██████████| 544/544 [00:37<00:00, 14.60it/s]\n"
     ]
    }
   ],
   "source": [
    "df = load_dataset(\n",
    "    files_root_dir=\"/home/giorgia/Private/data/scaleag/18032025/\",\n",
    "    window_of_interest=[start_date, end_date],\n",
    "    use_valid_time=False, # default value\n",
    "    required_min_timesteps=36, # default value\n",
    "    buffer_window=0, # default value\n",
    "    composite_window=composite_window,\n",
    ")"
   ]
  },
  {
   "cell_type": "markdown",
   "metadata": {},
   "source": [
    "The following step splits the data into train, test and val datasets. the split can be performed by uniform sampling or by group sampling. The former is usually more suitable for the binary and multiclass classification tasks, to ensure the data distribution is represented in all the 3 sets. The latter is more specific for cases where we want to avoid data autocorrelation and so data leakage between training and val/test sets.\n",
    "In the case of yield estimation, for instance, we often have samples coming from the same field. So we might want to separate the data based on the field they belong to to better test the model generalization capabilities.\n",
    "Therefore:\n",
    "- `uniform_sample_by`: pass the name of the column in the dataframe to perform uniform sampling on\n",
    "- `group_sample_by`: pass the name of the column in the dataframe to perform the group sampling on\n",
    "\n",
    "`sampling_fraction` indicates the proportion of the training set out of the whole dataset. the remaining percentage will be equally devided into validation and test sets."
   ]
  },
  {
   "cell_type": "code",
   "execution_count": 22,
   "metadata": {},
   "outputs": [
    {
     "name": "stderr",
     "output_type": "stream",
     "text": [
      "\u001b[32m2025-04-23 15:48:43.138\u001b[0m | \u001b[1mINFO    \u001b[0m | \u001b[36mscaleagdata_vito.presto.utils\u001b[0m:\u001b[36mtrain_test_val_split\u001b[0m:\u001b[36m278\u001b[0m - \u001b[1mTraining set size: 21544\u001b[0m\n",
      "\u001b[32m2025-04-23 15:48:43.139\u001b[0m | \u001b[1mINFO    \u001b[0m | \u001b[36mscaleagdata_vito.presto.utils\u001b[0m:\u001b[36mtrain_test_val_split\u001b[0m:\u001b[36m279\u001b[0m - \u001b[1mValidation set size: 2116\u001b[0m\n",
      "\u001b[32m2025-04-23 15:48:43.140\u001b[0m | \u001b[1mINFO    \u001b[0m | \u001b[36mscaleagdata_vito.presto.utils\u001b[0m:\u001b[36mtrain_test_val_split\u001b[0m:\u001b[36m280\u001b[0m - \u001b[1mTest set size: 3414\u001b[0m\n"
     ]
    }
   ],
   "source": [
    "df_train, df_val, df_test = train_test_val_split(df=df, group_sample_by=\"parentname\", sampling_frac=0.8)"
   ]
  },
  {
   "cell_type": "markdown",
   "metadata": {},
   "source": [
    "We now set up the parameters needed for initializing presto datasets for the specific task:\n",
    "- `num_timesteps`: can be inferred by the max number of the `available_timesteps` \n",
    "- `target_name`: name of the column containing the target data\n",
    "- `upper_bound` and `lower_bound`: The user can set an upper and lower bound for the targets to clip the data on in case of outliers. Set these values to the min and max of the whole distribution if the dataset contains none. The following plot allows the user to visualize the overall data distribution, spot outliers and set these values.\n",
    "\n",
    "**NOTE:** upper and lower bounds are also used to normalize the targets during the training process. Therefore it is important to keep track of such values to convert the predictions to the original units in the inference step!  "
   ]
  },
  {
   "cell_type": "code",
   "execution_count": null,
   "metadata": {},
   "outputs": [
    {
     "data": {
      "image/png": "[encoded data removed]",
      "text/plain": [
       "<Figure size 800x400 with 1 Axes>"
      ]
     },
     "metadata": {},
     "output_type": "display_data"
    }
   ],
   "source": [
    "# visualize distribution to check for outliers to exclude if needed\n",
    "num_timesteps = df.available_timesteps.max()\n",
    "task_type = \"regression\"\n",
    "target_name = \"median_yield\"\n",
    "upper_bound = 120000\n",
    "lower_bound = 10000\n",
    "plot_distribution(df, target_name, upper_bound, lower_bound)"
   ]
  },
  {
   "cell_type": "markdown",
   "metadata": {},
   "source": [
    "We Initialize the training, validation and test datasets objects to be used for training Presto."
   ]
  },
  {
   "cell_type": "code",
   "execution_count": null,
   "metadata": {},
   "outputs": [
    {
     "name": "stderr",
     "output_type": "stream",
     "text": [
      "\u001b[32m2025-04-23 15:49:41.488\u001b[0m | \u001b[1mINFO    \u001b[0m | \u001b[36mscaleagdata_vito.presto.datasets_prometheo\u001b[0m:\u001b[36mset_num_outputs\u001b[0m:\u001b[36m139\u001b[0m - \u001b[1mSetting number of outputs to 1 for regression task.\u001b[0m\n",
      "\u001b[32m2025-04-23 15:49:41.496\u001b[0m | \u001b[1mINFO    \u001b[0m | \u001b[36mscaleagdata_vito.presto.datasets_prometheo\u001b[0m:\u001b[36mset_num_outputs\u001b[0m:\u001b[36m139\u001b[0m - \u001b[1mSetting number of outputs to 1 for regression task.\u001b[0m\n"
     ]
    },
    {
     "name": "stderr",
     "output_type": "stream",
     "text": [
      "\u001b[32m2025-04-23 15:49:41.503\u001b[0m | \u001b[1mINFO    \u001b[0m | \u001b[36mscaleagdata_vito.presto.datasets_prometheo\u001b[0m:\u001b[36mset_num_outputs\u001b[0m:\u001b[36m139\u001b[0m - \u001b[1mSetting number of outputs to 1 for regression task.\u001b[0m\n"
     ]
    }
   ],
   "source": [
    "# initialize datasets\n",
    "train_ds = ScaleAgDataset(\n",
    "    df_train,\n",
    "    num_timesteps=num_timesteps,\n",
    "    task_type=task_type,\n",
    "    target_name=target_name,\n",
    "    composite_window=composite_window,\n",
    "    upper_bound=upper_bound,\n",
    "    lower_bound=lower_bound,\n",
    ")\n",
    "val_ds = ScaleAgDataset(\n",
    "    df_val,\n",
    "    num_timesteps=num_timesteps,\n",
    "    task_type=task_type,\n",
    "    target_name=target_name,\n",
    "    composite_window=composite_window,\n",
    "    upper_bound=upper_bound,\n",
    "    lower_bound=lower_bound,\n",
    ")\n",
    "test_ds = ScaleAgDataset(\n",
    "    df_test,\n",
    "    num_timesteps=num_timesteps,\n",
    "    task_type=task_type,\n",
    "    target_name=target_name,\n",
    "    composite_window=composite_window,\n",
    "    upper_bound=upper_bound,\n",
    "    lower_bound=lower_bound,\n",
    ")"
   ]
  },
  {
   "cell_type": "markdown",
   "metadata": {},
   "source": [
    "##### Presto Finetuning\n",
    "\n",
    "In this section Presto will be Fine-Tuned in a supervised way for the target downstream task. first we set up the following experiment parameters:\n",
    "\n",
    "- `max_epochs` : max number of epochs to train on \n",
    "- `batch_size` : number of samples forming a batch. the weights of the model are updated after each batch pass. \n",
    "- `patience` : controls the early stopping. Indicates how many epochs to wait before stopping the train if the validation loss does not improve\n",
    "- `output_dir` : where to dave the model \n",
    "- `experiment_name` : the model name\n",
    "- `pretrained_model_path` : pretrained presto model to start the fine tuning from. Can be a string indicating the path to the model or a url "
   ]
  },
  {
   "cell_type": "code",
   "execution_count": 26,
   "metadata": {},
   "outputs": [],
   "source": [
    "# set models hyperparameters\n",
    "max_epochs = 50\n",
    "batch_size = 100\n",
    "num_workers = 2\n",
    "patience = 3 \n",
    "output_dir = Path(\"/home/giorgia/Private/models_FSL/scaleag/regression/\")\n",
    "experiment_name = \"presto-ss-wc-10D-ft-dek\"\n",
    "pretrained_model_path = \"https://artifactory.vgt.vito.be/artifactory/auxdata-public/scaleagdata/models/presto-ss-wc_10D.pt\""
   ]
  },
  {
   "cell_type": "code",
   "execution_count": 27,
   "metadata": {},
   "outputs": [
    {
     "name": "stderr",
     "output_type": "stream",
     "text": [
      "\u001b[32m2025-04-23 15:49:48.618\u001b[0m | \u001b[1mINFO    \u001b[0m | \u001b[36mscaleagdata_vito.presto.utils\u001b[0m:\u001b[36mfinetune_on_task\u001b[0m:\u001b[36m199\u001b[0m - \u001b[1mFinetuning the model on regression task\u001b[0m\n",
      "\u001b[32m2025-04-23 15:49:48.621\u001b[0m | \u001b[1mINFO    \u001b[0m | \u001b[36mprometheo.finetune\u001b[0m:\u001b[36m_setup\u001b[0m:\u001b[36m171\u001b[0m - \u001b[1mUsing output dir: /data/users/Private/giorgia/models_FSL/scaleag/regression\u001b[0m\n"
     ]
    },
    {
     "data": {
      "application/vnd.jupyter.widget-view+json": {
       "model_id": "6e2879f732fa48999e59100dc3aacdf6",
       "version_major": 2,
       "version_minor": 0
      },
      "text/plain": [
       "Finetuning:   0%|          | 0/50 [00:00<?, ?it/s]"
      ]
     },
     "metadata": {},
     "output_type": "display_data"
    },
    {
     "data": {
      "application/vnd.jupyter.widget-view+json": {
       "model_id": "937384bb533c44288ade0e476421169a",
       "version_major": 2,
       "version_minor": 0
      },
      "text/plain": [
       "Training:   0%|          | 0/216 [00:00<?, ?it/s]"
      ]
     },
     "metadata": {},
     "output_type": "display_data"
    },
    {
     "name": "stderr",
     "output_type": "stream",
     "text": [
      "\u001b[32m2025-04-23 15:52:43.463\u001b[0m | \u001b[1mINFO    \u001b[0m | \u001b[36mprometheo.finetune\u001b[0m:\u001b[36m_train_loop\u001b[0m:\u001b[36m126\u001b[0m - \u001b[1mPROGRESS after Epoch 1/50: Train metric: 0.088, Val metric: 0.031, Best Val Loss: 0.031 (improved)\u001b[0m\n"
     ]
    },
    {
     "data": {
      "application/vnd.jupyter.widget-view+json": {
       "model_id": "87ea8e2cb4d04249afde0465d467ef80",
       "version_major": 2,
       "version_minor": 0
      },
      "text/plain": [
       "Training:   0%|          | 0/216 [00:00<?, ?it/s]"
      ]
     },
     "metadata": {},
     "output_type": "display_data"
    },
    {
     "name": "stderr",
     "output_type": "stream",
     "text": [
      "\u001b[32m2025-04-23 15:55:45.928\u001b[0m | \u001b[1mINFO    \u001b[0m | \u001b[36mprometheo.finetune\u001b[0m:\u001b[36m_train_loop\u001b[0m:\u001b[36m126\u001b[0m - \u001b[1mPROGRESS after Epoch 2/50: Train metric: 0.030, Val metric: 0.026, Best Val Loss: 0.026 (improved)\u001b[0m\n"
     ]
    },
    {
     "data": {
      "application/vnd.jupyter.widget-view+json": {
       "model_id": "432096ebff094c8484f3481b95739dae",
       "version_major": 2,
       "version_minor": 0
      },
      "text/plain": [
       "Training:   0%|          | 0/216 [00:00<?, ?it/s]"
      ]
     },
     "metadata": {},
     "output_type": "display_data"
    },
    {
     "name": "stderr",
     "output_type": "stream",
     "text": [
      "\u001b[32m2025-04-23 15:58:20.985\u001b[0m | \u001b[1mINFO    \u001b[0m | \u001b[36mprometheo.finetune\u001b[0m:\u001b[36m_train_loop\u001b[0m:\u001b[36m126\u001b[0m - \u001b[1mPROGRESS after Epoch 3/50: Train metric: 0.028, Val metric: 0.024, Best Val Loss: 0.024 (improved)\u001b[0m\n"
     ]
    },
    {
     "data": {
      "application/vnd.jupyter.widget-view+json": {
       "model_id": "b1ab5ffe959a4fd18c7cb7f2495d4ece",
       "version_major": 2,
       "version_minor": 0
      },
      "text/plain": [
       "Training:   0%|          | 0/216 [00:00<?, ?it/s]"
      ]
     },
     "metadata": {},
     "output_type": "display_data"
    },
    {
     "name": "stderr",
     "output_type": "stream",
     "text": [
      "\u001b[32m2025-04-23 16:00:55.589\u001b[0m | \u001b[1mINFO    \u001b[0m | \u001b[36mprometheo.finetune\u001b[0m:\u001b[36m_train_loop\u001b[0m:\u001b[36m126\u001b[0m - \u001b[1mPROGRESS after Epoch 4/50: Train metric: 0.026, Val metric: 0.023, Best Val Loss: 0.023 (improved)\u001b[0m\n"
     ]
    },
    {
     "data": {
      "application/vnd.jupyter.widget-view+json": {
       "model_id": "c28a52dcd7824303a4a630d6cf70c653",
       "version_major": 2,
       "version_minor": 0
      },
      "text/plain": [
       "Training:   0%|          | 0/216 [00:00<?, ?it/s]"
      ]
     },
     "metadata": {},
     "output_type": "display_data"
    },
    {
     "name": "stderr",
     "output_type": "stream",
     "text": [
      "\u001b[32m2025-04-23 16:03:53.181\u001b[0m | \u001b[1mINFO    \u001b[0m | \u001b[36mprometheo.finetune\u001b[0m:\u001b[36m_train_loop\u001b[0m:\u001b[36m126\u001b[0m - \u001b[1mPROGRESS after Epoch 5/50: Train metric: 0.025, Val metric: 0.021, Best Val Loss: 0.021 (improved)\u001b[0m\n"
     ]
    },
    {
     "data": {
      "application/vnd.jupyter.widget-view+json": {
       "model_id": "7a808c51295044acbf04c1a2b74f7bb2",
       "version_major": 2,
       "version_minor": 0
      },
      "text/plain": [
       "Training:   0%|          | 0/216 [00:00<?, ?it/s]"
      ]
     },
     "metadata": {},
     "output_type": "display_data"
    },
    {
     "name": "stderr",
     "output_type": "stream",
     "text": [
      "\u001b[32m2025-04-23 16:06:55.576\u001b[0m | \u001b[1mINFO    \u001b[0m | \u001b[36mprometheo.finetune\u001b[0m:\u001b[36m_train_loop\u001b[0m:\u001b[36m126\u001b[0m - \u001b[1mPROGRESS after Epoch 6/50: Train metric: 0.025, Val metric: 0.021, Best Val Loss: 0.021 (improved)\u001b[0m\n"
     ]
    },
    {
     "data": {
      "application/vnd.jupyter.widget-view+json": {
       "model_id": "2aa31079c5364c05adfac89b2f65f2a4",
       "version_major": 2,
       "version_minor": 0
      },
      "text/plain": [
       "Training:   0%|          | 0/216 [00:00<?, ?it/s]"
      ]
     },
     "metadata": {},
     "output_type": "display_data"
    },
    {
     "name": "stderr",
     "output_type": "stream",
     "text": [
      "\u001b[32m2025-04-23 16:09:38.055\u001b[0m | \u001b[1mINFO    \u001b[0m | \u001b[36mprometheo.finetune\u001b[0m:\u001b[36m_train_loop\u001b[0m:\u001b[36m126\u001b[0m - \u001b[1mPROGRESS after Epoch 7/50: Train metric: 0.024, Val metric: 0.020, Best Val Loss: 0.020 (improved)\u001b[0m\n"
     ]
    },
    {
     "data": {
      "application/vnd.jupyter.widget-view+json": {
       "model_id": "3f0435e67432423aa5630504f1be1b13",
       "version_major": 2,
       "version_minor": 0
      },
      "text/plain": [
       "Training:   0%|          | 0/216 [00:00<?, ?it/s]"
      ]
     },
     "metadata": {},
     "output_type": "display_data"
    },
    {
     "name": "stderr",
     "output_type": "stream",
     "text": [
      "\u001b[32m2025-04-23 16:12:17.023\u001b[0m | \u001b[1mINFO    \u001b[0m | \u001b[36mprometheo.finetune\u001b[0m:\u001b[36m_train_loop\u001b[0m:\u001b[36m126\u001b[0m - \u001b[1mPROGRESS after Epoch 8/50: Train metric: 0.023, Val metric: 0.019, Best Val Loss: 0.019 (improved)\u001b[0m\n"
     ]
    },
    {
     "data": {
      "application/vnd.jupyter.widget-view+json": {
       "model_id": "ef1294c4bd0d4ec7985e237e3f809f7e",
       "version_major": 2,
       "version_minor": 0
      },
      "text/plain": [
       "Training:   0%|          | 0/216 [00:00<?, ?it/s]"
      ]
     },
     "metadata": {},
     "output_type": "display_data"
    },
    {
     "name": "stderr",
     "output_type": "stream",
     "text": [
      "\u001b[32m2025-04-23 16:14:54.548\u001b[0m | \u001b[1mINFO    \u001b[0m | \u001b[36mprometheo.finetune\u001b[0m:\u001b[36m_train_loop\u001b[0m:\u001b[36m126\u001b[0m - \u001b[1mPROGRESS after Epoch 9/50: Train metric: 0.022, Val metric: 0.019, Best Val Loss: 0.019 (improved)\u001b[0m\n"
     ]
    },
    {
     "data": {
      "application/vnd.jupyter.widget-view+json": {
       "model_id": "a7f8bbc3a8a246debf0876a01fec4d42",
       "version_major": 2,
       "version_minor": 0
      },
      "text/plain": [
       "Training:   0%|          | 0/216 [00:00<?, ?it/s]"
      ]
     },
     "metadata": {},
     "output_type": "display_data"
    },
    {
     "name": "stderr",
     "output_type": "stream",
     "text": [
      "\u001b[32m2025-04-23 16:17:36.527\u001b[0m | \u001b[1mINFO    \u001b[0m | \u001b[36mprometheo.finetune\u001b[0m:\u001b[36m_train_loop\u001b[0m:\u001b[36m126\u001b[0m - \u001b[1mPROGRESS after Epoch 10/50: Train metric: 0.022, Val metric: 0.020, Best Val Loss: 0.019 (no improvement for 1 epochs)\u001b[0m\n"
     ]
    },
    {
     "data": {
      "application/vnd.jupyter.widget-view+json": {
       "model_id": "6915b445e75e47d19b8660669104c8c0",
       "version_major": 2,
       "version_minor": 0
      },
      "text/plain": [
       "Training:   0%|          | 0/216 [00:00<?, ?it/s]"
      ]
     },
     "metadata": {},
     "output_type": "display_data"
    },
    {
     "name": "stderr",
     "output_type": "stream",
     "text": [
      "\u001b[32m2025-04-23 16:20:43.289\u001b[0m | \u001b[1mINFO    \u001b[0m | \u001b[36mprometheo.finetune\u001b[0m:\u001b[36m_train_loop\u001b[0m:\u001b[36m126\u001b[0m - \u001b[1mPROGRESS after Epoch 11/50: Train metric: 0.021, Val metric: 0.019, Best Val Loss: 0.019 (improved)\u001b[0m\n"
     ]
    },
    {
     "data": {
      "application/vnd.jupyter.widget-view+json": {
       "model_id": "885db3c8f38c45eba781dbcc0db889b9",
       "version_major": 2,
       "version_minor": 0
      },
      "text/plain": [
       "Training:   0%|          | 0/216 [00:00<?, ?it/s]"
      ]
     },
     "metadata": {},
     "output_type": "display_data"
    },
    {
     "name": "stderr",
     "output_type": "stream",
     "text": [
      "\u001b[32m2025-04-23 16:23:40.261\u001b[0m | \u001b[1mINFO    \u001b[0m | \u001b[36mprometheo.finetune\u001b[0m:\u001b[36m_train_loop\u001b[0m:\u001b[36m126\u001b[0m - \u001b[1mPROGRESS after Epoch 12/50: Train metric: 0.020, Val metric: 0.019, Best Val Loss: 0.019 (no improvement for 1 epochs)\u001b[0m\n"
     ]
    },
    {
     "data": {
      "application/vnd.jupyter.widget-view+json": {
       "model_id": "6a97b8568ef8413d9d66c62e9d22ccd3",
       "version_major": 2,
       "version_minor": 0
      },
      "text/plain": [
       "Training:   0%|          | 0/216 [00:00<?, ?it/s]"
      ]
     },
     "metadata": {},
     "output_type": "display_data"
    },
    {
     "name": "stderr",
     "output_type": "stream",
     "text": [
      "\u001b[32m2025-04-23 16:26:38.357\u001b[0m | \u001b[1mINFO    \u001b[0m | \u001b[36mprometheo.finetune\u001b[0m:\u001b[36m_train_loop\u001b[0m:\u001b[36m126\u001b[0m - \u001b[1mPROGRESS after Epoch 13/50: Train metric: 0.019, Val metric: 0.019, Best Val Loss: 0.019 (no improvement for 2 epochs)\u001b[0m\n"
     ]
    },
    {
     "data": {
      "application/vnd.jupyter.widget-view+json": {
       "model_id": "cc649eba9c93464abd8cfea8d3dd1118",
       "version_major": 2,
       "version_minor": 0
      },
      "text/plain": [
       "Training:   0%|          | 0/216 [00:00<?, ?it/s]"
      ]
     },
     "metadata": {},
     "output_type": "display_data"
    },
    {
     "name": "stderr",
     "output_type": "stream",
     "text": [
      "\u001b[32m2025-04-23 16:29:38.892\u001b[0m | \u001b[1mINFO    \u001b[0m | \u001b[36mprometheo.finetune\u001b[0m:\u001b[36m_train_loop\u001b[0m:\u001b[36m126\u001b[0m - \u001b[1mPROGRESS after Epoch 14/50: Train metric: 0.019, Val metric: 0.018, Best Val Loss: 0.018 (improved)\u001b[0m\n"
     ]
    },
    {
     "data": {
      "application/vnd.jupyter.widget-view+json": {
       "model_id": "d1494f578fae48858905bc494aa18720",
       "version_major": 2,
       "version_minor": 0
      },
      "text/plain": [
       "Training:   0%|          | 0/216 [00:00<?, ?it/s]"
      ]
     },
     "metadata": {},
     "output_type": "display_data"
    },
    {
     "name": "stderr",
     "output_type": "stream",
     "text": [
      "\u001b[32m2025-04-23 16:32:28.841\u001b[0m | \u001b[1mINFO    \u001b[0m | \u001b[36mprometheo.finetune\u001b[0m:\u001b[36m_train_loop\u001b[0m:\u001b[36m126\u001b[0m - \u001b[1mPROGRESS after Epoch 15/50: Train metric: 0.018, Val metric: 0.018, Best Val Loss: 0.018 (improved)\u001b[0m\n"
     ]
    },
    {
     "data": {
      "application/vnd.jupyter.widget-view+json": {
       "model_id": "121b0d19458b41adb15f189f64b73803",
       "version_major": 2,
       "version_minor": 0
      },
      "text/plain": [
       "Training:   0%|          | 0/216 [00:00<?, ?it/s]"
      ]
     },
     "metadata": {},
     "output_type": "display_data"
    },
    {
     "name": "stderr",
     "output_type": "stream",
     "text": [
      "\u001b[32m2025-04-23 16:35:31.057\u001b[0m | \u001b[1mINFO    \u001b[0m | \u001b[36mprometheo.finetune\u001b[0m:\u001b[36m_train_loop\u001b[0m:\u001b[36m126\u001b[0m - \u001b[1mPROGRESS after Epoch 16/50: Train metric: 0.018, Val metric: 0.020, Best Val Loss: 0.018 (no improvement for 1 epochs)\u001b[0m\n"
     ]
    },
    {
     "data": {
      "application/vnd.jupyter.widget-view+json": {
       "model_id": "3838b62dd4454cca8c78496d63d641ab",
       "version_major": 2,
       "version_minor": 0
      },
      "text/plain": [
       "Training:   0%|          | 0/216 [00:00<?, ?it/s]"
      ]
     },
     "metadata": {},
     "output_type": "display_data"
    },
    {
     "name": "stderr",
     "output_type": "stream",
     "text": [
      "\u001b[32m2025-04-23 16:38:29.016\u001b[0m | \u001b[1mINFO    \u001b[0m | \u001b[36mprometheo.finetune\u001b[0m:\u001b[36m_train_loop\u001b[0m:\u001b[36m126\u001b[0m - \u001b[1mPROGRESS after Epoch 17/50: Train metric: 0.017, Val metric: 0.019, Best Val Loss: 0.018 (no improvement for 2 epochs)\u001b[0m\n"
     ]
    },
    {
     "data": {
      "application/vnd.jupyter.widget-view+json": {
       "model_id": "5252080260b745c6bbf3c3c10bf40be4",
       "version_major": 2,
       "version_minor": 0
      },
      "text/plain": [
       "Training:   0%|          | 0/216 [00:00<?, ?it/s]"
      ]
     },
     "metadata": {},
     "output_type": "display_data"
    },
    {
     "name": "stderr",
     "output_type": "stream",
     "text": [
      "\u001b[32m2025-04-23 16:41:20.884\u001b[0m | \u001b[1mINFO    \u001b[0m | \u001b[36mprometheo.finetune\u001b[0m:\u001b[36m_train_loop\u001b[0m:\u001b[36m111\u001b[0m - \u001b[1mEarly stopping!\u001b[0m\n",
      "\u001b[32m2025-04-23 16:41:20.921\u001b[0m | \u001b[1mINFO    \u001b[0m | \u001b[36mprometheo.finetune\u001b[0m:\u001b[36mrun_finetuning\u001b[0m:\u001b[36m274\u001b[0m - \u001b[1mFinetuning done\u001b[0m\n",
      "\u001b[32m2025-04-23 16:41:20.924\u001b[0m | \u001b[1mINFO    \u001b[0m | \u001b[36mscaleagdata_vito.presto.utils\u001b[0m:\u001b[36mevaluate_finetuned_model\u001b[0m:\u001b[36m103\u001b[0m - \u001b[1mEvaluating the finetuned model on regression task\u001b[0m\n"
     ]
    },
    {
     "data": {
      "text/plain": [
       "{'RMSE': 14013.742259466857,\n",
       " 'R2_score': 0.2653514642433884,\n",
       " 'explained_var_score': 0.33797185007684505,\n",
       " 'MAPE': 0.25925260027931274}"
      ]
     },
     "execution_count": 27,
     "metadata": {},
     "output_type": "execute_result"
    }
   ],
   "source": [
    "# Construct the model with finetuning head starting from the pretrained model\n",
    "finetuned_model = finetune_on_task(\n",
    "    train_ds=train_ds,\n",
    "    val_ds=val_ds,\n",
    "    pretrained_model_path=pretrained_model_path,\n",
    "    output_dir=output_dir, \n",
    "    experiment_name=experiment_name,\n",
    "    max_epochs=max_epochs,\n",
    "    batch_size=batch_size,\n",
    "    num_workers=num_workers,\n",
    "    patience=patience,\n",
    "    )\n",
    "evaluate_finetuned_model(finetuned_model, test_ds, num_workers=2, batch_size=32)"
   ]
  },
  {
   "cell_type": "markdown",
   "metadata": {},
   "source": [
    "##### Inference using Fine-Tuned end-to-end Presto"
   ]
  },
  {
   "cell_type": "markdown",
   "metadata": {},
   "source": [
    "In this section, we apply the fine tuned model to generate a yield map on an unseen area. \n",
    "We need to indicate the spatial and temporal extent. The 2 cells below, offer a simple way for the user to provide these information and perform once again the extraction from CDSE of the EO time-series required by Presto. \n",
    "We also need to indicate the `output_dir` of where to save the datacube of the extraction, its `output_filename` and the `composite_window` which will be the same as used for finetuning the model."
   ]
  },
  {
   "cell_type": "code",
   "execution_count": 11,
   "metadata": {},
   "outputs": [
    {
     "data": {
      "application/vnd.jupyter.widget-view+json": {
       "model_id": "40defd2ff5424d20b4883b9e558ea288",
       "version_major": 2,
       "version_minor": 0
      },
      "text/plain": [
       "VBox(children=(Map(center=[51.1872, 5.1154], controls=(ZoomControl(options=['position', 'zoom_in_text', 'zoom_…"
      ]
     },
     "metadata": {},
     "output_type": "display_data"
    }
   ],
   "source": [
    "map = ui_map(area_limit=7)"
   ]
  },
  {
   "cell_type": "code",
   "execution_count": 12,
   "metadata": {},
   "outputs": [
    {
     "data": {
      "text/html": [
       "\n",
       "        <style>\n",
       "        .widget-container {\n",
       "            padding-left: 10px; /* Add 20px margin on left and right */\n",
       "            box-sizing: border-box; /* Include padding in width */\n",
       "            width: 600px; /* Fixed width for consistent alignment */\n",
       "            margin: 0 auto; /* Center align the container */\n",
       "            position: relative;\n",
       "        }\n",
       "        .slider-container {\n",
       "            position: relative;\n",
       "            width: 100%;\n",
       "            margin: 0 auto; /* Center align */\n",
       "        }\n",
       "        .slider-container .tick-wrapper {\n",
       "            position: relative;\n",
       "            width: 100%; /* Match slider width */\n",
       "            height: 40px; /* Reserve space for ticks and labels */\n",
       "        }\n",
       "        .slider-container .tick-mark {\n",
       "            position: absolute;\n",
       "            bottom: 25px; /* Adjust to position tick marks relative to labels */\n",
       "            transform: translateX(-50%);\n",
       "            font-size: 14px;\n",
       "            font-weight: bold;\n",
       "        }\n",
       "        .slider-container .tick-label {\n",
       "            position: absolute;\n",
       "            bottom: 0; /* Place directly under tick marks */\n",
       "            transform: translateX(-50%);\n",
       "            font-size: 10px;\n",
       "            text-align: center;\n",
       "            line-height: 1.2em; /* For two-line labels */\n",
       "        }\n",
       "        </style>\n",
       "        "
      ],
      "text/plain": [
       "<IPython.core.display.HTML object>"
      ]
     },
     "metadata": {},
     "output_type": "display_data"
    },
    {
     "data": {
      "application/vnd.jupyter.widget-view+json": {
       "model_id": "46985bbf1ce04d14a467994921292605",
       "version_major": 2,
       "version_minor": 0
      },
      "text/plain": [
       "VBox(children=(HTML(value=\"\\n            <div style='text-align: center;'>\\n                <div style='font-s…"
      ]
     },
     "metadata": {},
     "output_type": "display_data"
    }
   ],
   "source": [
    "# select 1 year of data\n",
    "slider = date_slider()"
   ]
  },
  {
   "cell_type": "code",
   "execution_count": 35,
   "metadata": {},
   "outputs": [],
   "source": [
    "output_dir = Path(\"/home/giorgia/Private/scaleag_data_test/inference_extraction_test/\")\n",
    "output_filename = \"inference_area\"\n",
    "inference_file = output_dir / f\"{output_filename}.nc\""
   ]
  },
  {
   "cell_type": "code",
   "execution_count": null,
   "metadata": {},
   "outputs": [
    {
     "name": "stderr",
     "output_type": "stream",
     "text": [
      "\u001b[32m2025-04-17 16:40:31.138\u001b[0m | \u001b[1mINFO    \u001b[0m | \u001b[36mscaleagdata_vito.utils.dateslider\u001b[0m:\u001b[36mget_processing_period\u001b[0m:\u001b[36m187\u001b[0m - \u001b[1mSelected processing period: 2021-01-01 to 2021-12-31\u001b[0m\n"
     ]
    },
    {
     "name": "stdout",
     "output_type": "stream",
     "text": [
      "Authenticated using refresh token.\n"
     ]
    },
    {
     "name": "stderr",
     "output_type": "stream",
     "text": [
      "2025-04-17 16:40:41,864 - openeo_gfmap.utils - INFO - Selected orbit state: ASCENDING. Reason: Orbit has more cumulative intersected area. 0.04363704677102694 > 0.042980144991678154\n"
     ]
    },
    {
     "name": "stdout",
     "output_type": "stream",
     "text": [
      "0:00:00 Job 'j-2504171440424531890ce4c7339b2980': send 'start'\n",
      "0:00:14 Job 'j-2504171440424531890ce4c7339b2980': created (progress 0%)\n",
      "0:00:19 Job 'j-2504171440424531890ce4c7339b2980': created (progress 0%)\n",
      "0:00:26 Job 'j-2504171440424531890ce4c7339b2980': queued (progress 0%)\n",
      "0:00:34 Job 'j-2504171440424531890ce4c7339b2980': queued (progress 0%)\n",
      "0:00:43 Job 'j-2504171440424531890ce4c7339b2980': queued (progress 0%)\n",
      "0:00:56 Job 'j-2504171440424531890ce4c7339b2980': queued (progress 0%)\n",
      "0:01:11 Job 'j-2504171440424531890ce4c7339b2980': queued (progress 0%)\n",
      "0:01:30 Job 'j-2504171440424531890ce4c7339b2980': running (progress N/A)\n",
      "0:01:54 Job 'j-2504171440424531890ce4c7339b2980': running (progress N/A)\n",
      "0:02:24 Job 'j-2504171440424531890ce4c7339b2980': running (progress N/A)\n",
      "0:03:02 Job 'j-2504171440424531890ce4c7339b2980': running (progress N/A)\n",
      "0:03:49 Job 'j-2504171440424531890ce4c7339b2980': running (progress N/A)\n",
      "0:04:47 Job 'j-2504171440424531890ce4c7339b2980': running (progress N/A)\n",
      "0:05:47 Job 'j-2504171440424531890ce4c7339b2980': running (progress N/A)\n",
      "0:06:47 Job 'j-2504171440424531890ce4c7339b2980': running (progress N/A)\n",
      "0:07:48 Job 'j-2504171440424531890ce4c7339b2980': running (progress N/A)\n",
      "0:08:48 Job 'j-2504171440424531890ce4c7339b2980': running (progress N/A)\n",
      "0:09:48 Job 'j-2504171440424531890ce4c7339b2980': running (progress N/A)\n",
      "0:10:48 Job 'j-2504171440424531890ce4c7339b2980': running (progress N/A)\n",
      "0:11:48 Job 'j-2504171440424531890ce4c7339b2980': running (progress N/A)\n",
      "0:12:49 Job 'j-2504171440424531890ce4c7339b2980': running (progress N/A)\n",
      "0:13:49 Job 'j-2504171440424531890ce4c7339b2980': running (progress N/A)\n",
      "0:14:49 Job 'j-2504171440424531890ce4c7339b2980': running (progress N/A)\n",
      "0:15:49 Job 'j-2504171440424531890ce4c7339b2980': running (progress N/A)\n",
      "0:16:50 Job 'j-2504171440424531890ce4c7339b2980': running (progress N/A)\n",
      "0:17:50 Job 'j-2504171440424531890ce4c7339b2980': running (progress N/A)\n",
      "0:18:50 Job 'j-2504171440424531890ce4c7339b2980': running (progress N/A)\n",
      "0:19:50 Job 'j-2504171440424531890ce4c7339b2980': running (progress N/A)\n",
      "0:20:50 Job 'j-2504171440424531890ce4c7339b2980': running (progress N/A)\n",
      "0:21:50 Job 'j-2504171440424531890ce4c7339b2980': running (progress N/A)\n",
      "0:22:51 Job 'j-2504171440424531890ce4c7339b2980': running (progress N/A)\n",
      "0:23:51 Job 'j-2504171440424531890ce4c7339b2980': running (progress N/A)\n",
      "0:24:51 Job 'j-2504171440424531890ce4c7339b2980': running (progress N/A)\n",
      "0:25:51 Job 'j-2504171440424531890ce4c7339b2980': running (progress N/A)\n",
      "0:26:52 Job 'j-2504171440424531890ce4c7339b2980': running (progress N/A)\n",
      "0:27:52 Job 'j-2504171440424531890ce4c7339b2980': running (progress N/A)\n",
      "0:28:52 Job 'j-2504171440424531890ce4c7339b2980': running (progress N/A)\n",
      "0:29:52 Job 'j-2504171440424531890ce4c7339b2980': running (progress N/A)\n",
      "0:30:52 Job 'j-2504171440424531890ce4c7339b2980': running (progress N/A)\n",
      "0:31:53 Job 'j-2504171440424531890ce4c7339b2980': running (progress N/A)\n",
      "0:32:53 Job 'j-2504171440424531890ce4c7339b2980': running (progress N/A)\n",
      "0:33:53 Job 'j-2504171440424531890ce4c7339b2980': running (progress N/A)\n",
      "0:34:54 Job 'j-2504171440424531890ce4c7339b2980': running (progress N/A)\n",
      "0:35:54 Job 'j-2504171440424531890ce4c7339b2980': running (progress N/A)\n",
      "0:36:54 Job 'j-2504171440424531890ce4c7339b2980': running (progress N/A)\n",
      "0:37:54 Job 'j-2504171440424531890ce4c7339b2980': running (progress N/A)\n",
      "0:38:55 Job 'j-2504171440424531890ce4c7339b2980': running (progress N/A)\n",
      "0:39:55 Job 'j-2504171440424531890ce4c7339b2980': running (progress N/A)\n",
      "0:40:55 Job 'j-2504171440424531890ce4c7339b2980': running (progress N/A)\n",
      "0:41:55 Job 'j-2504171440424531890ce4c7339b2980': running (progress N/A)\n",
      "0:42:55 Job 'j-2504171440424531890ce4c7339b2980': running (progress N/A)\n",
      "0:43:55 Job 'j-2504171440424531890ce4c7339b2980': running (progress N/A)\n",
      "0:44:56 Job 'j-2504171440424531890ce4c7339b2980': running (progress N/A)\n",
      "0:45:58 Job 'j-2504171440424531890ce4c7339b2980': running (progress N/A)\n",
      "0:46:58 Job 'j-2504171440424531890ce4c7339b2980': running (progress N/A)\n",
      "0:47:58 Job 'j-2504171440424531890ce4c7339b2980': running (progress N/A)\n",
      "0:48:58 Job 'j-2504171440424531890ce4c7339b2980': running (progress N/A)\n",
      "0:49:59 Job 'j-2504171440424531890ce4c7339b2980': running (progress N/A)\n",
      "0:50:59 Job 'j-2504171440424531890ce4c7339b2980': running (progress N/A)\n",
      "0:51:59 Job 'j-2504171440424531890ce4c7339b2980': running (progress N/A)\n",
      "0:52:59 Job 'j-2504171440424531890ce4c7339b2980': running (progress N/A)\n",
      "0:53:59 Job 'j-2504171440424531890ce4c7339b2980': running (progress N/A)\n",
      "0:55:00 Job 'j-2504171440424531890ce4c7339b2980': running (progress N/A)\n",
      "0:56:00 Job 'j-2504171440424531890ce4c7339b2980': running (progress N/A)\n",
      "0:57:00 Job 'j-2504171440424531890ce4c7339b2980': running (progress N/A)\n",
      "0:58:00 Job 'j-2504171440424531890ce4c7339b2980': running (progress N/A)\n",
      "0:59:00 Job 'j-2504171440424531890ce4c7339b2980': running (progress N/A)\n"
     ]
    }
   ],
   "source": [
    "collect_inputs_for_inference(\n",
    "    spatial_extent=map.get_extent(),\n",
    "    temporal_extent=slider.get_processing_period(),\n",
    "    output_path=output_dir,\n",
    "    output_filename=f\"{output_filename}.nc\",\n",
    "    composite_window=composite_window,\n",
    ")"
   ]
  },
  {
   "cell_type": "markdown",
   "metadata": {},
   "source": [
    "Once the datacube has been extracted, we can perform the inference task using the finetuned model. "
   ]
  },
  {
   "cell_type": "code",
   "execution_count": 36,
   "metadata": {},
   "outputs": [],
   "source": [
    "presto_model = PrestoPredictor(\n",
    "    model=finetuned_model,\n",
    "    batch_size=50,\n",
    "    task_type=task_type,\n",
    "    composite_window=composite_window,\n",
    ")\n",
    "\n",
    "predictions = presto_model.predict(inference_file, upper_bound=upper_bound, lower_bound=lower_bound)\n",
    "predictions_map = reshape_result(predictions, path_to_input_file=inference_file)"
   ]
  },
  {
   "cell_type": "code",
   "execution_count": 37,
   "metadata": {},
   "outputs": [
    {
     "data": {
      "image/png": "[encoded data removed]",
      "text/plain": [
       "<Figure size 1200x500 with 3 Axes>"
      ]
     },
     "metadata": {},
     "output_type": "display_data"
    }
   ],
   "source": [
    "plot_results(prob_map=predictions_map, path_to_input_file=inference_file, task=task_type, ts_index=5)"
   ]
  },
  {
   "cell_type": "markdown",
   "metadata": {},
   "source": [
    "### Binary task: crop/no-crop"
   ]
  },
  {
   "cell_type": "code",
   "execution_count": 3,
   "metadata": {},
   "outputs": [
    {
     "name": "stderr",
     "output_type": "stream",
     "text": [
      "  0%|          | 0/1 [00:00<?, ?it/s]"
     ]
    },
    {
     "name": "stderr",
     "output_type": "stream",
     "text": [
      "The following features are missing and are filled with NODATAVALUE: ['OPTICAL-B8A', 'METEO-precipitation_flux', 'METEO-temperature_mean']\n",
      "100%|██████████| 1/1 [00:08<00:00,  8.18s/it]\n",
      "\u001b[32m2025-04-22 16:52:48.778\u001b[0m | \u001b[1mINFO    \u001b[0m | \u001b[36mscaleagdata_vito.presto.utils\u001b[0m:\u001b[36mtrain_test_val_split\u001b[0m:\u001b[36m278\u001b[0m - \u001b[1mTraining set size: 439153\u001b[0m\n",
      "\u001b[32m2025-04-22 16:52:48.778\u001b[0m | \u001b[1mINFO    \u001b[0m | \u001b[36mscaleagdata_vito.presto.utils\u001b[0m:\u001b[36mtrain_test_val_split\u001b[0m:\u001b[36m279\u001b[0m - \u001b[1mValidation set size: 50672\u001b[0m\n",
      "\u001b[32m2025-04-22 16:52:48.779\u001b[0m | \u001b[1mINFO    \u001b[0m | \u001b[36mscaleagdata_vito.presto.utils\u001b[0m:\u001b[36mtrain_test_val_split\u001b[0m:\u001b[36m280\u001b[0m - \u001b[1mTest set size: 50671\u001b[0m\n"
     ]
    }
   ],
   "source": [
    "parquet_file = \"/home/giorgia/Private/data/worldcereal/month/subset/\"\n",
    "\n",
    "df = load_dataset(parquet_file, composite_window=\"month\")\n",
    "train_df, val_df, test_df = train_test_val_split(df=df, uniform_sample_by=\"sample_id\", sampling_frac=0.8)"
   ]
  },
  {
   "cell_type": "code",
   "execution_count": null,
   "metadata": {},
   "outputs": [],
   "source": [
    "# dataset parameters\n",
    "num_timesteps = train_df.available_timesteps.max()\n",
    "task_type = \"binary\"\n",
    "target_name = \"LANDCOVER_LABEL\"\n",
    "composite_window = \"month\"\n",
    "positive_labels = [10, 11, 12, 13]"
   ]
  },
  {
   "cell_type": "code",
   "execution_count": null,
   "metadata": {},
   "outputs": [
    {
     "name": "stderr",
     "output_type": "stream",
     "text": [
      "\u001b[32m2025-04-18 13:09:31.817\u001b[0m | \u001b[1mINFO    \u001b[0m | \u001b[36mprometheo.datasets.scaleag\u001b[0m:\u001b[36mset_num_outputs\u001b[0m:\u001b[36m132\u001b[0m - \u001b[1mSetting number of outputs to 1 for binary task.\u001b[0m\n",
      "\u001b[32m2025-04-18 13:09:31.832\u001b[0m | \u001b[1mINFO    \u001b[0m | \u001b[36mprometheo.datasets.scaleag\u001b[0m:\u001b[36mset_num_outputs\u001b[0m:\u001b[36m132\u001b[0m - \u001b[1mSetting number of outputs to 1 for binary task.\u001b[0m\n",
      "\u001b[32m2025-04-18 13:09:31.846\u001b[0m | \u001b[1mINFO    \u001b[0m | \u001b[36mprometheo.datasets.scaleag\u001b[0m:\u001b[36mset_num_outputs\u001b[0m:\u001b[36m132\u001b[0m - \u001b[1mSetting number of outputs to 1 for binary task.\u001b[0m\n"
     ]
    }
   ],
   "source": [
    "# initialize datasets\n",
    "\n",
    "train_ds = ScaleAgDataset(\n",
    "    train_df,\n",
    "    num_timesteps=num_timesteps,\n",
    "    task_type=task_type,\n",
    "    target_name=target_name,\n",
    "    positive_labels=positive_labels,\n",
    "    composite_window=composite_window,\n",
    ")\n",
    "\n",
    "val_ds = ScaleAgDataset(\n",
    "    val_df,\n",
    "    num_timesteps=num_timesteps,\n",
    "    task_type=task_type,\n",
    "    target_name=target_name,\n",
    "    positive_labels=positive_labels,\n",
    "    composite_window=composite_window,\n",
    ")\n",
    "\n",
    "test_ds = ScaleAgDataset(\n",
    "    test_df,\n",
    "    num_timesteps=num_timesteps,\n",
    "    task_type=task_type,\n",
    "    target_name=target_name,\n",
    "    positive_labels=positive_labels,\n",
    "    composite_window=composite_window,\n",
    ")"
   ]
  },
  {
   "cell_type": "code",
   "execution_count": 2,
   "metadata": {},
   "outputs": [],
   "source": [
    "# set up fine tuning  hyperparameters \n",
    "epochs = 100\n",
    "batch_size = 512\n",
    "patience = 5\n",
    "num_workers = 2\n",
    "pretrained_model_path = \"https://artifactory.vgt.vito.be/artifactory/auxdata-public/scaleagdata/models/presto-ss-wc_30D.pt\"\n",
    "# pretrained_model_path = \"/home/giorgia/Private/data/worldcereal/presto-ss-wc_longparquet_random-window-cut_no-time-token_epoch96.pt\"\n",
    "\n",
    "experiment_name = \"presto_wc_ft_crop\"\n",
    "output_dir = Path(\"/home/giorgia/Private/models_FSL/worldcereal/\")"
   ]
  },
  {
   "cell_type": "code",
   "execution_count": 17,
   "metadata": {},
   "outputs": [
    {
     "name": "stderr",
     "output_type": "stream",
     "text": [
      "\u001b[32m2025-04-18 13:19:55.013\u001b[0m | \u001b[1mINFO    \u001b[0m | \u001b[36mscaleagdata_vito.presto.utils\u001b[0m:\u001b[36mfinetune_on_task\u001b[0m:\u001b[36m199\u001b[0m - \u001b[1mFinetuning the model on binary task\u001b[0m\n",
      "\u001b[32m2025-04-18 13:19:55.070\u001b[0m | \u001b[1mINFO    \u001b[0m | \u001b[36mprometheo.finetune\u001b[0m:\u001b[36m_setup\u001b[0m:\u001b[36m171\u001b[0m - \u001b[1mUsing output dir: /data/users/Private/giorgia/models_FSL/worldcereal\u001b[0m\n"
     ]
    },
    {
     "data": {
      "application/vnd.jupyter.widget-view+json": {
       "model_id": "167a51d7779f430b92db3a6dc65f0893",
       "version_major": 2,
       "version_minor": 0
      },
      "text/plain": [
       "Finetuning:   0%|          | 0/100 [00:00<?, ?it/s]"
      ]
     },
     "metadata": {},
     "output_type": "display_data"
    },
    {
     "data": {
      "application/vnd.jupyter.widget-view+json": {
       "model_id": "aea4cc947a5c437cb9075884c5a1f06a",
       "version_major": 2,
       "version_minor": 0
      },
      "text/plain": [
       "Training:   0%|          | 0/136 [00:00<?, ?it/s]"
      ]
     },
     "metadata": {},
     "output_type": "display_data"
    },
    {
     "name": "stderr",
     "output_type": "stream",
     "text": [
      "\u001b[32m2025-04-18 13:21:46.016\u001b[0m | \u001b[1mINFO    \u001b[0m | \u001b[36mprometheo.finetune\u001b[0m:\u001b[36m_train_loop\u001b[0m:\u001b[36m126\u001b[0m - \u001b[1mPROGRESS after Epoch 1/100: Train metric: 0.196, Val metric: 0.118, Best Val Loss: 0.118 (improved)\u001b[0m\n"
     ]
    },
    {
     "data": {
      "application/vnd.jupyter.widget-view+json": {
       "model_id": "7d9e9d01343e487c8e40c5084aebc2c6",
       "version_major": 2,
       "version_minor": 0
      },
      "text/plain": [
       "Training:   0%|          | 0/136 [00:00<?, ?it/s]"
      ]
     },
     "metadata": {},
     "output_type": "display_data"
    },
    {
     "name": "stderr",
     "output_type": "stream",
     "text": [
      "\u001b[32m2025-04-18 13:23:36.688\u001b[0m | \u001b[1mINFO    \u001b[0m | \u001b[36mprometheo.finetune\u001b[0m:\u001b[36m_train_loop\u001b[0m:\u001b[36m126\u001b[0m - \u001b[1mPROGRESS after Epoch 2/100: Train metric: 0.120, Val metric: 0.110, Best Val Loss: 0.110 (improved)\u001b[0m\n"
     ]
    },
    {
     "data": {
      "application/vnd.jupyter.widget-view+json": {
       "model_id": "e40ddda43f9e4438b7b4b08784ba8f7a",
       "version_major": 2,
       "version_minor": 0
      },
      "text/plain": [
       "Training:   0%|          | 0/136 [00:00<?, ?it/s]"
      ]
     },
     "metadata": {},
     "output_type": "display_data"
    },
    {
     "name": "stderr",
     "output_type": "stream",
     "text": [
      "\u001b[32m2025-04-18 13:25:20.887\u001b[0m | \u001b[1mINFO    \u001b[0m | \u001b[36mprometheo.finetune\u001b[0m:\u001b[36m_train_loop\u001b[0m:\u001b[36m126\u001b[0m - \u001b[1mPROGRESS after Epoch 3/100: Train metric: 0.111, Val metric: 0.100, Best Val Loss: 0.100 (improved)\u001b[0m\n"
     ]
    },
    {
     "data": {
      "application/vnd.jupyter.widget-view+json": {
       "model_id": "1828b08c549e493f8de7081c14347ec5",
       "version_major": 2,
       "version_minor": 0
      },
      "text/plain": [
       "Training:   0%|          | 0/136 [00:00<?, ?it/s]"
      ]
     },
     "metadata": {},
     "output_type": "display_data"
    },
    {
     "name": "stderr",
     "output_type": "stream",
     "text": [
      "\u001b[32m2025-04-18 13:27:07.377\u001b[0m | \u001b[1mINFO    \u001b[0m | \u001b[36mprometheo.finetune\u001b[0m:\u001b[36m_train_loop\u001b[0m:\u001b[36m126\u001b[0m - \u001b[1mPROGRESS after Epoch 4/100: Train metric: 0.103, Val metric: 0.096, Best Val Loss: 0.096 (improved)\u001b[0m\n"
     ]
    },
    {
     "data": {
      "application/vnd.jupyter.widget-view+json": {
       "model_id": "16a917a675ea43848a46360843ca424c",
       "version_major": 2,
       "version_minor": 0
      },
      "text/plain": [
       "Training:   0%|          | 0/136 [00:00<?, ?it/s]"
      ]
     },
     "metadata": {},
     "output_type": "display_data"
    },
    {
     "name": "stderr",
     "output_type": "stream",
     "text": [
      "\u001b[32m2025-04-18 13:28:50.098\u001b[0m | \u001b[1mINFO    \u001b[0m | \u001b[36mprometheo.finetune\u001b[0m:\u001b[36m_train_loop\u001b[0m:\u001b[36m126\u001b[0m - \u001b[1mPROGRESS after Epoch 5/100: Train metric: 0.102, Val metric: 0.095, Best Val Loss: 0.095 (improved)\u001b[0m\n"
     ]
    },
    {
     "data": {
      "application/vnd.jupyter.widget-view+json": {
       "model_id": "0ee8b7d178684fc1bf005a7105de07f6",
       "version_major": 2,
       "version_minor": 0
      },
      "text/plain": [
       "Training:   0%|          | 0/136 [00:00<?, ?it/s]"
      ]
     },
     "metadata": {},
     "output_type": "display_data"
    },
    {
     "name": "stderr",
     "output_type": "stream",
     "text": [
      "\u001b[32m2025-04-18 13:30:36.431\u001b[0m | \u001b[1mINFO    \u001b[0m | \u001b[36mprometheo.finetune\u001b[0m:\u001b[36m_train_loop\u001b[0m:\u001b[36m126\u001b[0m - \u001b[1mPROGRESS after Epoch 6/100: Train metric: 0.100, Val metric: 0.093, Best Val Loss: 0.093 (improved)\u001b[0m\n"
     ]
    },
    {
     "data": {
      "application/vnd.jupyter.widget-view+json": {
       "model_id": "32b3b74b293e4fbc9213db26d393611e",
       "version_major": 2,
       "version_minor": 0
      },
      "text/plain": [
       "Training:   0%|          | 0/136 [00:00<?, ?it/s]"
      ]
     },
     "metadata": {},
     "output_type": "display_data"
    },
    {
     "name": "stderr",
     "output_type": "stream",
     "text": [
      "\u001b[32m2025-04-18 13:32:25.638\u001b[0m | \u001b[1mINFO    \u001b[0m | \u001b[36mprometheo.finetune\u001b[0m:\u001b[36m_train_loop\u001b[0m:\u001b[36m126\u001b[0m - \u001b[1mPROGRESS after Epoch 7/100: Train metric: 0.099, Val metric: 0.091, Best Val Loss: 0.091 (improved)\u001b[0m\n"
     ]
    },
    {
     "data": {
      "application/vnd.jupyter.widget-view+json": {
       "model_id": "bdf1f43d4e304a3d996ab76ac10d41b0",
       "version_major": 2,
       "version_minor": 0
      },
      "text/plain": [
       "Training:   0%|          | 0/136 [00:00<?, ?it/s]"
      ]
     },
     "metadata": {},
     "output_type": "display_data"
    },
    {
     "name": "stderr",
     "output_type": "stream",
     "text": [
      "\u001b[32m2025-04-18 13:34:15.844\u001b[0m | \u001b[1mINFO    \u001b[0m | \u001b[36mprometheo.finetune\u001b[0m:\u001b[36m_train_loop\u001b[0m:\u001b[36m126\u001b[0m - \u001b[1mPROGRESS after Epoch 8/100: Train metric: 0.098, Val metric: 0.089, Best Val Loss: 0.089 (improved)\u001b[0m\n"
     ]
    },
    {
     "data": {
      "application/vnd.jupyter.widget-view+json": {
       "model_id": "ed99c6ead3eb42a29260400c026f552b",
       "version_major": 2,
       "version_minor": 0
      },
      "text/plain": [
       "Training:   0%|          | 0/136 [00:00<?, ?it/s]"
      ]
     },
     "metadata": {},
     "output_type": "display_data"
    },
    {
     "name": "stderr",
     "output_type": "stream",
     "text": [
      "\u001b[32m2025-04-18 13:36:07.526\u001b[0m | \u001b[1mINFO    \u001b[0m | \u001b[36mprometheo.finetune\u001b[0m:\u001b[36m_train_loop\u001b[0m:\u001b[36m126\u001b[0m - \u001b[1mPROGRESS after Epoch 9/100: Train metric: 0.097, Val metric: 0.089, Best Val Loss: 0.089 (improved)\u001b[0m\n"
     ]
    },
    {
     "data": {
      "application/vnd.jupyter.widget-view+json": {
       "model_id": "d40c8e6faeeb48c1a0e9a70a28ef8b60",
       "version_major": 2,
       "version_minor": 0
      },
      "text/plain": [
       "Training:   0%|          | 0/136 [00:00<?, ?it/s]"
      ]
     },
     "metadata": {},
     "output_type": "display_data"
    },
    {
     "name": "stderr",
     "output_type": "stream",
     "text": [
      "\u001b[32m2025-04-18 13:37:58.176\u001b[0m | \u001b[1mINFO    \u001b[0m | \u001b[36mprometheo.finetune\u001b[0m:\u001b[36m_train_loop\u001b[0m:\u001b[36m126\u001b[0m - \u001b[1mPROGRESS after Epoch 10/100: Train metric: 0.096, Val metric: 0.087, Best Val Loss: 0.087 (improved)\u001b[0m\n"
     ]
    },
    {
     "data": {
      "application/vnd.jupyter.widget-view+json": {
       "model_id": "90c8151bea664f47868bc666a12d34ef",
       "version_major": 2,
       "version_minor": 0
      },
      "text/plain": [
       "Training:   0%|          | 0/136 [00:00<?, ?it/s]"
      ]
     },
     "metadata": {},
     "output_type": "display_data"
    },
    {
     "name": "stderr",
     "output_type": "stream",
     "text": [
      "\u001b[32m2025-04-18 13:39:50.141\u001b[0m | \u001b[1mINFO    \u001b[0m | \u001b[36mprometheo.finetune\u001b[0m:\u001b[36m_train_loop\u001b[0m:\u001b[36m126\u001b[0m - \u001b[1mPROGRESS after Epoch 11/100: Train metric: 0.096, Val metric: 0.088, Best Val Loss: 0.087 (no improvement for 1 epochs)\u001b[0m\n"
     ]
    },
    {
     "data": {
      "application/vnd.jupyter.widget-view+json": {
       "model_id": "e09bbc3b52284a34b0e95ee3096123ec",
       "version_major": 2,
       "version_minor": 0
      },
      "text/plain": [
       "Training:   0%|          | 0/136 [00:00<?, ?it/s]"
      ]
     },
     "metadata": {},
     "output_type": "display_data"
    },
    {
     "name": "stderr",
     "output_type": "stream",
     "text": [
      "\u001b[32m2025-04-18 13:41:40.458\u001b[0m | \u001b[1mINFO    \u001b[0m | \u001b[36mprometheo.finetune\u001b[0m:\u001b[36m_train_loop\u001b[0m:\u001b[36m126\u001b[0m - \u001b[1mPROGRESS after Epoch 12/100: Train metric: 0.095, Val metric: 0.086, Best Val Loss: 0.086 (improved)\u001b[0m\n"
     ]
    },
    {
     "data": {
      "application/vnd.jupyter.widget-view+json": {
       "model_id": "500f9dd3295b40aabe80abf2365fc66c",
       "version_major": 2,
       "version_minor": 0
      },
      "text/plain": [
       "Training:   0%|          | 0/136 [00:00<?, ?it/s]"
      ]
     },
     "metadata": {},
     "output_type": "display_data"
    },
    {
     "name": "stderr",
     "output_type": "stream",
     "text": [
      "\u001b[32m2025-04-18 13:43:30.141\u001b[0m | \u001b[1mINFO    \u001b[0m | \u001b[36mprometheo.finetune\u001b[0m:\u001b[36m_train_loop\u001b[0m:\u001b[36m126\u001b[0m - \u001b[1mPROGRESS after Epoch 13/100: Train metric: 0.095, Val metric: 0.086, Best Val Loss: 0.086 (improved)\u001b[0m\n"
     ]
    },
    {
     "data": {
      "application/vnd.jupyter.widget-view+json": {
       "model_id": "c8bbc61252794729983bf7955dee6374",
       "version_major": 2,
       "version_minor": 0
      },
      "text/plain": [
       "Training:   0%|          | 0/136 [00:00<?, ?it/s]"
      ]
     },
     "metadata": {},
     "output_type": "display_data"
    },
    {
     "name": "stderr",
     "output_type": "stream",
     "text": [
      "\u001b[32m2025-04-18 13:45:20.890\u001b[0m | \u001b[1mINFO    \u001b[0m | \u001b[36mprometheo.finetune\u001b[0m:\u001b[36m_train_loop\u001b[0m:\u001b[36m126\u001b[0m - \u001b[1mPROGRESS after Epoch 14/100: Train metric: 0.094, Val metric: 0.085, Best Val Loss: 0.085 (improved)\u001b[0m\n"
     ]
    },
    {
     "data": {
      "application/vnd.jupyter.widget-view+json": {
       "model_id": "864b02cecc794426a957f2ebfa2c07ca",
       "version_major": 2,
       "version_minor": 0
      },
      "text/plain": [
       "Training:   0%|          | 0/136 [00:00<?, ?it/s]"
      ]
     },
     "metadata": {},
     "output_type": "display_data"
    },
    {
     "name": "stderr",
     "output_type": "stream",
     "text": [
      "\u001b[32m2025-04-18 13:47:14.906\u001b[0m | \u001b[1mINFO    \u001b[0m | \u001b[36mprometheo.finetune\u001b[0m:\u001b[36m_train_loop\u001b[0m:\u001b[36m126\u001b[0m - \u001b[1mPROGRESS after Epoch 15/100: Train metric: 0.094, Val metric: 0.085, Best Val Loss: 0.085 (improved)\u001b[0m\n"
     ]
    },
    {
     "data": {
      "application/vnd.jupyter.widget-view+json": {
       "model_id": "60b269d851da46febad992d9c1582fbb",
       "version_major": 2,
       "version_minor": 0
      },
      "text/plain": [
       "Training:   0%|          | 0/136 [00:00<?, ?it/s]"
      ]
     },
     "metadata": {},
     "output_type": "display_data"
    },
    {
     "name": "stderr",
     "output_type": "stream",
     "text": [
      "\u001b[32m2025-04-18 13:49:12.663\u001b[0m | \u001b[1mINFO    \u001b[0m | \u001b[36mprometheo.finetune\u001b[0m:\u001b[36m_train_loop\u001b[0m:\u001b[36m126\u001b[0m - \u001b[1mPROGRESS after Epoch 16/100: Train metric: 0.093, Val metric: 0.085, Best Val Loss: 0.085 (no improvement for 1 epochs)\u001b[0m\n"
     ]
    },
    {
     "data": {
      "application/vnd.jupyter.widget-view+json": {
       "model_id": "cae44130bfac4cfb8b4d7f8cbdd4d465",
       "version_major": 2,
       "version_minor": 0
      },
      "text/plain": [
       "Training:   0%|          | 0/136 [00:00<?, ?it/s]"
      ]
     },
     "metadata": {},
     "output_type": "display_data"
    },
    {
     "name": "stderr",
     "output_type": "stream",
     "text": [
      "\u001b[32m2025-04-18 13:51:01.246\u001b[0m | \u001b[1mINFO    \u001b[0m | \u001b[36mprometheo.finetune\u001b[0m:\u001b[36m_train_loop\u001b[0m:\u001b[36m126\u001b[0m - \u001b[1mPROGRESS after Epoch 17/100: Train metric: 0.093, Val metric: 0.085, Best Val Loss: 0.085 (no improvement for 2 epochs)\u001b[0m\n"
     ]
    },
    {
     "data": {
      "application/vnd.jupyter.widget-view+json": {
       "model_id": "3d1619ad25bb4ad795da28ecf80d2277",
       "version_major": 2,
       "version_minor": 0
      },
      "text/plain": [
       "Training:   0%|          | 0/136 [00:00<?, ?it/s]"
      ]
     },
     "metadata": {},
     "output_type": "display_data"
    },
    {
     "name": "stderr",
     "output_type": "stream",
     "text": [
      "Exception ignored in: <function _MultiProcessingDataLoaderIter.__del__ at 0x7fc8f9c67c70>\n",
      "Traceback (most recent call last):\n",
      "  File \"/home/giorgia/.conda/envs/veg/lib/python3.10/site-packages/torch/utils/data/dataloader.py\", line 1479, in __del__\n",
      "    self._shutdown_workers()\n",
      "  File \"/home/giorgia/.conda/envs/veg/lib/python3.10/site-packages/torch/utils/data/dataloader.py\", line 1462, in _shutdown_workers\n",
      "    if w.is_alive():\n",
      "  File \"/home/giorgia/.conda/envs/veg/lib/python3.10/multiprocessing/process.py\", line 160, in is_alive\n",
      "    assert self._parent_pid == os.getpid(), 'can only test a child process'\n",
      "AssertionError: can only test a child process\n",
      "Exception ignored in: <function _MultiProcessingDataLoaderIter.__del__ at 0x7fc8f9c67c70>\n",
      "Traceback (most recent call last):\n",
      "  File \"/home/giorgia/.conda/envs/veg/lib/python3.10/site-packages/torch/utils/data/dataloader.py\", line 1479, in __del__\n",
      "    self._shutdown_workers()\n",
      "  File \"/home/giorgia/.conda/envs/veg/lib/python3.10/site-packages/torch/utils/data/dataloader.py\", line 1462, in _shutdown_workers\n",
      "    if w.is_alive():\n",
      "  File \"/home/giorgia/.conda/envs/veg/lib/python3.10/multiprocessing/process.py\", line 160, in is_alive\n",
      "    assert self._parent_pid == os.getpid(), 'can only test a child process'\n",
      "AssertionError: can only test a child process\n",
      "\u001b[32m2025-04-18 13:52:57.121\u001b[0m | \u001b[1mINFO    \u001b[0m | \u001b[36mprometheo.finetune\u001b[0m:\u001b[36m_train_loop\u001b[0m:\u001b[36m126\u001b[0m - \u001b[1mPROGRESS after Epoch 18/100: Train metric: 0.093, Val metric: 0.085, Best Val Loss: 0.085 (improved)\u001b[0m\n"
     ]
    },
    {
     "data": {
      "application/vnd.jupyter.widget-view+json": {
       "model_id": "d5ccfdeb915c406a945f021dac300c75",
       "version_major": 2,
       "version_minor": 0
      },
      "text/plain": [
       "Training:   0%|          | 0/136 [00:00<?, ?it/s]"
      ]
     },
     "metadata": {},
     "output_type": "display_data"
    },
    {
     "name": "stderr",
     "output_type": "stream",
     "text": [
      "\u001b[32m2025-04-18 13:54:53.552\u001b[0m | \u001b[1mINFO    \u001b[0m | \u001b[36mprometheo.finetune\u001b[0m:\u001b[36m_train_loop\u001b[0m:\u001b[36m126\u001b[0m - \u001b[1mPROGRESS after Epoch 19/100: Train metric: 0.092, Val metric: 0.084, Best Val Loss: 0.084 (improved)\u001b[0m\n"
     ]
    },
    {
     "data": {
      "application/vnd.jupyter.widget-view+json": {
       "model_id": "fa42aed0c3114eafa4676cd9fe9d1f1f",
       "version_major": 2,
       "version_minor": 0
      },
      "text/plain": [
       "Training:   0%|          | 0/136 [00:00<?, ?it/s]"
      ]
     },
     "metadata": {},
     "output_type": "display_data"
    },
    {
     "name": "stderr",
     "output_type": "stream",
     "text": [
      "\u001b[32m2025-04-18 13:56:42.352\u001b[0m | \u001b[1mINFO    \u001b[0m | \u001b[36mprometheo.finetune\u001b[0m:\u001b[36m_train_loop\u001b[0m:\u001b[36m126\u001b[0m - \u001b[1mPROGRESS after Epoch 20/100: Train metric: 0.092, Val metric: 0.084, Best Val Loss: 0.084 (improved)\u001b[0m\n"
     ]
    },
    {
     "data": {
      "application/vnd.jupyter.widget-view+json": {
       "model_id": "61c06726806b48fa955a520a121b0588",
       "version_major": 2,
       "version_minor": 0
      },
      "text/plain": [
       "Training:   0%|          | 0/136 [00:00<?, ?it/s]"
      ]
     },
     "metadata": {},
     "output_type": "display_data"
    },
    {
     "name": "stderr",
     "output_type": "stream",
     "text": [
      "\u001b[32m2025-04-18 13:58:32.421\u001b[0m | \u001b[1mINFO    \u001b[0m | \u001b[36mprometheo.finetune\u001b[0m:\u001b[36m_train_loop\u001b[0m:\u001b[36m126\u001b[0m - \u001b[1mPROGRESS after Epoch 21/100: Train metric: 0.092, Val metric: 0.084, Best Val Loss: 0.084 (no improvement for 1 epochs)\u001b[0m\n"
     ]
    },
    {
     "data": {
      "application/vnd.jupyter.widget-view+json": {
       "model_id": "690fc84adac14bc3b31b291b380b3490",
       "version_major": 2,
       "version_minor": 0
      },
      "text/plain": [
       "Training:   0%|          | 0/136 [00:00<?, ?it/s]"
      ]
     },
     "metadata": {},
     "output_type": "display_data"
    },
    {
     "name": "stderr",
     "output_type": "stream",
     "text": [
      "\u001b[32m2025-04-18 14:00:20.627\u001b[0m | \u001b[1mINFO    \u001b[0m | \u001b[36mprometheo.finetune\u001b[0m:\u001b[36m_train_loop\u001b[0m:\u001b[36m126\u001b[0m - \u001b[1mPROGRESS after Epoch 22/100: Train metric: 0.093, Val metric: 0.085, Best Val Loss: 0.084 (no improvement for 2 epochs)\u001b[0m\n"
     ]
    },
    {
     "data": {
      "application/vnd.jupyter.widget-view+json": {
       "model_id": "b08126f0c11f400cbf20742d96653d21",
       "version_major": 2,
       "version_minor": 0
      },
      "text/plain": [
       "Training:   0%|          | 0/136 [00:00<?, ?it/s]"
      ]
     },
     "metadata": {},
     "output_type": "display_data"
    },
    {
     "name": "stderr",
     "output_type": "stream",
     "text": [
      "\u001b[32m2025-04-18 14:02:07.854\u001b[0m | \u001b[1mINFO    \u001b[0m | \u001b[36mprometheo.finetune\u001b[0m:\u001b[36m_train_loop\u001b[0m:\u001b[36m126\u001b[0m - \u001b[1mPROGRESS after Epoch 23/100: Train metric: 0.092, Val metric: 0.084, Best Val Loss: 0.084 (improved)\u001b[0m\n"
     ]
    },
    {
     "data": {
      "application/vnd.jupyter.widget-view+json": {
       "model_id": "0cbc56f1a32e4d928e6c85ef66596ee6",
       "version_major": 2,
       "version_minor": 0
      },
      "text/plain": [
       "Training:   0%|          | 0/136 [00:00<?, ?it/s]"
      ]
     },
     "metadata": {},
     "output_type": "display_data"
    },
    {
     "name": "stderr",
     "output_type": "stream",
     "text": [
      "\u001b[32m2025-04-18 14:04:01.250\u001b[0m | \u001b[1mINFO    \u001b[0m | \u001b[36mprometheo.finetune\u001b[0m:\u001b[36m_train_loop\u001b[0m:\u001b[36m126\u001b[0m - \u001b[1mPROGRESS after Epoch 24/100: Train metric: 0.091, Val metric: 0.083, Best Val Loss: 0.083 (improved)\u001b[0m\n"
     ]
    },
    {
     "data": {
      "application/vnd.jupyter.widget-view+json": {
       "model_id": "065ba33191a145f4b8aaa15286690e94",
       "version_major": 2,
       "version_minor": 0
      },
      "text/plain": [
       "Training:   0%|          | 0/136 [00:00<?, ?it/s]"
      ]
     },
     "metadata": {},
     "output_type": "display_data"
    },
    {
     "name": "stderr",
     "output_type": "stream",
     "text": [
      "\u001b[32m2025-04-18 14:05:50.637\u001b[0m | \u001b[1mINFO    \u001b[0m | \u001b[36mprometheo.finetune\u001b[0m:\u001b[36m_train_loop\u001b[0m:\u001b[36m126\u001b[0m - \u001b[1mPROGRESS after Epoch 25/100: Train metric: 0.091, Val metric: 0.084, Best Val Loss: 0.083 (no improvement for 1 epochs)\u001b[0m\n"
     ]
    },
    {
     "data": {
      "application/vnd.jupyter.widget-view+json": {
       "model_id": "33a7b876b23345db87bb0dc385b13d93",
       "version_major": 2,
       "version_minor": 0
      },
      "text/plain": [
       "Training:   0%|          | 0/136 [00:00<?, ?it/s]"
      ]
     },
     "metadata": {},
     "output_type": "display_data"
    },
    {
     "name": "stderr",
     "output_type": "stream",
     "text": [
      "\u001b[32m2025-04-18 14:07:43.250\u001b[0m | \u001b[1mINFO    \u001b[0m | \u001b[36mprometheo.finetune\u001b[0m:\u001b[36m_train_loop\u001b[0m:\u001b[36m126\u001b[0m - \u001b[1mPROGRESS after Epoch 26/100: Train metric: 0.091, Val metric: 0.083, Best Val Loss: 0.083 (improved)\u001b[0m\n"
     ]
    },
    {
     "data": {
      "application/vnd.jupyter.widget-view+json": {
       "model_id": "08002f633bf34528b02ffb0a753cfa88",
       "version_major": 2,
       "version_minor": 0
      },
      "text/plain": [
       "Training:   0%|          | 0/136 [00:00<?, ?it/s]"
      ]
     },
     "metadata": {},
     "output_type": "display_data"
    },
    {
     "name": "stderr",
     "output_type": "stream",
     "text": [
      "\u001b[32m2025-04-18 14:09:36.887\u001b[0m | \u001b[1mINFO    \u001b[0m | \u001b[36mprometheo.finetune\u001b[0m:\u001b[36m_train_loop\u001b[0m:\u001b[36m126\u001b[0m - \u001b[1mPROGRESS after Epoch 27/100: Train metric: 0.091, Val metric: 0.083, Best Val Loss: 0.083 (no improvement for 1 epochs)\u001b[0m\n"
     ]
    },
    {
     "data": {
      "application/vnd.jupyter.widget-view+json": {
       "model_id": "1c964ec5605f4ef0b57606ababd3c130",
       "version_major": 2,
       "version_minor": 0
      },
      "text/plain": [
       "Training:   0%|          | 0/136 [00:00<?, ?it/s]"
      ]
     },
     "metadata": {},
     "output_type": "display_data"
    },
    {
     "name": "stderr",
     "output_type": "stream",
     "text": [
      "\u001b[32m2025-04-18 14:11:30.849\u001b[0m | \u001b[1mINFO    \u001b[0m | \u001b[36mprometheo.finetune\u001b[0m:\u001b[36m_train_loop\u001b[0m:\u001b[36m126\u001b[0m - \u001b[1mPROGRESS after Epoch 28/100: Train metric: 0.091, Val metric: 0.082, Best Val Loss: 0.082 (improved)\u001b[0m\n"
     ]
    },
    {
     "data": {
      "application/vnd.jupyter.widget-view+json": {
       "model_id": "381d601d2fa84401a370e9083fb55b94",
       "version_major": 2,
       "version_minor": 0
      },
      "text/plain": [
       "Training:   0%|          | 0/136 [00:00<?, ?it/s]"
      ]
     },
     "metadata": {},
     "output_type": "display_data"
    },
    {
     "name": "stderr",
     "output_type": "stream",
     "text": [
      "\u001b[32m2025-04-18 14:13:19.931\u001b[0m | \u001b[1mINFO    \u001b[0m | \u001b[36mprometheo.finetune\u001b[0m:\u001b[36m_train_loop\u001b[0m:\u001b[36m126\u001b[0m - \u001b[1mPROGRESS after Epoch 29/100: Train metric: 0.091, Val metric: 0.084, Best Val Loss: 0.082 (no improvement for 1 epochs)\u001b[0m\n"
     ]
    },
    {
     "data": {
      "application/vnd.jupyter.widget-view+json": {
       "model_id": "29d4bdf5e2884b7ab69dc34deb7c98c9",
       "version_major": 2,
       "version_minor": 0
      },
      "text/plain": [
       "Training:   0%|          | 0/136 [00:00<?, ?it/s]"
      ]
     },
     "metadata": {},
     "output_type": "display_data"
    },
    {
     "name": "stderr",
     "output_type": "stream",
     "text": [
      "\u001b[32m2025-04-18 14:15:09.477\u001b[0m | \u001b[1mINFO    \u001b[0m | \u001b[36mprometheo.finetune\u001b[0m:\u001b[36m_train_loop\u001b[0m:\u001b[36m126\u001b[0m - \u001b[1mPROGRESS after Epoch 30/100: Train metric: 0.090, Val metric: 0.082, Best Val Loss: 0.082 (improved)\u001b[0m\n"
     ]
    },
    {
     "data": {
      "application/vnd.jupyter.widget-view+json": {
       "model_id": "78ebe65b346c4a668c6896dab12cfac9",
       "version_major": 2,
       "version_minor": 0
      },
      "text/plain": [
       "Training:   0%|          | 0/136 [00:00<?, ?it/s]"
      ]
     },
     "metadata": {},
     "output_type": "display_data"
    },
    {
     "name": "stderr",
     "output_type": "stream",
     "text": [
      "\u001b[32m2025-04-18 14:17:00.956\u001b[0m | \u001b[1mINFO    \u001b[0m | \u001b[36mprometheo.finetune\u001b[0m:\u001b[36m_train_loop\u001b[0m:\u001b[36m126\u001b[0m - \u001b[1mPROGRESS after Epoch 31/100: Train metric: 0.090, Val metric: 0.082, Best Val Loss: 0.082 (improved)\u001b[0m\n"
     ]
    },
    {
     "data": {
      "application/vnd.jupyter.widget-view+json": {
       "model_id": "f31a4ae60c6c4d929e74618a91adde68",
       "version_major": 2,
       "version_minor": 0
      },
      "text/plain": [
       "Training:   0%|          | 0/136 [00:00<?, ?it/s]"
      ]
     },
     "metadata": {},
     "output_type": "display_data"
    },
    {
     "name": "stderr",
     "output_type": "stream",
     "text": [
      "\u001b[32m2025-04-18 14:19:07.097\u001b[0m | \u001b[1mINFO    \u001b[0m | \u001b[36mprometheo.finetune\u001b[0m:\u001b[36m_train_loop\u001b[0m:\u001b[36m126\u001b[0m - \u001b[1mPROGRESS after Epoch 32/100: Train metric: 0.090, Val metric: 0.082, Best Val Loss: 0.082 (no improvement for 1 epochs)\u001b[0m\n"
     ]
    },
    {
     "data": {
      "application/vnd.jupyter.widget-view+json": {
       "model_id": "ba7f9bcfe3a84e8eb250ac26d156e211",
       "version_major": 2,
       "version_minor": 0
      },
      "text/plain": [
       "Training:   0%|          | 0/136 [00:00<?, ?it/s]"
      ]
     },
     "metadata": {},
     "output_type": "display_data"
    },
    {
     "name": "stderr",
     "output_type": "stream",
     "text": [
      "\u001b[32m2025-04-18 14:20:56.036\u001b[0m | \u001b[1mINFO    \u001b[0m | \u001b[36mprometheo.finetune\u001b[0m:\u001b[36m_train_loop\u001b[0m:\u001b[36m126\u001b[0m - \u001b[1mPROGRESS after Epoch 33/100: Train metric: 0.090, Val metric: 0.082, Best Val Loss: 0.082 (no improvement for 2 epochs)\u001b[0m\n"
     ]
    },
    {
     "data": {
      "application/vnd.jupyter.widget-view+json": {
       "model_id": "97454bb038eb44cca179c8b654ed5772",
       "version_major": 2,
       "version_minor": 0
      },
      "text/plain": [
       "Training:   0%|          | 0/136 [00:00<?, ?it/s]"
      ]
     },
     "metadata": {},
     "output_type": "display_data"
    },
    {
     "name": "stderr",
     "output_type": "stream",
     "text": [
      "\u001b[32m2025-04-18 14:22:47.003\u001b[0m | \u001b[1mINFO    \u001b[0m | \u001b[36mprometheo.finetune\u001b[0m:\u001b[36m_train_loop\u001b[0m:\u001b[36m126\u001b[0m - \u001b[1mPROGRESS after Epoch 34/100: Train metric: 0.089, Val metric: 0.082, Best Val Loss: 0.082 (no improvement for 3 epochs)\u001b[0m\n"
     ]
    },
    {
     "data": {
      "application/vnd.jupyter.widget-view+json": {
       "model_id": "eb4d9bac66d1489695584a648c10e154",
       "version_major": 2,
       "version_minor": 0
      },
      "text/plain": [
       "Training:   0%|          | 0/136 [00:00<?, ?it/s]"
      ]
     },
     "metadata": {},
     "output_type": "display_data"
    },
    {
     "name": "stderr",
     "output_type": "stream",
     "text": [
      "\u001b[32m2025-04-18 14:24:39.362\u001b[0m | \u001b[1mINFO    \u001b[0m | \u001b[36mprometheo.finetune\u001b[0m:\u001b[36m_train_loop\u001b[0m:\u001b[36m126\u001b[0m - \u001b[1mPROGRESS after Epoch 35/100: Train metric: 0.089, Val metric: 0.081, Best Val Loss: 0.081 (improved)\u001b[0m\n"
     ]
    },
    {
     "data": {
      "application/vnd.jupyter.widget-view+json": {
       "model_id": "4b9babb55e114bcf8bc7edf3e70f9dab",
       "version_major": 2,
       "version_minor": 0
      },
      "text/plain": [
       "Training:   0%|          | 0/136 [00:00<?, ?it/s]"
      ]
     },
     "metadata": {},
     "output_type": "display_data"
    },
    {
     "name": "stderr",
     "output_type": "stream",
     "text": [
      "\u001b[32m2025-04-18 14:26:35.094\u001b[0m | \u001b[1mINFO    \u001b[0m | \u001b[36mprometheo.finetune\u001b[0m:\u001b[36m_train_loop\u001b[0m:\u001b[36m126\u001b[0m - \u001b[1mPROGRESS after Epoch 36/100: Train metric: 0.089, Val metric: 0.081, Best Val Loss: 0.081 (no improvement for 1 epochs)\u001b[0m\n"
     ]
    },
    {
     "data": {
      "application/vnd.jupyter.widget-view+json": {
       "model_id": "c56cddeae53148c9bb3f49569346e4ff",
       "version_major": 2,
       "version_minor": 0
      },
      "text/plain": [
       "Training:   0%|          | 0/136 [00:00<?, ?it/s]"
      ]
     },
     "metadata": {},
     "output_type": "display_data"
    },
    {
     "name": "stderr",
     "output_type": "stream",
     "text": [
      "\u001b[32m2025-04-18 14:28:24.167\u001b[0m | \u001b[1mINFO    \u001b[0m | \u001b[36mprometheo.finetune\u001b[0m:\u001b[36m_train_loop\u001b[0m:\u001b[36m126\u001b[0m - \u001b[1mPROGRESS after Epoch 37/100: Train metric: 0.089, Val metric: 0.080, Best Val Loss: 0.080 (improved)\u001b[0m\n"
     ]
    },
    {
     "data": {
      "application/vnd.jupyter.widget-view+json": {
       "model_id": "dd36223f5a4f4a79a15743b27b987862",
       "version_major": 2,
       "version_minor": 0
      },
      "text/plain": [
       "Training:   0%|          | 0/136 [00:00<?, ?it/s]"
      ]
     },
     "metadata": {},
     "output_type": "display_data"
    },
    {
     "name": "stderr",
     "output_type": "stream",
     "text": [
      "\u001b[32m2025-04-18 14:30:13.435\u001b[0m | \u001b[1mINFO    \u001b[0m | \u001b[36mprometheo.finetune\u001b[0m:\u001b[36m_train_loop\u001b[0m:\u001b[36m126\u001b[0m - \u001b[1mPROGRESS after Epoch 38/100: Train metric: 0.089, Val metric: 0.083, Best Val Loss: 0.080 (no improvement for 1 epochs)\u001b[0m\n"
     ]
    },
    {
     "data": {
      "application/vnd.jupyter.widget-view+json": {
       "model_id": "7a83137ea6664f3eadf573f58ef29a9d",
       "version_major": 2,
       "version_minor": 0
      },
      "text/plain": [
       "Training:   0%|          | 0/136 [00:00<?, ?it/s]"
      ]
     },
     "metadata": {},
     "output_type": "display_data"
    },
    {
     "name": "stderr",
     "output_type": "stream",
     "text": [
      "\u001b[32m2025-04-18 14:32:05.809\u001b[0m | \u001b[1mINFO    \u001b[0m | \u001b[36mprometheo.finetune\u001b[0m:\u001b[36m_train_loop\u001b[0m:\u001b[36m126\u001b[0m - \u001b[1mPROGRESS after Epoch 39/100: Train metric: 0.089, Val metric: 0.080, Best Val Loss: 0.080 (improved)\u001b[0m\n"
     ]
    },
    {
     "data": {
      "application/vnd.jupyter.widget-view+json": {
       "model_id": "43268df20d9548678f1455d134e6dacc",
       "version_major": 2,
       "version_minor": 0
      },
      "text/plain": [
       "Training:   0%|          | 0/136 [00:00<?, ?it/s]"
      ]
     },
     "metadata": {},
     "output_type": "display_data"
    },
    {
     "name": "stderr",
     "output_type": "stream",
     "text": [
      "\u001b[32m2025-04-18 14:34:02.375\u001b[0m | \u001b[1mINFO    \u001b[0m | \u001b[36mprometheo.finetune\u001b[0m:\u001b[36m_train_loop\u001b[0m:\u001b[36m126\u001b[0m - \u001b[1mPROGRESS after Epoch 40/100: Train metric: 0.089, Val metric: 0.080, Best Val Loss: 0.080 (no improvement for 1 epochs)\u001b[0m\n"
     ]
    },
    {
     "data": {
      "application/vnd.jupyter.widget-view+json": {
       "model_id": "d098f3698fd44b6e99d6501da1eae931",
       "version_major": 2,
       "version_minor": 0
      },
      "text/plain": [
       "Training:   0%|          | 0/136 [00:00<?, ?it/s]"
      ]
     },
     "metadata": {},
     "output_type": "display_data"
    },
    {
     "name": "stderr",
     "output_type": "stream",
     "text": [
      "\u001b[32m2025-04-18 14:35:59.427\u001b[0m | \u001b[1mINFO    \u001b[0m | \u001b[36mprometheo.finetune\u001b[0m:\u001b[36m_train_loop\u001b[0m:\u001b[36m126\u001b[0m - \u001b[1mPROGRESS after Epoch 41/100: Train metric: 0.088, Val metric: 0.079, Best Val Loss: 0.079 (improved)\u001b[0m\n"
     ]
    },
    {
     "data": {
      "application/vnd.jupyter.widget-view+json": {
       "model_id": "c8d697082fd0404a9a648f26ce49359f",
       "version_major": 2,
       "version_minor": 0
      },
      "text/plain": [
       "Training:   0%|          | 0/136 [00:00<?, ?it/s]"
      ]
     },
     "metadata": {},
     "output_type": "display_data"
    },
    {
     "name": "stderr",
     "output_type": "stream",
     "text": [
      "\u001b[32m2025-04-18 14:37:48.377\u001b[0m | \u001b[1mINFO    \u001b[0m | \u001b[36mprometheo.finetune\u001b[0m:\u001b[36m_train_loop\u001b[0m:\u001b[36m126\u001b[0m - \u001b[1mPROGRESS after Epoch 42/100: Train metric: 0.088, Val metric: 0.081, Best Val Loss: 0.079 (no improvement for 1 epochs)\u001b[0m\n"
     ]
    },
    {
     "data": {
      "application/vnd.jupyter.widget-view+json": {
       "model_id": "1fa2ebd642fb43baafa9a00c749cea31",
       "version_major": 2,
       "version_minor": 0
      },
      "text/plain": [
       "Training:   0%|          | 0/136 [00:00<?, ?it/s]"
      ]
     },
     "metadata": {},
     "output_type": "display_data"
    },
    {
     "name": "stderr",
     "output_type": "stream",
     "text": [
      "\u001b[32m2025-04-18 14:39:41.435\u001b[0m | \u001b[1mINFO    \u001b[0m | \u001b[36mprometheo.finetune\u001b[0m:\u001b[36m_train_loop\u001b[0m:\u001b[36m126\u001b[0m - \u001b[1mPROGRESS after Epoch 43/100: Train metric: 0.088, Val metric: 0.079, Best Val Loss: 0.079 (improved)\u001b[0m\n"
     ]
    },
    {
     "data": {
      "application/vnd.jupyter.widget-view+json": {
       "model_id": "7b0da575fcc54a4d9e1c8bac2e12eb17",
       "version_major": 2,
       "version_minor": 0
      },
      "text/plain": [
       "Training:   0%|          | 0/136 [00:00<?, ?it/s]"
      ]
     },
     "metadata": {},
     "output_type": "display_data"
    },
    {
     "name": "stderr",
     "output_type": "stream",
     "text": [
      "\u001b[32m2025-04-18 14:41:30.395\u001b[0m | \u001b[1mINFO    \u001b[0m | \u001b[36mprometheo.finetune\u001b[0m:\u001b[36m_train_loop\u001b[0m:\u001b[36m126\u001b[0m - \u001b[1mPROGRESS after Epoch 44/100: Train metric: 0.088, Val metric: 0.078, Best Val Loss: 0.078 (improved)\u001b[0m\n"
     ]
    },
    {
     "data": {
      "application/vnd.jupyter.widget-view+json": {
       "model_id": "d087e9bd2feb416889f75b63728c03cd",
       "version_major": 2,
       "version_minor": 0
      },
      "text/plain": [
       "Training:   0%|          | 0/136 [00:00<?, ?it/s]"
      ]
     },
     "metadata": {},
     "output_type": "display_data"
    },
    {
     "name": "stderr",
     "output_type": "stream",
     "text": [
      "\u001b[32m2025-04-18 14:43:25.184\u001b[0m | \u001b[1mINFO    \u001b[0m | \u001b[36mprometheo.finetune\u001b[0m:\u001b[36m_train_loop\u001b[0m:\u001b[36m126\u001b[0m - \u001b[1mPROGRESS after Epoch 45/100: Train metric: 0.088, Val metric: 0.078, Best Val Loss: 0.078 (improved)\u001b[0m\n"
     ]
    },
    {
     "data": {
      "application/vnd.jupyter.widget-view+json": {
       "model_id": "89f0d8fe36b541df85dbca4c535178c5",
       "version_major": 2,
       "version_minor": 0
      },
      "text/plain": [
       "Training:   0%|          | 0/136 [00:00<?, ?it/s]"
      ]
     },
     "metadata": {},
     "output_type": "display_data"
    },
    {
     "name": "stderr",
     "output_type": "stream",
     "text": [
      "\u001b[32m2025-04-18 14:45:14.678\u001b[0m | \u001b[1mINFO    \u001b[0m | \u001b[36mprometheo.finetune\u001b[0m:\u001b[36m_train_loop\u001b[0m:\u001b[36m126\u001b[0m - \u001b[1mPROGRESS after Epoch 46/100: Train metric: 0.087, Val metric: 0.078, Best Val Loss: 0.078 (improved)\u001b[0m\n"
     ]
    },
    {
     "data": {
      "application/vnd.jupyter.widget-view+json": {
       "model_id": "471e3feed32940a1810c93a2c548ae8d",
       "version_major": 2,
       "version_minor": 0
      },
      "text/plain": [
       "Training:   0%|          | 0/136 [00:00<?, ?it/s]"
      ]
     },
     "metadata": {},
     "output_type": "display_data"
    },
    {
     "name": "stderr",
     "output_type": "stream",
     "text": [
      "\u001b[32m2025-04-18 14:47:09.561\u001b[0m | \u001b[1mINFO    \u001b[0m | \u001b[36mprometheo.finetune\u001b[0m:\u001b[36m_train_loop\u001b[0m:\u001b[36m126\u001b[0m - \u001b[1mPROGRESS after Epoch 47/100: Train metric: 0.087, Val metric: 0.078, Best Val Loss: 0.078 (improved)\u001b[0m\n"
     ]
    },
    {
     "data": {
      "application/vnd.jupyter.widget-view+json": {
       "model_id": "9f98644c57ef4f94a0a0c9191d8fc36e",
       "version_major": 2,
       "version_minor": 0
      },
      "text/plain": [
       "Training:   0%|          | 0/136 [00:00<?, ?it/s]"
      ]
     },
     "metadata": {},
     "output_type": "display_data"
    },
    {
     "name": "stderr",
     "output_type": "stream",
     "text": [
      "\u001b[32m2025-04-18 14:49:13.542\u001b[0m | \u001b[1mINFO    \u001b[0m | \u001b[36mprometheo.finetune\u001b[0m:\u001b[36m_train_loop\u001b[0m:\u001b[36m126\u001b[0m - \u001b[1mPROGRESS after Epoch 48/100: Train metric: 0.087, Val metric: 0.077, Best Val Loss: 0.077 (improved)\u001b[0m\n"
     ]
    },
    {
     "data": {
      "application/vnd.jupyter.widget-view+json": {
       "model_id": "b37a43a3adbd4fda856c554a9c33c0a8",
       "version_major": 2,
       "version_minor": 0
      },
      "text/plain": [
       "Training:   0%|          | 0/136 [00:00<?, ?it/s]"
      ]
     },
     "metadata": {},
     "output_type": "display_data"
    },
    {
     "name": "stderr",
     "output_type": "stream",
     "text": [
      "\u001b[32m2025-04-18 14:51:13.852\u001b[0m | \u001b[1mINFO    \u001b[0m | \u001b[36mprometheo.finetune\u001b[0m:\u001b[36m_train_loop\u001b[0m:\u001b[36m126\u001b[0m - \u001b[1mPROGRESS after Epoch 49/100: Train metric: 0.087, Val metric: 0.078, Best Val Loss: 0.077 (no improvement for 1 epochs)\u001b[0m\n"
     ]
    },
    {
     "data": {
      "application/vnd.jupyter.widget-view+json": {
       "model_id": "b2a987b93e8d4dc2bc984f97399fa745",
       "version_major": 2,
       "version_minor": 0
      },
      "text/plain": [
       "Training:   0%|          | 0/136 [00:00<?, ?it/s]"
      ]
     },
     "metadata": {},
     "output_type": "display_data"
    },
    {
     "name": "stderr",
     "output_type": "stream",
     "text": [
      "\u001b[32m2025-04-18 14:53:05.674\u001b[0m | \u001b[1mINFO    \u001b[0m | \u001b[36mprometheo.finetune\u001b[0m:\u001b[36m_train_loop\u001b[0m:\u001b[36m126\u001b[0m - \u001b[1mPROGRESS after Epoch 50/100: Train metric: 0.086, Val metric: 0.078, Best Val Loss: 0.077 (no improvement for 2 epochs)\u001b[0m\n"
     ]
    },
    {
     "data": {
      "application/vnd.jupyter.widget-view+json": {
       "model_id": "7ec970e53950420cad7b91ef16b1f0c1",
       "version_major": 2,
       "version_minor": 0
      },
      "text/plain": [
       "Training:   0%|          | 0/136 [00:00<?, ?it/s]"
      ]
     },
     "metadata": {},
     "output_type": "display_data"
    },
    {
     "name": "stderr",
     "output_type": "stream",
     "text": [
      "\u001b[32m2025-04-18 14:55:00.339\u001b[0m | \u001b[1mINFO    \u001b[0m | \u001b[36mprometheo.finetune\u001b[0m:\u001b[36m_train_loop\u001b[0m:\u001b[36m126\u001b[0m - \u001b[1mPROGRESS after Epoch 51/100: Train metric: 0.086, Val metric: 0.077, Best Val Loss: 0.077 (improved)\u001b[0m\n"
     ]
    },
    {
     "data": {
      "application/vnd.jupyter.widget-view+json": {
       "model_id": "27076acf169846aeba822a9a914b3f28",
       "version_major": 2,
       "version_minor": 0
      },
      "text/plain": [
       "Training:   0%|          | 0/136 [00:00<?, ?it/s]"
      ]
     },
     "metadata": {},
     "output_type": "display_data"
    },
    {
     "name": "stderr",
     "output_type": "stream",
     "text": [
      "\u001b[32m2025-04-18 14:56:52.684\u001b[0m | \u001b[1mINFO    \u001b[0m | \u001b[36mprometheo.finetune\u001b[0m:\u001b[36m_train_loop\u001b[0m:\u001b[36m126\u001b[0m - \u001b[1mPROGRESS after Epoch 52/100: Train metric: 0.086, Val metric: 0.077, Best Val Loss: 0.077 (improved)\u001b[0m\n"
     ]
    },
    {
     "data": {
      "application/vnd.jupyter.widget-view+json": {
       "model_id": "a24e1b3124574e778da3fc49db8fd91b",
       "version_major": 2,
       "version_minor": 0
      },
      "text/plain": [
       "Training:   0%|          | 0/136 [00:00<?, ?it/s]"
      ]
     },
     "metadata": {},
     "output_type": "display_data"
    },
    {
     "name": "stderr",
     "output_type": "stream",
     "text": [
      "\u001b[32m2025-04-18 14:58:46.856\u001b[0m | \u001b[1mINFO    \u001b[0m | \u001b[36mprometheo.finetune\u001b[0m:\u001b[36m_train_loop\u001b[0m:\u001b[36m126\u001b[0m - \u001b[1mPROGRESS after Epoch 53/100: Train metric: 0.086, Val metric: 0.077, Best Val Loss: 0.077 (no improvement for 1 epochs)\u001b[0m\n"
     ]
    },
    {
     "data": {
      "application/vnd.jupyter.widget-view+json": {
       "model_id": "2c5714821304457d89abc127b4f37fe1",
       "version_major": 2,
       "version_minor": 0
      },
      "text/plain": [
       "Training:   0%|          | 0/136 [00:00<?, ?it/s]"
      ]
     },
     "metadata": {},
     "output_type": "display_data"
    },
    {
     "name": "stderr",
     "output_type": "stream",
     "text": [
      "\u001b[32m2025-04-18 15:00:41.738\u001b[0m | \u001b[1mINFO    \u001b[0m | \u001b[36mprometheo.finetune\u001b[0m:\u001b[36m_train_loop\u001b[0m:\u001b[36m126\u001b[0m - \u001b[1mPROGRESS after Epoch 54/100: Train metric: 0.086, Val metric: 0.080, Best Val Loss: 0.077 (no improvement for 2 epochs)\u001b[0m\n"
     ]
    },
    {
     "data": {
      "application/vnd.jupyter.widget-view+json": {
       "model_id": "7058b23f0ccf4a8791d6d37e1eb56ed0",
       "version_major": 2,
       "version_minor": 0
      },
      "text/plain": [
       "Training:   0%|          | 0/136 [00:00<?, ?it/s]"
      ]
     },
     "metadata": {},
     "output_type": "display_data"
    },
    {
     "name": "stderr",
     "output_type": "stream",
     "text": [
      "\u001b[32m2025-04-18 15:02:28.876\u001b[0m | \u001b[1mINFO    \u001b[0m | \u001b[36mprometheo.finetune\u001b[0m:\u001b[36m_train_loop\u001b[0m:\u001b[36m126\u001b[0m - \u001b[1mPROGRESS after Epoch 55/100: Train metric: 0.086, Val metric: 0.076, Best Val Loss: 0.076 (improved)\u001b[0m\n"
     ]
    },
    {
     "data": {
      "application/vnd.jupyter.widget-view+json": {
       "model_id": "30ff461f2772408484f18c158c758aab",
       "version_major": 2,
       "version_minor": 0
      },
      "text/plain": [
       "Training:   0%|          | 0/136 [00:00<?, ?it/s]"
      ]
     },
     "metadata": {},
     "output_type": "display_data"
    },
    {
     "name": "stderr",
     "output_type": "stream",
     "text": [
      "\u001b[32m2025-04-18 15:04:22.217\u001b[0m | \u001b[1mINFO    \u001b[0m | \u001b[36mprometheo.finetune\u001b[0m:\u001b[36m_train_loop\u001b[0m:\u001b[36m126\u001b[0m - \u001b[1mPROGRESS after Epoch 56/100: Train metric: 0.086, Val metric: 0.078, Best Val Loss: 0.076 (no improvement for 1 epochs)\u001b[0m\n"
     ]
    },
    {
     "data": {
      "application/vnd.jupyter.widget-view+json": {
       "model_id": "aabf1a51a6884d56b38d850884d4685a",
       "version_major": 2,
       "version_minor": 0
      },
      "text/plain": [
       "Training:   0%|          | 0/136 [00:00<?, ?it/s]"
      ]
     },
     "metadata": {},
     "output_type": "display_data"
    },
    {
     "name": "stderr",
     "output_type": "stream",
     "text": [
      "\u001b[32m2025-04-18 15:06:11.223\u001b[0m | \u001b[1mINFO    \u001b[0m | \u001b[36mprometheo.finetune\u001b[0m:\u001b[36m_train_loop\u001b[0m:\u001b[36m126\u001b[0m - \u001b[1mPROGRESS after Epoch 57/100: Train metric: 0.086, Val metric: 0.076, Best Val Loss: 0.076 (no improvement for 2 epochs)\u001b[0m\n"
     ]
    },
    {
     "data": {
      "application/vnd.jupyter.widget-view+json": {
       "model_id": "04dafb454df2482fb2b7fc98294bba61",
       "version_major": 2,
       "version_minor": 0
      },
      "text/plain": [
       "Training:   0%|          | 0/136 [00:00<?, ?it/s]"
      ]
     },
     "metadata": {},
     "output_type": "display_data"
    },
    {
     "name": "stderr",
     "output_type": "stream",
     "text": [
      "\u001b[32m2025-04-18 15:08:04.850\u001b[0m | \u001b[1mINFO    \u001b[0m | \u001b[36mprometheo.finetune\u001b[0m:\u001b[36m_train_loop\u001b[0m:\u001b[36m126\u001b[0m - \u001b[1mPROGRESS after Epoch 58/100: Train metric: 0.086, Val metric: 0.077, Best Val Loss: 0.076 (no improvement for 3 epochs)\u001b[0m\n"
     ]
    },
    {
     "data": {
      "application/vnd.jupyter.widget-view+json": {
       "model_id": "eb76735bc7864a3b8a9b0c77637686bf",
       "version_major": 2,
       "version_minor": 0
      },
      "text/plain": [
       "Training:   0%|          | 0/136 [00:00<?, ?it/s]"
      ]
     },
     "metadata": {},
     "output_type": "display_data"
    },
    {
     "name": "stderr",
     "output_type": "stream",
     "text": [
      "\u001b[32m2025-04-18 15:09:54.132\u001b[0m | \u001b[1mINFO    \u001b[0m | \u001b[36mprometheo.finetune\u001b[0m:\u001b[36m_train_loop\u001b[0m:\u001b[36m126\u001b[0m - \u001b[1mPROGRESS after Epoch 59/100: Train metric: 0.085, Val metric: 0.077, Best Val Loss: 0.076 (no improvement for 4 epochs)\u001b[0m\n"
     ]
    },
    {
     "data": {
      "application/vnd.jupyter.widget-view+json": {
       "model_id": "5496cff358484cf5bd49a9c5e5daace4",
       "version_major": 2,
       "version_minor": 0
      },
      "text/plain": [
       "Training:   0%|          | 0/136 [00:00<?, ?it/s]"
      ]
     },
     "metadata": {},
     "output_type": "display_data"
    },
    {
     "name": "stderr",
     "output_type": "stream",
     "text": [
      "\u001b[32m2025-04-18 15:11:47.580\u001b[0m | \u001b[1mINFO    \u001b[0m | \u001b[36mprometheo.finetune\u001b[0m:\u001b[36m_train_loop\u001b[0m:\u001b[36m111\u001b[0m - \u001b[1mEarly stopping!\u001b[0m\n",
      "\u001b[32m2025-04-18 15:11:47.660\u001b[0m | \u001b[1mINFO    \u001b[0m | \u001b[36mprometheo.finetune\u001b[0m:\u001b[36mrun_finetuning\u001b[0m:\u001b[36m274\u001b[0m - \u001b[1mFinetuning done\u001b[0m\n",
      "\u001b[32m2025-04-18 15:11:47.661\u001b[0m | \u001b[1mINFO    \u001b[0m | \u001b[36mscaleagdata_vito.presto.utils\u001b[0m:\u001b[36mevaluate_finetuned_model\u001b[0m:\u001b[36m103\u001b[0m - \u001b[1mEvaluating the finetuned model on binary task\u001b[0m\n"
     ]
    },
    {
     "data": {
      "text/plain": [
       "{'0.0': {'precision': 0.5023474178403756,\n",
       "  'recall': 0.24263038548752835,\n",
       "  'f1-score': 0.327217125382263,\n",
       "  'support': 441.0},\n",
       " '1.0': {'precision': 0.9606642327169944,\n",
       "  'recall': 0.9871717293961031,\n",
       "  'f1-score': 0.9737376148979349,\n",
       "  'support': 8263.0},\n",
       " 'accuracy': 0.9494485294117647,\n",
       " 'macro avg': {'precision': 0.731505825278685,\n",
       "  'recall': 0.6149010574418157,\n",
       "  'f1-score': 0.650477370140099,\n",
       "  'support': 8704.0},\n",
       " 'weighted avg': {'precision': 0.9374429878456032,\n",
       "  'recall': 0.9494485294117647,\n",
       "  'f1-score': 0.9409807748386045,\n",
       "  'support': 8704.0}}"
      ]
     },
     "execution_count": 17,
     "metadata": {},
     "output_type": "execute_result"
    }
   ],
   "source": [
    "finetuned_model = finetune_on_task(\n",
    "                train_ds=train_ds,\n",
    "                val_ds=val_ds,\n",
    "                pretrained_model_path=pretrained_model_path,\n",
    "                output_dir=output_dir, \n",
    "                experiment_name=experiment_name,\n",
    "                max_epochs=epochs,\n",
    "                batch_size=batch_size,\n",
    "                num_workers=num_workers,\n",
    "                patience=patience,\n",
    "            )\n",
    "evaluate_finetuned_model(finetuned_model, test_ds, num_workers=2, batch_size=32)"
   ]
  },
  {
   "cell_type": "markdown",
   "metadata": {},
   "source": [
    "#### Inference using Fine-Tuned end-to-end Presto"
   ]
  },
  {
   "cell_type": "code",
   "execution_count": null,
   "metadata": {},
   "outputs": [],
   "source": [
    "finetuned_model = load_finetuned_model(output_dir / experiment_name, task_type=task_type)\n",
    "inference_file = Path(\"/home/giorgia/Private/git/worldcereal-classification/tests/worldcerealtests/testresources/worldcereal_preprocessed_inputs.nc\")"
   ]
  },
  {
   "cell_type": "code",
   "execution_count": null,
   "metadata": {},
   "outputs": [
    {
     "ename": "KeyboardInterrupt",
     "evalue": "",
     "output_type": "error",
     "traceback": [
      "\u001b[0;31m---------------------------------------------------------------------------\u001b[0m",
      "\u001b[0;31mKeyboardInterrupt\u001b[0m                         Traceback (most recent call last)",
      "Cell \u001b[0;32mIn[44], line 8\u001b[0m\n\u001b[1;32m      1\u001b[0m presto_model \u001b[38;5;241m=\u001b[39m PrestoPredictor(\n\u001b[1;32m      2\u001b[0m     model\u001b[38;5;241m=\u001b[39mfinetuned_model,\n\u001b[1;32m      3\u001b[0m     batch_size\u001b[38;5;241m=\u001b[39m\u001b[38;5;241m50\u001b[39m,\n\u001b[1;32m      4\u001b[0m     task_type\u001b[38;5;241m=\u001b[39mtask_type,\n\u001b[1;32m      5\u001b[0m     compositing_window\u001b[38;5;241m=\u001b[39mcompositing_window,\n\u001b[1;32m      6\u001b[0m )\n\u001b[0;32m----> 8\u001b[0m predictions \u001b[38;5;241m=\u001b[39m \u001b[43mpresto_model\u001b[49m\u001b[38;5;241;43m.\u001b[39;49m\u001b[43mpredict\u001b[49m\u001b[43m(\u001b[49m\u001b[43minference_file\u001b[49m\u001b[43m)\u001b[49m\n\u001b[1;32m      9\u001b[0m prob_map \u001b[38;5;241m=\u001b[39m reshape_result(predictions, path_to_input_file\u001b[38;5;241m=\u001b[39minference_file)\n\u001b[1;32m     10\u001b[0m pred_map \u001b[38;5;241m=\u001b[39m presto_model\u001b[38;5;241m.\u001b[39mget_predictions(prob_map, threshold\u001b[38;5;241m=\u001b[39m\u001b[38;5;241m0.95\u001b[39m)\n",
      "File \u001b[0;32m/data/users/Private/giorgia/git/scaleag-vito/src/scaleagdata_vito/presto/inference.py:61\u001b[0m, in \u001b[0;36mPrestoPredictor.predict\u001b[0;34m(self, path_to_file, upper_bound, lower_bound)\u001b[0m\n\u001b[1;32m     59\u001b[0m \u001b[38;5;28;01mfor\u001b[39;00m batch \u001b[38;5;129;01min\u001b[39;00m dl:\n\u001b[1;32m     60\u001b[0m     \u001b[38;5;28;01mwith\u001b[39;00m torch\u001b[38;5;241m.\u001b[39mno_grad():\n\u001b[0;32m---> 61\u001b[0m         output \u001b[38;5;241m=\u001b[39m \u001b[38;5;28;43mself\u001b[39;49m\u001b[38;5;241;43m.\u001b[39;49m\u001b[43mmodel\u001b[49m\u001b[43m(\u001b[49m\u001b[43mbatch\u001b[49m\u001b[43m,\u001b[49m\u001b[43m \u001b[49m\u001b[43minference\u001b[49m\u001b[38;5;241;43m=\u001b[39;49m\u001b[38;5;28;43;01mTrue\u001b[39;49;00m\u001b[43m)\u001b[49m\n\u001b[1;32m     62\u001b[0m         \u001b[38;5;66;03m# binary classification\u001b[39;00m\n\u001b[1;32m     63\u001b[0m         \u001b[38;5;28;01mif\u001b[39;00m \u001b[38;5;28mself\u001b[39m\u001b[38;5;241m.\u001b[39mtask_type \u001b[38;5;241m==\u001b[39m \u001b[38;5;124m\"\u001b[39m\u001b[38;5;124mbinary\u001b[39m\u001b[38;5;124m\"\u001b[39m:\n",
      "File \u001b[0;32m~/.conda/envs/veg/lib/python3.10/site-packages/torch/nn/modules/module.py:1532\u001b[0m, in \u001b[0;36mModule._wrapped_call_impl\u001b[0;34m(self, *args, **kwargs)\u001b[0m\n\u001b[1;32m   1530\u001b[0m     \u001b[38;5;28;01mreturn\u001b[39;00m \u001b[38;5;28mself\u001b[39m\u001b[38;5;241m.\u001b[39m_compiled_call_impl(\u001b[38;5;241m*\u001b[39margs, \u001b[38;5;241m*\u001b[39m\u001b[38;5;241m*\u001b[39mkwargs)  \u001b[38;5;66;03m# type: ignore[misc]\u001b[39;00m\n\u001b[1;32m   1531\u001b[0m \u001b[38;5;28;01melse\u001b[39;00m:\n\u001b[0;32m-> 1532\u001b[0m     \u001b[38;5;28;01mreturn\u001b[39;00m \u001b[38;5;28;43mself\u001b[39;49m\u001b[38;5;241;43m.\u001b[39;49m\u001b[43m_call_impl\u001b[49m\u001b[43m(\u001b[49m\u001b[38;5;241;43m*\u001b[39;49m\u001b[43margs\u001b[49m\u001b[43m,\u001b[49m\u001b[43m \u001b[49m\u001b[38;5;241;43m*\u001b[39;49m\u001b[38;5;241;43m*\u001b[39;49m\u001b[43mkwargs\u001b[49m\u001b[43m)\u001b[49m\n",
      "File \u001b[0;32m~/.conda/envs/veg/lib/python3.10/site-packages/torch/nn/modules/module.py:1541\u001b[0m, in \u001b[0;36mModule._call_impl\u001b[0;34m(self, *args, **kwargs)\u001b[0m\n\u001b[1;32m   1536\u001b[0m \u001b[38;5;66;03m# If we don't have any hooks, we want to skip the rest of the logic in\u001b[39;00m\n\u001b[1;32m   1537\u001b[0m \u001b[38;5;66;03m# this function, and just call forward.\u001b[39;00m\n\u001b[1;32m   1538\u001b[0m \u001b[38;5;28;01mif\u001b[39;00m \u001b[38;5;129;01mnot\u001b[39;00m (\u001b[38;5;28mself\u001b[39m\u001b[38;5;241m.\u001b[39m_backward_hooks \u001b[38;5;129;01mor\u001b[39;00m \u001b[38;5;28mself\u001b[39m\u001b[38;5;241m.\u001b[39m_backward_pre_hooks \u001b[38;5;129;01mor\u001b[39;00m \u001b[38;5;28mself\u001b[39m\u001b[38;5;241m.\u001b[39m_forward_hooks \u001b[38;5;129;01mor\u001b[39;00m \u001b[38;5;28mself\u001b[39m\u001b[38;5;241m.\u001b[39m_forward_pre_hooks\n\u001b[1;32m   1539\u001b[0m         \u001b[38;5;129;01mor\u001b[39;00m _global_backward_pre_hooks \u001b[38;5;129;01mor\u001b[39;00m _global_backward_hooks\n\u001b[1;32m   1540\u001b[0m         \u001b[38;5;129;01mor\u001b[39;00m _global_forward_hooks \u001b[38;5;129;01mor\u001b[39;00m _global_forward_pre_hooks):\n\u001b[0;32m-> 1541\u001b[0m     \u001b[38;5;28;01mreturn\u001b[39;00m \u001b[43mforward_call\u001b[49m\u001b[43m(\u001b[49m\u001b[38;5;241;43m*\u001b[39;49m\u001b[43margs\u001b[49m\u001b[43m,\u001b[49m\u001b[43m \u001b[49m\u001b[38;5;241;43m*\u001b[39;49m\u001b[38;5;241;43m*\u001b[39;49m\u001b[43mkwargs\u001b[49m\u001b[43m)\u001b[49m\n\u001b[1;32m   1543\u001b[0m \u001b[38;5;28;01mtry\u001b[39;00m:\n\u001b[1;32m   1544\u001b[0m     result \u001b[38;5;241m=\u001b[39m \u001b[38;5;28;01mNone\u001b[39;00m\n",
      "File \u001b[0;32m~/.conda/envs/veg/lib/python3.10/site-packages/prometheo/models/presto/wrapper.py:375\u001b[0m, in \u001b[0;36mPretrainedPrestoWrapper.forward\u001b[0;34m(self, x, eval_pooling, inference)\u001b[0m\n\u001b[1;32m    372\u001b[0m \u001b[38;5;28;01mif\u001b[39;00m x\u001b[38;5;241m.\u001b[39mtimestamps \u001b[38;5;129;01mis\u001b[39;00m \u001b[38;5;28;01mNone\u001b[39;00m:\n\u001b[1;32m    373\u001b[0m     \u001b[38;5;28;01mraise\u001b[39;00m \u001b[38;5;167;01mValueError\u001b[39;00m(\u001b[38;5;124m\"\u001b[39m\u001b[38;5;124mPresto requires input timestamps\u001b[39m\u001b[38;5;124m\"\u001b[39m)\n\u001b[0;32m--> 375\u001b[0m embeddings \u001b[38;5;241m=\u001b[39m \u001b[38;5;28;43mself\u001b[39;49m\u001b[38;5;241;43m.\u001b[39;49m\u001b[43mencoder\u001b[49m\u001b[43m(\u001b[49m\n\u001b[1;32m    376\u001b[0m \u001b[43m    \u001b[49m\u001b[43mx\u001b[49m\u001b[38;5;241;43m=\u001b[39;49m\u001b[43mto_torchtensor\u001b[49m\u001b[43m(\u001b[49m\u001b[43ms1_s2_era5_srtm\u001b[49m\u001b[43m,\u001b[49m\u001b[43m \u001b[49m\u001b[43mdevice\u001b[49m\u001b[38;5;241;43m=\u001b[39;49m\u001b[43mdevice\u001b[49m\u001b[43m)\u001b[49m\u001b[38;5;241;43m.\u001b[39;49m\u001b[43mfloat\u001b[49m\u001b[43m(\u001b[49m\u001b[43m)\u001b[49m\u001b[43m,\u001b[49m\n\u001b[1;32m    377\u001b[0m \u001b[43m    \u001b[49m\u001b[43mdynamic_world\u001b[49m\u001b[38;5;241;43m=\u001b[39;49m\u001b[43mto_torchtensor\u001b[49m\u001b[43m(\u001b[49m\u001b[43mdynamic_world\u001b[49m\u001b[43m,\u001b[49m\u001b[43m \u001b[49m\u001b[43mdevice\u001b[49m\u001b[38;5;241;43m=\u001b[39;49m\u001b[43mdevice\u001b[49m\u001b[43m)\u001b[49m\u001b[38;5;241;43m.\u001b[39;49m\u001b[43mlong\u001b[49m\u001b[43m(\u001b[49m\u001b[43m)\u001b[49m\u001b[43m,\u001b[49m\n\u001b[1;32m    378\u001b[0m \u001b[43m    \u001b[49m\u001b[43mlatlons\u001b[49m\u001b[38;5;241;43m=\u001b[39;49m\u001b[43mto_torchtensor\u001b[49m\u001b[43m(\u001b[49m\u001b[43mx\u001b[49m\u001b[38;5;241;43m.\u001b[39;49m\u001b[43mlatlon\u001b[49m\u001b[43m,\u001b[49m\u001b[43m \u001b[49m\u001b[43mdevice\u001b[49m\u001b[38;5;241;43m=\u001b[39;49m\u001b[43mdevice\u001b[49m\u001b[43m)\u001b[49m\u001b[38;5;241;43m.\u001b[39;49m\u001b[43mfloat\u001b[49m\u001b[43m(\u001b[49m\u001b[43m)\u001b[49m\u001b[43m,\u001b[49m\n\u001b[1;32m    379\u001b[0m \u001b[43m    \u001b[49m\u001b[43mmask\u001b[49m\u001b[38;5;241;43m=\u001b[39;49m\u001b[43mto_torchtensor\u001b[49m\u001b[43m(\u001b[49m\u001b[43mmask\u001b[49m\u001b[43m,\u001b[49m\u001b[43m \u001b[49m\u001b[43mdevice\u001b[49m\u001b[38;5;241;43m=\u001b[39;49m\u001b[43mdevice\u001b[49m\u001b[43m)\u001b[49m\u001b[38;5;241;43m.\u001b[39;49m\u001b[43mlong\u001b[49m\u001b[43m(\u001b[49m\u001b[43m)\u001b[49m\u001b[43m,\u001b[49m\n\u001b[1;32m    380\u001b[0m \u001b[43m    \u001b[49m\u001b[38;5;66;43;03m# presto wants 0 indexed months, not 1 indexed months\u001b[39;49;00m\n\u001b[1;32m    381\u001b[0m \u001b[43m    \u001b[49m\u001b[43mmonth\u001b[49m\u001b[38;5;241;43m=\u001b[39;49m\u001b[43mto_torchtensor\u001b[49m\u001b[43m(\u001b[49m\u001b[43mx\u001b[49m\u001b[38;5;241;43m.\u001b[39;49m\u001b[43mtimestamps\u001b[49m\u001b[43m[\u001b[49m\u001b[43m:\u001b[49m\u001b[43m,\u001b[49m\u001b[43m \u001b[49m\u001b[43m:\u001b[49m\u001b[43m,\u001b[49m\u001b[43m \u001b[49m\u001b[38;5;241;43m1\u001b[39;49m\u001b[43m]\u001b[49m\u001b[43m \u001b[49m\u001b[38;5;241;43m-\u001b[39;49m\u001b[43m \u001b[49m\u001b[38;5;241;43m1\u001b[39;49m\u001b[43m,\u001b[49m\u001b[43m \u001b[49m\u001b[43mdevice\u001b[49m\u001b[38;5;241;43m=\u001b[39;49m\u001b[43mdevice\u001b[49m\u001b[43m)\u001b[49m\u001b[43m,\u001b[49m\n\u001b[1;32m    382\u001b[0m \u001b[43m    \u001b[49m\u001b[43meval_pooling\u001b[49m\u001b[38;5;241;43m=\u001b[39;49m\u001b[43meval_pooling\u001b[49m\u001b[43m,\u001b[49m\n\u001b[1;32m    383\u001b[0m \u001b[43m\u001b[49m\u001b[43m)\u001b[49m\n\u001b[1;32m    385\u001b[0m \u001b[38;5;66;03m# Need to reintroduce spatial and temporal dims according to prometheo convention\u001b[39;00m\n\u001b[1;32m    386\u001b[0m \u001b[38;5;28;01mif\u001b[39;00m eval_pooling \u001b[38;5;241m==\u001b[39m \u001b[38;5;124m\"\u001b[39m\u001b[38;5;124mglobal\u001b[39m\u001b[38;5;124m\"\u001b[39m:\n",
      "File \u001b[0;32m~/.conda/envs/veg/lib/python3.10/site-packages/torch/nn/modules/module.py:1532\u001b[0m, in \u001b[0;36mModule._wrapped_call_impl\u001b[0;34m(self, *args, **kwargs)\u001b[0m\n\u001b[1;32m   1530\u001b[0m     \u001b[38;5;28;01mreturn\u001b[39;00m \u001b[38;5;28mself\u001b[39m\u001b[38;5;241m.\u001b[39m_compiled_call_impl(\u001b[38;5;241m*\u001b[39margs, \u001b[38;5;241m*\u001b[39m\u001b[38;5;241m*\u001b[39mkwargs)  \u001b[38;5;66;03m# type: ignore[misc]\u001b[39;00m\n\u001b[1;32m   1531\u001b[0m \u001b[38;5;28;01melse\u001b[39;00m:\n\u001b[0;32m-> 1532\u001b[0m     \u001b[38;5;28;01mreturn\u001b[39;00m \u001b[38;5;28;43mself\u001b[39;49m\u001b[38;5;241;43m.\u001b[39;49m\u001b[43m_call_impl\u001b[49m\u001b[43m(\u001b[49m\u001b[38;5;241;43m*\u001b[39;49m\u001b[43margs\u001b[49m\u001b[43m,\u001b[49m\u001b[43m \u001b[49m\u001b[38;5;241;43m*\u001b[39;49m\u001b[38;5;241;43m*\u001b[39;49m\u001b[43mkwargs\u001b[49m\u001b[43m)\u001b[49m\n",
      "File \u001b[0;32m~/.conda/envs/veg/lib/python3.10/site-packages/torch/nn/modules/module.py:1541\u001b[0m, in \u001b[0;36mModule._call_impl\u001b[0;34m(self, *args, **kwargs)\u001b[0m\n\u001b[1;32m   1536\u001b[0m \u001b[38;5;66;03m# If we don't have any hooks, we want to skip the rest of the logic in\u001b[39;00m\n\u001b[1;32m   1537\u001b[0m \u001b[38;5;66;03m# this function, and just call forward.\u001b[39;00m\n\u001b[1;32m   1538\u001b[0m \u001b[38;5;28;01mif\u001b[39;00m \u001b[38;5;129;01mnot\u001b[39;00m (\u001b[38;5;28mself\u001b[39m\u001b[38;5;241m.\u001b[39m_backward_hooks \u001b[38;5;129;01mor\u001b[39;00m \u001b[38;5;28mself\u001b[39m\u001b[38;5;241m.\u001b[39m_backward_pre_hooks \u001b[38;5;129;01mor\u001b[39;00m \u001b[38;5;28mself\u001b[39m\u001b[38;5;241m.\u001b[39m_forward_hooks \u001b[38;5;129;01mor\u001b[39;00m \u001b[38;5;28mself\u001b[39m\u001b[38;5;241m.\u001b[39m_forward_pre_hooks\n\u001b[1;32m   1539\u001b[0m         \u001b[38;5;129;01mor\u001b[39;00m _global_backward_pre_hooks \u001b[38;5;129;01mor\u001b[39;00m _global_backward_hooks\n\u001b[1;32m   1540\u001b[0m         \u001b[38;5;129;01mor\u001b[39;00m _global_forward_hooks \u001b[38;5;129;01mor\u001b[39;00m _global_forward_pre_hooks):\n\u001b[0;32m-> 1541\u001b[0m     \u001b[38;5;28;01mreturn\u001b[39;00m \u001b[43mforward_call\u001b[49m\u001b[43m(\u001b[49m\u001b[38;5;241;43m*\u001b[39;49m\u001b[43margs\u001b[49m\u001b[43m,\u001b[49m\u001b[43m \u001b[49m\u001b[38;5;241;43m*\u001b[39;49m\u001b[38;5;241;43m*\u001b[39;49m\u001b[43mkwargs\u001b[49m\u001b[43m)\u001b[49m\n\u001b[1;32m   1543\u001b[0m \u001b[38;5;28;01mtry\u001b[39;00m:\n\u001b[1;32m   1544\u001b[0m     result \u001b[38;5;241m=\u001b[39m \u001b[38;5;28;01mNone\u001b[39;00m\n",
      "File \u001b[0;32m~/.conda/envs/veg/lib/python3.10/site-packages/prometheo/models/presto/single_file_presto.py:567\u001b[0m, in \u001b[0;36mEncoder.forward\u001b[0;34m(self, x, dynamic_world, latlons, mask, month, eval_pooling)\u001b[0m\n\u001b[1;32m    565\u001b[0m \u001b[38;5;66;03m# apply Transformer blocks\u001b[39;00m\n\u001b[1;32m    566\u001b[0m \u001b[38;5;28;01mfor\u001b[39;00m blk \u001b[38;5;129;01min\u001b[39;00m \u001b[38;5;28mself\u001b[39m\u001b[38;5;241m.\u001b[39mblocks:\n\u001b[0;32m--> 567\u001b[0m     x \u001b[38;5;241m=\u001b[39m \u001b[43mblk\u001b[49m\u001b[43m(\u001b[49m\u001b[43mx\u001b[49m\u001b[43m,\u001b[49m\u001b[43m \u001b[49m\u001b[43mattn_mask\u001b[49m\u001b[38;5;241;43m=\u001b[39;49m\u001b[38;5;241;43m~\u001b[39;49m\u001b[43mupd_mask\u001b[49m\u001b[38;5;241;43m.\u001b[39;49m\u001b[43mbool\u001b[49m\u001b[43m(\u001b[49m\u001b[43m)\u001b[49m\u001b[43m)\u001b[49m\n\u001b[1;32m    569\u001b[0m \u001b[38;5;66;03m# mask will be a boolean of shape [batch, total_num_tokens]\u001b[39;00m\n\u001b[1;32m    570\u001b[0m \u001b[38;5;28;01mif\u001b[39;00m eval_pooling \u001b[38;5;129;01mis\u001b[39;00m \u001b[38;5;129;01mnot\u001b[39;00m \u001b[38;5;28;01mNone\u001b[39;00m:\n",
      "File \u001b[0;32m~/.conda/envs/veg/lib/python3.10/site-packages/torch/nn/modules/module.py:1532\u001b[0m, in \u001b[0;36mModule._wrapped_call_impl\u001b[0;34m(self, *args, **kwargs)\u001b[0m\n\u001b[1;32m   1530\u001b[0m     \u001b[38;5;28;01mreturn\u001b[39;00m \u001b[38;5;28mself\u001b[39m\u001b[38;5;241m.\u001b[39m_compiled_call_impl(\u001b[38;5;241m*\u001b[39margs, \u001b[38;5;241m*\u001b[39m\u001b[38;5;241m*\u001b[39mkwargs)  \u001b[38;5;66;03m# type: ignore[misc]\u001b[39;00m\n\u001b[1;32m   1531\u001b[0m \u001b[38;5;28;01melse\u001b[39;00m:\n\u001b[0;32m-> 1532\u001b[0m     \u001b[38;5;28;01mreturn\u001b[39;00m \u001b[38;5;28;43mself\u001b[39;49m\u001b[38;5;241;43m.\u001b[39;49m\u001b[43m_call_impl\u001b[49m\u001b[43m(\u001b[49m\u001b[38;5;241;43m*\u001b[39;49m\u001b[43margs\u001b[49m\u001b[43m,\u001b[49m\u001b[43m \u001b[49m\u001b[38;5;241;43m*\u001b[39;49m\u001b[38;5;241;43m*\u001b[39;49m\u001b[43mkwargs\u001b[49m\u001b[43m)\u001b[49m\n",
      "File \u001b[0;32m~/.conda/envs/veg/lib/python3.10/site-packages/torch/nn/modules/module.py:1541\u001b[0m, in \u001b[0;36mModule._call_impl\u001b[0;34m(self, *args, **kwargs)\u001b[0m\n\u001b[1;32m   1536\u001b[0m \u001b[38;5;66;03m# If we don't have any hooks, we want to skip the rest of the logic in\u001b[39;00m\n\u001b[1;32m   1537\u001b[0m \u001b[38;5;66;03m# this function, and just call forward.\u001b[39;00m\n\u001b[1;32m   1538\u001b[0m \u001b[38;5;28;01mif\u001b[39;00m \u001b[38;5;129;01mnot\u001b[39;00m (\u001b[38;5;28mself\u001b[39m\u001b[38;5;241m.\u001b[39m_backward_hooks \u001b[38;5;129;01mor\u001b[39;00m \u001b[38;5;28mself\u001b[39m\u001b[38;5;241m.\u001b[39m_backward_pre_hooks \u001b[38;5;129;01mor\u001b[39;00m \u001b[38;5;28mself\u001b[39m\u001b[38;5;241m.\u001b[39m_forward_hooks \u001b[38;5;129;01mor\u001b[39;00m \u001b[38;5;28mself\u001b[39m\u001b[38;5;241m.\u001b[39m_forward_pre_hooks\n\u001b[1;32m   1539\u001b[0m         \u001b[38;5;129;01mor\u001b[39;00m _global_backward_pre_hooks \u001b[38;5;129;01mor\u001b[39;00m _global_backward_hooks\n\u001b[1;32m   1540\u001b[0m         \u001b[38;5;129;01mor\u001b[39;00m _global_forward_hooks \u001b[38;5;129;01mor\u001b[39;00m _global_forward_pre_hooks):\n\u001b[0;32m-> 1541\u001b[0m     \u001b[38;5;28;01mreturn\u001b[39;00m \u001b[43mforward_call\u001b[49m\u001b[43m(\u001b[49m\u001b[38;5;241;43m*\u001b[39;49m\u001b[43margs\u001b[49m\u001b[43m,\u001b[49m\u001b[43m \u001b[49m\u001b[38;5;241;43m*\u001b[39;49m\u001b[38;5;241;43m*\u001b[39;49m\u001b[43mkwargs\u001b[49m\u001b[43m)\u001b[49m\n\u001b[1;32m   1543\u001b[0m \u001b[38;5;28;01mtry\u001b[39;00m:\n\u001b[1;32m   1544\u001b[0m     result \u001b[38;5;241m=\u001b[39m \u001b[38;5;28;01mNone\u001b[39;00m\n",
      "File \u001b[0;32m~/.conda/envs/veg/lib/python3.10/site-packages/prometheo/models/presto/single_file_presto.py:240\u001b[0m, in \u001b[0;36mBlock.forward\u001b[0;34m(self, x, attn_mask)\u001b[0m\n\u001b[1;32m    238\u001b[0m \u001b[38;5;28;01mdef\u001b[39;00m \u001b[38;5;21mforward\u001b[39m(\u001b[38;5;28mself\u001b[39m, x, attn_mask\u001b[38;5;241m=\u001b[39m\u001b[38;5;28;01mNone\u001b[39;00m):\n\u001b[1;32m    239\u001b[0m     x \u001b[38;5;241m=\u001b[39m x \u001b[38;5;241m+\u001b[39m \u001b[38;5;28mself\u001b[39m\u001b[38;5;241m.\u001b[39mls1(\u001b[38;5;28mself\u001b[39m\u001b[38;5;241m.\u001b[39mattn(\u001b[38;5;28mself\u001b[39m\u001b[38;5;241m.\u001b[39mnorm1(x), attn_mask))\n\u001b[0;32m--> 240\u001b[0m     x \u001b[38;5;241m=\u001b[39m x \u001b[38;5;241m+\u001b[39m \u001b[38;5;28mself\u001b[39m\u001b[38;5;241m.\u001b[39mls2(\u001b[38;5;28;43mself\u001b[39;49m\u001b[38;5;241;43m.\u001b[39;49m\u001b[43mmlp\u001b[49m\u001b[43m(\u001b[49m\u001b[38;5;28;43mself\u001b[39;49m\u001b[38;5;241;43m.\u001b[39;49m\u001b[43mnorm2\u001b[49m\u001b[43m(\u001b[49m\u001b[43mx\u001b[49m\u001b[43m)\u001b[49m\u001b[43m)\u001b[49m)\n\u001b[1;32m    241\u001b[0m     \u001b[38;5;28;01mreturn\u001b[39;00m x\n",
      "File \u001b[0;32m~/.conda/envs/veg/lib/python3.10/site-packages/torch/nn/modules/module.py:1532\u001b[0m, in \u001b[0;36mModule._wrapped_call_impl\u001b[0;34m(self, *args, **kwargs)\u001b[0m\n\u001b[1;32m   1530\u001b[0m     \u001b[38;5;28;01mreturn\u001b[39;00m \u001b[38;5;28mself\u001b[39m\u001b[38;5;241m.\u001b[39m_compiled_call_impl(\u001b[38;5;241m*\u001b[39margs, \u001b[38;5;241m*\u001b[39m\u001b[38;5;241m*\u001b[39mkwargs)  \u001b[38;5;66;03m# type: ignore[misc]\u001b[39;00m\n\u001b[1;32m   1531\u001b[0m \u001b[38;5;28;01melse\u001b[39;00m:\n\u001b[0;32m-> 1532\u001b[0m     \u001b[38;5;28;01mreturn\u001b[39;00m \u001b[38;5;28;43mself\u001b[39;49m\u001b[38;5;241;43m.\u001b[39;49m\u001b[43m_call_impl\u001b[49m\u001b[43m(\u001b[49m\u001b[38;5;241;43m*\u001b[39;49m\u001b[43margs\u001b[49m\u001b[43m,\u001b[49m\u001b[43m \u001b[49m\u001b[38;5;241;43m*\u001b[39;49m\u001b[38;5;241;43m*\u001b[39;49m\u001b[43mkwargs\u001b[49m\u001b[43m)\u001b[49m\n",
      "File \u001b[0;32m~/.conda/envs/veg/lib/python3.10/site-packages/torch/nn/modules/module.py:1541\u001b[0m, in \u001b[0;36mModule._call_impl\u001b[0;34m(self, *args, **kwargs)\u001b[0m\n\u001b[1;32m   1536\u001b[0m \u001b[38;5;66;03m# If we don't have any hooks, we want to skip the rest of the logic in\u001b[39;00m\n\u001b[1;32m   1537\u001b[0m \u001b[38;5;66;03m# this function, and just call forward.\u001b[39;00m\n\u001b[1;32m   1538\u001b[0m \u001b[38;5;28;01mif\u001b[39;00m \u001b[38;5;129;01mnot\u001b[39;00m (\u001b[38;5;28mself\u001b[39m\u001b[38;5;241m.\u001b[39m_backward_hooks \u001b[38;5;129;01mor\u001b[39;00m \u001b[38;5;28mself\u001b[39m\u001b[38;5;241m.\u001b[39m_backward_pre_hooks \u001b[38;5;129;01mor\u001b[39;00m \u001b[38;5;28mself\u001b[39m\u001b[38;5;241m.\u001b[39m_forward_hooks \u001b[38;5;129;01mor\u001b[39;00m \u001b[38;5;28mself\u001b[39m\u001b[38;5;241m.\u001b[39m_forward_pre_hooks\n\u001b[1;32m   1539\u001b[0m         \u001b[38;5;129;01mor\u001b[39;00m _global_backward_pre_hooks \u001b[38;5;129;01mor\u001b[39;00m _global_backward_hooks\n\u001b[1;32m   1540\u001b[0m         \u001b[38;5;129;01mor\u001b[39;00m _global_forward_hooks \u001b[38;5;129;01mor\u001b[39;00m _global_forward_pre_hooks):\n\u001b[0;32m-> 1541\u001b[0m     \u001b[38;5;28;01mreturn\u001b[39;00m \u001b[43mforward_call\u001b[49m\u001b[43m(\u001b[49m\u001b[38;5;241;43m*\u001b[39;49m\u001b[43margs\u001b[49m\u001b[43m,\u001b[49m\u001b[43m \u001b[49m\u001b[38;5;241;43m*\u001b[39;49m\u001b[38;5;241;43m*\u001b[39;49m\u001b[43mkwargs\u001b[49m\u001b[43m)\u001b[49m\n\u001b[1;32m   1543\u001b[0m \u001b[38;5;28;01mtry\u001b[39;00m:\n\u001b[1;32m   1544\u001b[0m     result \u001b[38;5;241m=\u001b[39m \u001b[38;5;28;01mNone\u001b[39;00m\n",
      "File \u001b[0;32m~/.conda/envs/veg/lib/python3.10/site-packages/prometheo/models/presto/single_file_presto.py:183\u001b[0m, in \u001b[0;36mMlp.forward\u001b[0;34m(self, x)\u001b[0m\n\u001b[1;32m    181\u001b[0m x \u001b[38;5;241m=\u001b[39m \u001b[38;5;28mself\u001b[39m\u001b[38;5;241m.\u001b[39mact(x)\n\u001b[1;32m    182\u001b[0m x \u001b[38;5;241m=\u001b[39m \u001b[38;5;28mself\u001b[39m\u001b[38;5;241m.\u001b[39mdrop1(x)\n\u001b[0;32m--> 183\u001b[0m x \u001b[38;5;241m=\u001b[39m \u001b[38;5;28;43mself\u001b[39;49m\u001b[38;5;241;43m.\u001b[39;49m\u001b[43mfc2\u001b[49m\u001b[43m(\u001b[49m\u001b[43mx\u001b[49m\u001b[43m)\u001b[49m\n\u001b[1;32m    184\u001b[0m x \u001b[38;5;241m=\u001b[39m \u001b[38;5;28mself\u001b[39m\u001b[38;5;241m.\u001b[39mdrop2(x)\n\u001b[1;32m    185\u001b[0m \u001b[38;5;28;01mreturn\u001b[39;00m x\n",
      "File \u001b[0;32m~/.conda/envs/veg/lib/python3.10/site-packages/torch/nn/modules/module.py:1532\u001b[0m, in \u001b[0;36mModule._wrapped_call_impl\u001b[0;34m(self, *args, **kwargs)\u001b[0m\n\u001b[1;32m   1530\u001b[0m     \u001b[38;5;28;01mreturn\u001b[39;00m \u001b[38;5;28mself\u001b[39m\u001b[38;5;241m.\u001b[39m_compiled_call_impl(\u001b[38;5;241m*\u001b[39margs, \u001b[38;5;241m*\u001b[39m\u001b[38;5;241m*\u001b[39mkwargs)  \u001b[38;5;66;03m# type: ignore[misc]\u001b[39;00m\n\u001b[1;32m   1531\u001b[0m \u001b[38;5;28;01melse\u001b[39;00m:\n\u001b[0;32m-> 1532\u001b[0m     \u001b[38;5;28;01mreturn\u001b[39;00m \u001b[38;5;28;43mself\u001b[39;49m\u001b[38;5;241;43m.\u001b[39;49m\u001b[43m_call_impl\u001b[49m\u001b[43m(\u001b[49m\u001b[38;5;241;43m*\u001b[39;49m\u001b[43margs\u001b[49m\u001b[43m,\u001b[49m\u001b[43m \u001b[49m\u001b[38;5;241;43m*\u001b[39;49m\u001b[38;5;241;43m*\u001b[39;49m\u001b[43mkwargs\u001b[49m\u001b[43m)\u001b[49m\n",
      "File \u001b[0;32m~/.conda/envs/veg/lib/python3.10/site-packages/torch/nn/modules/module.py:1541\u001b[0m, in \u001b[0;36mModule._call_impl\u001b[0;34m(self, *args, **kwargs)\u001b[0m\n\u001b[1;32m   1536\u001b[0m \u001b[38;5;66;03m# If we don't have any hooks, we want to skip the rest of the logic in\u001b[39;00m\n\u001b[1;32m   1537\u001b[0m \u001b[38;5;66;03m# this function, and just call forward.\u001b[39;00m\n\u001b[1;32m   1538\u001b[0m \u001b[38;5;28;01mif\u001b[39;00m \u001b[38;5;129;01mnot\u001b[39;00m (\u001b[38;5;28mself\u001b[39m\u001b[38;5;241m.\u001b[39m_backward_hooks \u001b[38;5;129;01mor\u001b[39;00m \u001b[38;5;28mself\u001b[39m\u001b[38;5;241m.\u001b[39m_backward_pre_hooks \u001b[38;5;129;01mor\u001b[39;00m \u001b[38;5;28mself\u001b[39m\u001b[38;5;241m.\u001b[39m_forward_hooks \u001b[38;5;129;01mor\u001b[39;00m \u001b[38;5;28mself\u001b[39m\u001b[38;5;241m.\u001b[39m_forward_pre_hooks\n\u001b[1;32m   1539\u001b[0m         \u001b[38;5;129;01mor\u001b[39;00m _global_backward_pre_hooks \u001b[38;5;129;01mor\u001b[39;00m _global_backward_hooks\n\u001b[1;32m   1540\u001b[0m         \u001b[38;5;129;01mor\u001b[39;00m _global_forward_hooks \u001b[38;5;129;01mor\u001b[39;00m _global_forward_pre_hooks):\n\u001b[0;32m-> 1541\u001b[0m     \u001b[38;5;28;01mreturn\u001b[39;00m \u001b[43mforward_call\u001b[49m\u001b[43m(\u001b[49m\u001b[38;5;241;43m*\u001b[39;49m\u001b[43margs\u001b[49m\u001b[43m,\u001b[49m\u001b[43m \u001b[49m\u001b[38;5;241;43m*\u001b[39;49m\u001b[38;5;241;43m*\u001b[39;49m\u001b[43mkwargs\u001b[49m\u001b[43m)\u001b[49m\n\u001b[1;32m   1543\u001b[0m \u001b[38;5;28;01mtry\u001b[39;00m:\n\u001b[1;32m   1544\u001b[0m     result \u001b[38;5;241m=\u001b[39m \u001b[38;5;28;01mNone\u001b[39;00m\n",
      "File \u001b[0;32m~/.conda/envs/veg/lib/python3.10/site-packages/torch/nn/modules/linear.py:116\u001b[0m, in \u001b[0;36mLinear.forward\u001b[0;34m(self, input)\u001b[0m\n\u001b[1;32m    115\u001b[0m \u001b[38;5;28;01mdef\u001b[39;00m \u001b[38;5;21mforward\u001b[39m(\u001b[38;5;28mself\u001b[39m, \u001b[38;5;28minput\u001b[39m: Tensor) \u001b[38;5;241m-\u001b[39m\u001b[38;5;241m>\u001b[39m Tensor:\n\u001b[0;32m--> 116\u001b[0m     \u001b[38;5;28;01mreturn\u001b[39;00m \u001b[43mF\u001b[49m\u001b[38;5;241;43m.\u001b[39;49m\u001b[43mlinear\u001b[49m\u001b[43m(\u001b[49m\u001b[38;5;28;43minput\u001b[39;49m\u001b[43m,\u001b[49m\u001b[43m \u001b[49m\u001b[38;5;28;43mself\u001b[39;49m\u001b[38;5;241;43m.\u001b[39;49m\u001b[43mweight\u001b[49m\u001b[43m,\u001b[49m\u001b[43m \u001b[49m\u001b[38;5;28;43mself\u001b[39;49m\u001b[38;5;241;43m.\u001b[39;49m\u001b[43mbias\u001b[49m\u001b[43m)\u001b[49m\n",
      "\u001b[0;31mKeyboardInterrupt\u001b[0m: "
     ]
    }
   ],
   "source": [
    "presto_model = PrestoPredictor(\n",
    "    model=finetuned_model,\n",
    "    batch_size=50,\n",
    "    task_type=task_type,\n",
    "    composite_window=composite_window,\n",
    ")\n",
    "\n",
    "predictions = presto_model.predict(inference_file)\n",
    "prob_map = reshape_result(predictions, path_to_input_file=inference_file)\n",
    "pred_map = presto_model.get_predictions(prob_map, threshold=0.95)\n",
    "plot_results(prob_map=prob_map, pred_map=pred_map, path_to_input_file=inference_file, task=task_type, ts_index=4)"
   ]
  },
  {
   "cell_type": "markdown",
   "metadata": {},
   "source": [
    "### Multiclass task: croptype classification"
   ]
  },
  {
   "cell_type": "code",
   "execution_count": 67,
   "metadata": {},
   "outputs": [
    {
     "name": "stderr",
     "output_type": "stream",
     "text": [
      "  0%|          | 0/2 [00:00<?, ?it/s]The following features are missing and are filled with NODATAVALUE: ['OPTICAL-B8A', 'METEO-precipitation_flux', 'METEO-temperature_mean']\n",
      " 50%|█████     | 1/2 [00:01<00:01,  1.54s/it]The following features are missing and are filled with NODATAVALUE: ['OPTICAL-B8A', 'METEO-precipitation_flux', 'METEO-temperature_mean']\n",
      "100%|██████████| 2/2 [00:01<00:00,  1.03it/s]\n",
      "\u001b[32m2025-04-22 11:37:00.347\u001b[0m | \u001b[1mINFO    \u001b[0m | \u001b[36mscaleagdata_vito.presto.utils\u001b[0m:\u001b[36mtrain_test_val_split\u001b[0m:\u001b[36m278\u001b[0m - \u001b[1mTraining set size: 69157\u001b[0m\n",
      "\u001b[32m2025-04-22 11:37:00.348\u001b[0m | \u001b[1mINFO    \u001b[0m | \u001b[36mscaleagdata_vito.presto.utils\u001b[0m:\u001b[36mtrain_test_val_split\u001b[0m:\u001b[36m279\u001b[0m - \u001b[1mValidation set size: 5711\u001b[0m\n",
      "\u001b[32m2025-04-22 11:37:00.349\u001b[0m | \u001b[1mINFO    \u001b[0m | \u001b[36mscaleagdata_vito.presto.utils\u001b[0m:\u001b[36mtrain_test_val_split\u001b[0m:\u001b[36m280\u001b[0m - \u001b[1mTest set size: 5325\u001b[0m\n"
     ]
    }
   ],
   "source": [
    "parquet_file = \"/home/giorgia/Private/data/worldcereal/month/\"\n",
    "\n",
    "df = load_dataset(parquet_file, composite_window=\"month\", nfiles=2)\n",
    "train_df, val_df, test_df = train_test_val_split(df=df, uniform_sample_by=\"sample_id\", sampling_frac=0.8)"
   ]
  },
  {
   "cell_type": "code",
   "execution_count": null,
   "metadata": {},
   "outputs": [],
   "source": [
    "# dataset parameters\n",
    "num_timesteps = train_df.available_timesteps.max()\n",
    "task_type = \"multiclass\"\n",
    "target_name = \"CROPTYPE_LABEL\"\n",
    "composite_window = \"month\""
   ]
  },
  {
   "cell_type": "code",
   "execution_count": null,
   "metadata": {},
   "outputs": [
    {
     "name": "stderr",
     "output_type": "stream",
     "text": [
      "\u001b[32m2025-04-22 11:37:06.750\u001b[0m | \u001b[1mINFO    \u001b[0m | \u001b[36mscaleagdata_vito.presto.datasets_prometheo\u001b[0m:\u001b[36mset_num_outputs\u001b[0m:\u001b[36m138\u001b[0m - \u001b[1mSetting to the number of classes found in the dataset for multiclass task.\u001b[0m\n",
      "\u001b[32m2025-04-22 11:37:06.773\u001b[0m | \u001b[1mINFO    \u001b[0m | \u001b[36mscaleagdata_vito.presto.datasets_prometheo\u001b[0m:\u001b[36mset_num_outputs\u001b[0m:\u001b[36m138\u001b[0m - \u001b[1mSetting to the number of classes found in the dataset for multiclass task.\u001b[0m\n",
      "\u001b[32m2025-04-22 11:37:06.789\u001b[0m | \u001b[1mINFO    \u001b[0m | \u001b[36mscaleagdata_vito.presto.datasets_prometheo\u001b[0m:\u001b[36mset_num_outputs\u001b[0m:\u001b[36m138\u001b[0m - \u001b[1mSetting to the number of classes found in the dataset for multiclass task.\u001b[0m\n"
     ]
    }
   ],
   "source": [
    "# initialize datasets\n",
    "\n",
    "train_ds = ScaleAgDataset(\n",
    "    train_df,\n",
    "    num_timesteps=num_timesteps,\n",
    "    task_type=task_type,\n",
    "    target_name=target_name,\n",
    "    composite_window=composite_window,\n",
    ")\n",
    "\n",
    "val_ds = ScaleAgDataset(\n",
    "    val_df,\n",
    "    num_timesteps=num_timesteps,\n",
    "    task_type=task_type,\n",
    "    target_name=target_name,\n",
    "    composite_window=composite_window,\n",
    ")\n",
    "\n",
    "test_ds = ScaleAgDataset(\n",
    "    test_df,\n",
    "    num_timesteps=num_timesteps,\n",
    "    task_type=task_type,\n",
    "    target_name=target_name,\n",
    "    composite_window=composite_window,\n",
    ")"
   ]
  },
  {
   "cell_type": "code",
   "execution_count": 72,
   "metadata": {},
   "outputs": [],
   "source": [
    "# set up fine tuning  hyperparameters \n",
    "epochs = 100\n",
    "batch_size = 100\n",
    "patience = 5\n",
    "num_workers = 2\n",
    "pretrained_model_path = \"https://artifactory.vgt.vito.be/artifactory/auxdata-public/scaleagdata/models/presto-ss-wc_30D.pt\"\n",
    "# pretrained_model_path = \"/home/giorgia/Private/data/worldcereal/presto-ss-wc_longparquet_random-window-cut_no-time-token_epoch96.pt\"\n",
    "\n",
    "experiment_name = \"presto_wc_ft_croptype\"\n",
    "output_dir = Path(\"/home/giorgia/Private/models_FSL/worldcereal/\")"
   ]
  },
  {
   "cell_type": "code",
   "execution_count": 74,
   "metadata": {},
   "outputs": [
    {
     "name": "stderr",
     "output_type": "stream",
     "text": [
      "\u001b[32m2025-04-22 11:55:12.245\u001b[0m | \u001b[1mINFO    \u001b[0m | \u001b[36mscaleagdata_vito.presto.utils\u001b[0m:\u001b[36mfinetune_on_task\u001b[0m:\u001b[36m199\u001b[0m - \u001b[1mFinetuning the model on multiclass task\u001b[0m\n",
      "\u001b[32m2025-04-22 11:55:12.250\u001b[0m | \u001b[1mINFO    \u001b[0m | \u001b[36mprometheo.finetune\u001b[0m:\u001b[36m_setup\u001b[0m:\u001b[36m171\u001b[0m - \u001b[1mUsing output dir: /data/users/Private/giorgia/models_FSL/worldcereal\u001b[0m\n"
     ]
    },
    {
     "data": {
      "application/vnd.jupyter.widget-view+json": {
       "model_id": "36ae64d5067c4a0e91d07b7e10cf5ff2",
       "version_major": 2,
       "version_minor": 0
      },
      "text/plain": [
       "Finetuning:   0%|          | 0/100 [00:00<?, ?it/s]"
      ]
     },
     "metadata": {},
     "output_type": "display_data"
    },
    {
     "data": {
      "application/vnd.jupyter.widget-view+json": {
       "model_id": "140eb8aeb2084269bb316346b9209983",
       "version_major": 2,
       "version_minor": 0
      },
      "text/plain": [
       "Training:   0%|          | 0/692 [00:00<?, ?it/s]"
      ]
     },
     "metadata": {},
     "output_type": "display_data"
    },
    {
     "name": "stderr",
     "output_type": "stream",
     "text": [
      "\u001b[32m2025-04-22 11:57:37.422\u001b[0m | \u001b[1mINFO    \u001b[0m | \u001b[36mprometheo.finetune\u001b[0m:\u001b[36m_train_loop\u001b[0m:\u001b[36m126\u001b[0m - \u001b[1mPROGRESS after Epoch 1/100: Train metric: 4541.203, Val metric: 202415.875, Best Val Loss: 202415.875 (improved)\u001b[0m\n"
     ]
    },
    {
     "data": {
      "application/vnd.jupyter.widget-view+json": {
       "model_id": "5624e64a976741c4a5044d61102d65fb",
       "version_major": 2,
       "version_minor": 0
      },
      "text/plain": [
       "Training:   0%|          | 0/692 [00:00<?, ?it/s]"
      ]
     },
     "metadata": {},
     "output_type": "display_data"
    },
    {
     "name": "stderr",
     "output_type": "stream",
     "text": [
      "\u001b[32m2025-04-22 11:59:55.353\u001b[0m | \u001b[1mINFO    \u001b[0m | \u001b[36mprometheo.finetune\u001b[0m:\u001b[36m_train_loop\u001b[0m:\u001b[36m126\u001b[0m - \u001b[1mPROGRESS after Epoch 2/100: Train metric: 4486.467, Val metric: 202468.312, Best Val Loss: 202415.875 (no improvement for 1 epochs)\u001b[0m\n"
     ]
    },
    {
     "data": {
      "application/vnd.jupyter.widget-view+json": {
       "model_id": "85234b7956b340fc907a11a7c20766cc",
       "version_major": 2,
       "version_minor": 0
      },
      "text/plain": [
       "Training:   0%|          | 0/692 [00:00<?, ?it/s]"
      ]
     },
     "metadata": {},
     "output_type": "display_data"
    },
    {
     "name": "stderr",
     "output_type": "stream",
     "text": [
      "\u001b[32m2025-04-22 12:02:20.471\u001b[0m | \u001b[1mINFO    \u001b[0m | \u001b[36mprometheo.finetune\u001b[0m:\u001b[36m_train_loop\u001b[0m:\u001b[36m126\u001b[0m - \u001b[1mPROGRESS after Epoch 3/100: Train metric: 4486.037, Val metric: 202478.781, Best Val Loss: 202415.875 (no improvement for 2 epochs)\u001b[0m\n"
     ]
    },
    {
     "data": {
      "application/vnd.jupyter.widget-view+json": {
       "model_id": "5426f1f664d04d3aaae248f06ded59af",
       "version_major": 2,
       "version_minor": 0
      },
      "text/plain": [
       "Training:   0%|          | 0/692 [00:00<?, ?it/s]"
      ]
     },
     "metadata": {},
     "output_type": "display_data"
    },
    {
     "name": "stderr",
     "output_type": "stream",
     "text": [
      "\u001b[32m2025-04-22 12:04:43.740\u001b[0m | \u001b[1mINFO    \u001b[0m | \u001b[36mprometheo.finetune\u001b[0m:\u001b[36m_train_loop\u001b[0m:\u001b[36m126\u001b[0m - \u001b[1mPROGRESS after Epoch 4/100: Train metric: 4486.699, Val metric: 202564.562, Best Val Loss: 202415.875 (no improvement for 3 epochs)\u001b[0m\n"
     ]
    },
    {
     "data": {
      "application/vnd.jupyter.widget-view+json": {
       "model_id": "195a4538744845288431751011437892",
       "version_major": 2,
       "version_minor": 0
      },
      "text/plain": [
       "Training:   0%|          | 0/692 [00:00<?, ?it/s]"
      ]
     },
     "metadata": {},
     "output_type": "display_data"
    },
    {
     "name": "stderr",
     "output_type": "stream",
     "text": [
      "\u001b[32m2025-04-22 12:07:02.925\u001b[0m | \u001b[1mINFO    \u001b[0m | \u001b[36mprometheo.finetune\u001b[0m:\u001b[36m_train_loop\u001b[0m:\u001b[36m126\u001b[0m - \u001b[1mPROGRESS after Epoch 5/100: Train metric: 4486.001, Val metric: 202438.422, Best Val Loss: 202415.875 (no improvement for 4 epochs)\u001b[0m\n"
     ]
    },
    {
     "data": {
      "application/vnd.jupyter.widget-view+json": {
       "model_id": "7a9cb9eda92048d2ae52754e56f90cad",
       "version_major": 2,
       "version_minor": 0
      },
      "text/plain": [
       "Training:   0%|          | 0/692 [00:00<?, ?it/s]"
      ]
     },
     "metadata": {},
     "output_type": "display_data"
    },
    {
     "name": "stderr",
     "output_type": "stream",
     "text": [
      "\u001b[32m2025-04-22 12:09:22.507\u001b[0m | \u001b[1mINFO    \u001b[0m | \u001b[36mprometheo.finetune\u001b[0m:\u001b[36m_train_loop\u001b[0m:\u001b[36m111\u001b[0m - \u001b[1mEarly stopping!\u001b[0m\n",
      "\u001b[32m2025-04-22 12:09:22.572\u001b[0m | \u001b[1mINFO    \u001b[0m | \u001b[36mprometheo.finetune\u001b[0m:\u001b[36mrun_finetuning\u001b[0m:\u001b[36m274\u001b[0m - \u001b[1mFinetuning done\u001b[0m\n",
      "\u001b[32m2025-04-22 12:09:22.580\u001b[0m | \u001b[1mINFO    \u001b[0m | \u001b[36mscaleagdata_vito.presto.utils\u001b[0m:\u001b[36mevaluate_finetuned_model\u001b[0m:\u001b[36m103\u001b[0m - \u001b[1mEvaluating the finetuned model on multiclass task\u001b[0m\n",
      "/home/giorgia/.conda/envs/veg/lib/python3.10/site-packages/sklearn/metrics/_classification.py:1517: UndefinedMetricWarning: Precision is ill-defined and being set to 0.0 in labels with no predicted samples. Use `zero_division` parameter to control this behavior.\n",
      "  _warn_prf(average, modifier, f\"{metric.capitalize()} is\", len(result))\n",
      "/home/giorgia/.conda/envs/veg/lib/python3.10/site-packages/sklearn/metrics/_classification.py:1517: UndefinedMetricWarning: Precision is ill-defined and being set to 0.0 in labels with no predicted samples. Use `zero_division` parameter to control this behavior.\n",
      "  _warn_prf(average, modifier, f\"{metric.capitalize()} is\", len(result))\n",
      "/home/giorgia/.conda/envs/veg/lib/python3.10/site-packages/sklearn/metrics/_classification.py:1517: UndefinedMetricWarning: Precision is ill-defined and being set to 0.0 in labels with no predicted samples. Use `zero_division` parameter to control this behavior.\n",
      "  _warn_prf(average, modifier, f\"{metric.capitalize()} is\", len(result))\n"
     ]
    },
    {
     "data": {
      "text/plain": [
       "{'0': {'precision': 0.0, 'recall': 0.0, 'f1-score': 0.0, 'support': 1197.0},\n",
       " '1100': {'precision': 0.0, 'recall': 0.0, 'f1-score': 0.0, 'support': 189.0},\n",
       " '1200': {'precision': 0.17652582159624414,\n",
       "  'recall': 1.0,\n",
       "  'f1-score': 0.30007980845969673,\n",
       "  'support': 8460.0},\n",
       " '1500': {'precision': 0.0, 'recall': 0.0, 'f1-score': 0.0, 'support': 45.0},\n",
       " '1700': {'precision': 0.0, 'recall': 0.0, 'f1-score': 0.0, 'support': 9.0},\n",
       " '1900': {'precision': 0.0, 'recall': 0.0, 'f1-score': 0.0, 'support': 9.0},\n",
       " '9000': {'precision': 0.0, 'recall': 0.0, 'f1-score': 0.0, 'support': 9.0},\n",
       " '9120': {'precision': 0.0, 'recall': 0.0, 'f1-score': 0.0, 'support': 549.0},\n",
       " '9998': {'precision': 0.0,\n",
       "  'recall': 0.0,\n",
       "  'f1-score': 0.0,\n",
       "  'support': 37458.0},\n",
       " 'accuracy': 0.17652582159624414,\n",
       " 'macro avg': {'precision': 0.01961398017736046,\n",
       "  'recall': 0.1111111111111111,\n",
       "  'f1-score': 0.0333422009399663,\n",
       "  'support': 47925.0},\n",
       " 'weighted avg': {'precision': 0.03116136569022901,\n",
       "  'recall': 0.17652582159624414,\n",
       "  'f1-score': 0.05297183473279153,\n",
       "  'support': 47925.0}}"
      ]
     },
     "execution_count": 74,
     "metadata": {},
     "output_type": "execute_result"
    }
   ],
   "source": [
    "finetuned_model = finetune_on_task(\n",
    "                train_ds=train_ds,\n",
    "                val_ds=val_ds,\n",
    "                pretrained_model_path=pretrained_model_path,\n",
    "                output_dir=output_dir, \n",
    "                experiment_name=experiment_name,\n",
    "                max_epochs=epochs,\n",
    "                batch_size=batch_size,\n",
    "                num_workers=num_workers,\n",
    "                patience=patience,\n",
    "            )\n",
    "evaluate_finetuned_model(finetuned_model, test_ds, num_workers=2, batch_size=32)"
   ]
  },
  {
   "cell_type": "markdown",
   "metadata": {},
   "source": [
    "#### Inference using Fine-Tuned end-to-end Presto"
   ]
  },
  {
   "cell_type": "code",
   "execution_count": 76,
   "metadata": {},
   "outputs": [],
   "source": [
    "finetuned_model = load_finetuned_model(output_dir / experiment_name, task_type=task_type, num_outputs=9)\n",
    "inference_file = Path(\"/home/giorgia/Private/git/worldcereal-classification/tests/worldcerealtests/testresources/worldcereal_preprocessed_inputs.nc\")"
   ]
  },
  {
   "cell_type": "code",
   "execution_count": null,
   "metadata": {},
   "outputs": [
    {
     "name": "stdout",
     "output_type": "stream",
     "text": [
      "The autoreload extension is already loaded. To reload it, use:\n",
      "  %reload_ext autoreload\n"
     ]
    },
    {
     "data": {
      "image/png": "[encoded data removed]",
      "text/plain": [
       "<Figure size 1000x500 with 2 Axes>"
      ]
     },
     "metadata": {},
     "output_type": "display_data"
    }
   ],
   "source": [
    "%load_ext autoreload\n",
    "%autoreload 2\n",
    "\n",
    "from scaleagdata_vito.presto.inference import reshape_result, plot_results\n",
    "presto_model = PrestoPredictor(\n",
    "    model=finetuned_model,\n",
    "    batch_size=50,\n",
    "    task_type=task_type,\n",
    "    composite_window=composite_window,\n",
    ")\n",
    "\n",
    "predictions = presto_model.predict(inference_file)\n",
    "prob_map = reshape_result(predictions, path_to_input_file=inference_file)\n",
    "pred_map = presto_model.get_predictions(prob_map)\n",
    "plot_results(pred_map=pred_map, path_to_input_file=inference_file, task=task_type, ts_index=4)"
   ]
  },
  {
   "cell_type": "code",
   "execution_count": null,
   "metadata": {},
   "outputs": [],
   "source": []
  }
 ],
 "metadata": {
  "kernelspec": {
   "display_name": "veg",
   "language": "python",
   "name": "python3"
  },
  "language_info": {
   "codemirror_mode": {
    "name": "ipython",
    "version": 3
   },
   "file_extension": ".py",
   "mimetype": "text/x-python",
   "name": "python",
   "nbconvert_exporter": "python",
   "pygments_lexer": "ipython3",
   "version": "3.10.16"
  }
 },
 "nbformat": 4,
 "nbformat_minor": 4
}
